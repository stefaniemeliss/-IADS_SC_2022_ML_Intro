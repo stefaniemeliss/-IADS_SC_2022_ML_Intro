{
 "cells": [
  {
   "cell_type": "markdown",
   "id": "b9ad028a",
   "metadata": {},
   "source": [
    "# Introduction to Scikit-learn (sklearn) Datasets\n",
    "\n",
    "## Plus doing linear and polynomial regression using Scikit-learn\n",
    "\n",
    "- Michael Fairbank 2022\n",
    "- The purpose of this notebook is to teach the basics of using Sklearn to do data fitting and inspect the results."
   ]
  },
  {
   "cell_type": "code",
   "execution_count": null,
   "id": "eec1c33c",
   "metadata": {},
   "outputs": [],
   "source": [
    "import pandas as pd\n",
    "import numpy as np\n",
    "from sklearn import datasets"
   ]
  },
  {
   "cell_type": "markdown",
   "id": "99267bc8",
   "metadata": {},
   "source": [
    "The Scikit-learn package comes with some standard datasets.  We will load the \"diabetes\" dataset as a dataframe."
   ]
  },
  {
   "cell_type": "code",
   "execution_count": null,
   "id": "48ccfe4b",
   "metadata": {},
   "outputs": [],
   "source": [
    "diabetes=datasets.load_diabetes(as_frame=True)\n",
    "print(diabetes)"
   ]
  },
  {
   "cell_type": "markdown",
   "id": "4abaabd9",
   "metadata": {},
   "source": [
    "As you see the loaded diabetes variable is a dictionary.  \n",
    "- Alter the code above to just print out the \"diabetes.DESCR\" field to learn about what the diabetes dataset consists of."
   ]
  },
  {
   "cell_type": "markdown",
   "id": "41574b87",
   "metadata": {},
   "source": [
    "The \"diabetes.data\" field contains the dataframe.   But this omits the data targets - the code below adds this \"target\" column into the dataframe, so we can work with it more easily."
   ]
  },
  {
   "cell_type": "code",
   "execution_count": null,
   "id": "9dfa4491",
   "metadata": {},
   "outputs": [],
   "source": [
    "df=diabetes.data\n",
    "df[\"disease_progression\"]=diabetes.target\n",
    "diabetes.data.head()"
   ]
  },
  {
   "cell_type": "markdown",
   "id": "7999cb32",
   "metadata": {},
   "source": [
    "## Question: \n",
    "- How many rows of data are there in the diabetes dataset?"
   ]
  },
  {
   "cell_type": "markdown",
   "id": "b4ef0788",
   "metadata": {},
   "source": [
    "## Linear Regression, using a test set\n",
    "\n",
    "We'll do a regression task on two of the columns, i.e. bmi versus disease_progression, to investigate if there is a link.\n",
    "\n",
    "- When training a regression model (or any machine-learning model), it's a good idea to only train on a subset of the data (the \"training set\") and keep part of the data separate to test on later (the \"test set\" or \"validation set\")\n",
    "\n",
    "- We'll hold out the last 60 data points for the testing set:"
   ]
  },
  {
   "cell_type": "code",
   "execution_count": null,
   "id": "1277e3e2",
   "metadata": {},
   "outputs": [],
   "source": [
    "# Use only one feature\n",
    "diabetes_X = np.reshape(df[[\"bmi\"]].values,[-1,1])\n",
    "#diabetes_X=np.concatenate([diabetes_X,diabetes_X**2],axis=1)\n",
    "diabetes_y = df[\"disease_progression\"].values\n",
    "\n",
    "# Split the data into training/testing sets\n",
    "diabetes_X_train = diabetes_X[:-60]\n",
    "diabetes_X_test = diabetes_X[-60:]\n",
    "\n",
    "# Split the targets into training/testing sets\n",
    "diabetes_y_train = diabetes_y[:-60]\n",
    "diabetes_y_test = diabetes_y[-60:]"
   ]
  },
  {
   "cell_type": "markdown",
   "id": "cc3b0cc3",
   "metadata": {},
   "source": [
    "Plot our training and test data points:"
   ]
  },
  {
   "cell_type": "code",
   "execution_count": null,
   "id": "e5a2b5a2",
   "metadata": {},
   "outputs": [],
   "source": [
    "import matplotlib.pyplot as plt\n",
    "# Plot outputs\n",
    "plt.scatter(diabetes_X_test[:,0], diabetes_y_test, label=\"test\")\n",
    "plt.scatter(diabetes_X_train[:,0], diabetes_y_train, label=\"train\")\n",
    "plt.xlabel(\"BMI\")\n",
    "plt.ylabel(\"Disease Progression\")\n",
    "plt.grid()\n",
    "plt.legend()\n",
    "plt.show()"
   ]
  },
  {
   "cell_type": "markdown",
   "id": "cb417c2c",
   "metadata": {},
   "source": [
    "Now we'll apply a very simple model (linear regression) to plot a straight line through the training points\n",
    "\n",
    "See https://scikit-learn.org/stable/modules/generated/sklearn.linear_model.LinearRegression.html for further details and options"
   ]
  },
  {
   "cell_type": "code",
   "execution_count": null,
   "id": "8621f43a",
   "metadata": {},
   "outputs": [],
   "source": [
    "from sklearn import linear_model\n",
    "\n",
    "# Create linear regression object\n",
    "regr = linear_model.LinearRegression()\n",
    "\n",
    "# Train the model using the training sets\n",
    "regr.fit(diabetes_X_train, diabetes_y_train)\n",
    "\n",
    "# Make predictions using the testing set\n",
    "diabetes_y_pred_test = regr.predict(diabetes_X_test)\n",
    "\n",
    "# The coefficients\n",
    "print(\"Coefficients: \\n\", regr.coef_, regr.intercept_)\n",
    "\n",
    "# Plot outputs\n",
    "plt.scatter(diabetes_X_test[:,0], diabetes_y_test, label=\"test\")\n",
    "x_range=np.linspace(diabetes_X_train.min(),diabetes_X_train.max(),50).reshape(-1, 1)\n",
    "plt.plot(x_range, regr.predict(x_range), color=\"blue\", linewidth=3) # Plot the regression line\n",
    "plt.xlabel(\"BMI\")\n",
    "plt.ylabel(\"Disease Progression\")\n",
    "plt.grid()\n",
    "plt.legend()\n",
    "\n",
    "plt.show()"
   ]
  },
  {
   "cell_type": "markdown",
   "id": "cf36f182",
   "metadata": {},
   "source": [
    "## Using metrics \n",
    "\n",
    "Scikit-learn includes metrics you can use to quantify how well your line-of-best fit fits the data.\n",
    "\n",
    "Note that mean-squared-error  is defined by $MSE=\\frac{1}{n}\\sum_{i=1}^n (y\\_pred(i)-y\\_true(i))^2$.\n",
    "\n",
    "The Coefficient of Determination is defined by $1-\\frac{MSE}{\\frac{1}{n}\\sum_{i=1}^n (y\\_true(i)-\\overline{y})^2$.}$, where $\\overline{y}$ is the average of $y\\_true$."
   ]
  },
  {
   "cell_type": "code",
   "execution_count": null,
   "id": "59b1d414",
   "metadata": {},
   "outputs": [],
   "source": [
    "from sklearn.metrics import mean_squared_error, r2_score\n",
    "# The mean squared error\n",
    "print(\"Mean squared error: %.2f\" % mean_squared_error(diabetes_y_test, diabetes_y_pred_test))\n",
    "# The coefficient of determination: 1 is perfect prediction\n",
    "print(\"R2 Score (Coefficient of determination) on test set: %.2f\" % r2_score(diabetes_y_test, diabetes_y_pred_test))\n"
   ]
  },
  {
   "cell_type": "markdown",
   "id": "77832629",
   "metadata": {},
   "source": [
    "## Questions \n",
    "\n",
    "- Modify the above code to print the metrics also on the training set, and compare the two.  \n",
    "- Which result is better - the test set or the training set.\n",
    "- What is the best possible value that Coefficient of Determination can ever be (in a perfect model)?"
   ]
  },
  {
   "cell_type": "markdown",
   "id": "b10c0228",
   "metadata": {},
   "source": [
    "## Plotting predicted output versus true outputs\n",
    "\n",
    "If the predictions match the true labels, then all the pints of predicted output versus actual output should line up nicely on the line y=x.  \n",
    "\n",
    "- this is a nice trick for visualising something when there are more than 1 dimension in the input data (e.g. if we were doing multi-variate regression)\n"
   ]
  },
  {
   "cell_type": "code",
   "execution_count": null,
   "id": "0ffc4484",
   "metadata": {},
   "outputs": [],
   "source": [
    "y_range=np.linspace(diabetes_y_train.min(),diabetes_y_train.max(),50)\n",
    "# Plot outputs\n",
    "plt.scatter(diabetes_y_test, diabetes_y_pred_test, label=\"test\")\n",
    "plt.plot(y_range, y_range, label=\"y=x\")\n",
    "plt.xlabel(\"Actual Disease Progression\")\n",
    "plt.ylabel(\"Predicted Disease Progression\")\n",
    "plt.grid()\n",
    "plt.legend()\n",
    "\n"
   ]
  },
  {
   "cell_type": "markdown",
   "id": "9e869ced",
   "metadata": {},
   "source": [
    "## Polynomial regression\n",
    "\n",
    "We have just attempted linear regression, i.e. finding \"$y=mx+c$\" through the datapoints.\n",
    "\n",
    "- Now we can switch to polynomial regression.  This is finding an equation \"$y=m_1 x+m_2 x^2+m_3 x^3+c$\" through the datapoints.\n",
    "\n",
    "- Note that polynomial regression is linear regression but where we use extra input features $x$, $x^2$, $x^3$, ..."
   ]
  },
  {
   "cell_type": "code",
   "execution_count": null,
   "id": "e0074b7e",
   "metadata": {},
   "outputs": [],
   "source": [
    "from sklearn.preprocessing import PolynomialFeatures\n",
    "poly = PolynomialFeatures(degree=5, include_bias=False)\n",
    "poly_features = poly.fit_transform(diabetes_X_train)\n",
    "\n",
    "# Create linear regression object\n",
    "regr = linear_model.LinearRegression()\n",
    "\n",
    "# Train the model using the training sets\n",
    "regr.fit(poly_features, diabetes_y_train)\n",
    "\n",
    "# Make predictions using the testing set\n",
    "diabetes_y_pred = regr.predict(poly.fit_transform(diabetes_X_test))\n",
    "\n",
    "\n",
    "# The coefficients\n",
    "print(\"Coefficients: \\n\", regr.coef_)\n",
    "# The mean squared error\n",
    "print(\"Mean squared error: %.2f\" % mean_squared_error(diabetes_y_test, diabetes_y_pred))\n",
    "# The coefficient of determination: 1 is perfect prediction\n",
    "print(\"R2 Score (Coefficient of determination) on test set: %.2f\" % r2_score(diabetes_y_test, diabetes_y_pred))\n",
    "\n",
    "# Plot outputs\n",
    "plt.scatter(diabetes_X_test[:,0], diabetes_y_test, label=\"test\")\n",
    "x_range=np.linspace(diabetes_X_train.min(),diabetes_X_train.max(),50).reshape(-1, 1)\n",
    "plt.plot(x_range, regr.predict(poly.fit_transform(x_range)), color=\"blue\", linewidth=3) # Plot the regression line\n",
    "plt.xlabel(\"BMI\")\n",
    "plt.ylabel(\"Disease Progression\")\n",
    "plt.grid()\n",
    "plt.legend()\n",
    "\n",
    "plt.show()"
   ]
  },
  {
   "cell_type": "markdown",
   "id": "c04d553f",
   "metadata": {},
   "source": [
    "## Questions:\n",
    "\n",
    "- Modify the code above to change the degree of the polynomial regression to 1, 2 and 5.\n",
    "- Modify the code to print separate metrics on the training and test sets.\n",
    "- If the degree of the polynomial is N, how many \"coefficients\" are printed in the code above?\n",
    "- Modify the code above to also print the y-intercept for the regression curve."
   ]
  },
  {
   "cell_type": "markdown",
   "id": "a5fef662",
   "metadata": {},
   "source": [
    "## Multiple input features (Multi-variate regression)\n",
    "\n",
    "Previosly we just looked at how one variable (BMI) correlates with another variable (Disease_progression).  \n",
    "\n",
    "Maybe we can do better at predicting disease progression if we use more than one input variable.    This leads us to try multivariate regression:"
   ]
  },
  {
   "cell_type": "code",
   "execution_count": null,
   "id": "8036b1ea",
   "metadata": {},
   "outputs": [],
   "source": [
    "# Use only one feature\n",
    "diabetes_X3 = np.reshape(df[[\"bmi\",\"bp\",\"age\"]].values,[-1,3])\n",
    "#diabetes_X=np.concatenate([diabetes_X,diabetes_X**2],axis=1)\n",
    "diabetes_y = df[\"disease_progression\"].values\n",
    "\n",
    "# Split the data into training/testing sets\n",
    "diabetes_X3_train = diabetes_X3[:-60]\n",
    "diabetes_X3_test = diabetes_X3[-60:]\n",
    "\n",
    "# Split the targets into training/testing sets\n",
    "diabetes_y_train = diabetes_y[:-60]\n",
    "diabetes_y_test = diabetes_y[-60:]\n",
    "\n",
    "from sklearn.preprocessing import PolynomialFeatures\n",
    "poly = PolynomialFeatures(degree=1, include_bias=False)\n",
    "poly_features = poly.fit_transform(diabetes_X3_train)\n",
    "\n",
    "# Create linear regression object\n",
    "regr = linear_model.LinearRegression()\n",
    "\n",
    "# Train the model using the training sets\n",
    "regr.fit(poly_features, diabetes_y_train)\n",
    "\n",
    "# Make predictions using the testing set\n",
    "diabetes_y_pred_test = regr.predict(poly.fit_transform(diabetes_X3_test))\n",
    "diabetes_y_pred_train = regr.predict(poly.fit_transform(diabetes_X3_train))\n",
    "#x_range=np.linspace(diabetes_X_train.min(),diabetes_X_train.max(),50)\n",
    "\n",
    "# The coefficients\n",
    "print(\"Coefficients: \\n\", regr.coef_)\n",
    "# The mean squared error\n",
    "print(\"Mean squared error (test set): %.2f\" % mean_squared_error(diabetes_y_test, diabetes_y_pred_test))\n",
    "# The coefficient of determination: 1 is perfect prediction\n",
    "print(\"R2 Score (Coefficient of determination) (test set): %.2f\" % r2_score(diabetes_y_test, diabetes_y_pred_test))\n",
    "print(\"Mean squared error (training set): %.2f\" % mean_squared_error(diabetes_y_train, diabetes_y_pred_train))\n",
    "# The coefficient of determination: 1 is perfect prediction\n",
    "print(\"R2 Score (Coefficient of determination) (training set): %.2f\" % r2_score(diabetes_y_train, diabetes_y_pred_train))"
   ]
  },
  {
   "cell_type": "markdown",
   "id": "ca7c3e5d",
   "metadata": {},
   "source": [
    "As multivariate regression requires higher dimensions to view the input plane, instead we'll just plot the output prediction versus actual prediction\n",
    "\n",
    "- and hope that they line up on $y=x$"
   ]
  },
  {
   "cell_type": "code",
   "execution_count": null,
   "id": "52e55bd1",
   "metadata": {},
   "outputs": [],
   "source": [
    "y_range=np.linspace(diabetes_y_train.min(),diabetes_y_train.max(),50)\n",
    "# Plot outputs\n",
    "plt.scatter(diabetes_y_test, diabetes_y_pred_test, label=\"test\")\n",
    "plt.scatter(diabetes_y_train, diabetes_y_pred_train, label=\"train\")\n",
    "plt.plot(y_range, y_range, label=\"y=x\")\n",
    "plt.xlabel(\"Actual Disease Progression\")\n",
    "plt.ylabel(\"Predicted Disease Progression\")\n",
    "plt.grid()\n",
    "plt.legend()"
   ]
  },
  {
   "cell_type": "markdown",
   "id": "16e3cbc5",
   "metadata": {},
   "source": [
    "## Questions:\n",
    "\n",
    "- In general, are the metrics better on the test set or the training set?\n",
    "\n",
    "- For the polynomial regression method, try to plot a graph (below) of R2 Score on the y-axis versus the polynomial degree on the x-axis.  Show 2 curves, one for test set and one for training set.  Try to collect all of the data through polynomial degrees 1,2,3,4,5,6,7 in a single python for loop.\n",
    "\n",
    "- What is the best regression method you can find to get the best performance on the test set?"
   ]
  }
 ],
 "metadata": {
  "kernelspec": {
   "display_name": "Python 3 (ipykernel)",
   "language": "python",
   "name": "python3"
  },
  "language_info": {
   "codemirror_mode": {
    "name": "ipython",
    "version": 3
   },
   "file_extension": ".py",
   "mimetype": "text/x-python",
   "name": "python",
   "nbconvert_exporter": "python",
   "pygments_lexer": "ipython3",
   "version": "3.10.4"
  }
 },
 "nbformat": 4,
 "nbformat_minor": 5
}
