{
  "cells": [
    {
      "cell_type": "markdown",
      "metadata": {
        "id": "view-in-github",
        "colab_type": "text"
      },
      "source": [
        "<a href=\"https://colab.research.google.com/github/stefaniemeliss/IADS_SC_2022_ML_Intro/blob/main/0_Crash_Course_v0_6_lc2_short_jupyter.ipynb\" target=\"_parent\"><img src=\"https://colab.research.google.com/assets/colab-badge.svg\" alt=\"Open In Colab\"/></a>"
      ]
    },
    {
      "cell_type": "markdown",
      "metadata": {
        "id": "-QjfTvFeDF2t"
      },
      "source": [
        "# A (Shorter) Crash Course in Python for Scientists\n",
        "\n",
        "Heavily based on the original [Notebook (v6.0)](https://gist.githubusercontent.com/rpmuller/5920182/raw/97620296ff6c01d1fc9f5b2e67006fc239bf302c/Crash%2520Course%2520v0.5.ipynb.json) by \n",
        "[Rick Muller](http://www.cs.sandia.gov/~rmuller/), Sandia National Laboratories\n",
        "\n",
        "Adapted and reduced by Luca Citi\n",
        "\n",
        "This work is licensed under a [Creative Commons Attribution-ShareAlike 3.0 Unported License](http://creativecommons.org/licenses/by-sa/3.0/deed.en_US)."
      ]
    },
    {
      "cell_type": "markdown",
      "metadata": {
        "id": "FAS33ToADF2x"
      },
      "source": [
        "## What You Need to Install\n",
        "\n",
        "These notes assume you have a Python distribution that includes:\n",
        "\n",
        "* [Python](http://www.python.org) version 3.x;\n",
        "* [Numpy](http://www.numpy.org), the core numerical extensions for linear algebra and multidimensional arrays;\n",
        "* [Scipy](http://www.scipy.org), additional libraries for scientific programming;\n",
        "* [Matplotlib](http://matplotlib.sf.net), excellent plotting and graphing libraries;\n",
        "* [Jupyter](http://jupyter.org), with the additional libraries required for the notebook interface.\n"
      ]
    },
    {
      "cell_type": "markdown",
      "metadata": {
        "id": "-VB1RkQEDF2y"
      },
      "source": [
        "# I. Python Overview\n",
        "\n",
        "The lessons that follow make use of the Jupyter (formerly IPython) notebooks.\n",
        "\n",
        "Briefly, notebooks have code cells (that are generally followed by result cells) and text cells. The text cells are the stuff that you're reading now. The code cells start with \"In []:\" with some number generally in the brackets.\n",
        "\n",
        "**If you put your cursor in the code cell and hit Shift-Enter, the code will run in the Python interpreter and the result will print out in the output cell.**\n",
        "\n",
        "You can then change things around and see whether you understand what's going on. If you need to know more, see the [Jupyter notebook documentation](http://jupyter.org/documentation.html)."
      ]
    },
    {
      "cell_type": "markdown",
      "metadata": {
        "id": "q-EH28QxDF2z"
      },
      "source": [
        "\n",
        "\n",
        "## Using Python as a Calculator"
      ]
    },
    {
      "cell_type": "markdown",
      "metadata": {
        "id": "diGSmtD8DF2z"
      },
      "source": [
        "Many of the things I used to use a calculator for, I now use Python for:"
      ]
    },
    {
      "cell_type": "code",
      "execution_count": null,
      "metadata": {
        "id": "7EiBxC2JDF2z",
        "outputId": "3b470f2b-6234-4b42-857a-951ae30af230",
        "colab": {
          "base_uri": "https://localhost:8080/"
        }
      },
      "outputs": [
        {
          "output_type": "execute_result",
          "data": {
            "text/plain": [
              "4"
            ]
          },
          "metadata": {},
          "execution_count": 1
        }
      ],
      "source": [
        "2+2"
      ]
    },
    {
      "cell_type": "code",
      "execution_count": null,
      "metadata": {
        "id": "8kQTj5XBDF21",
        "outputId": "dc99406d-5c36-4f12-aba7-5906b1d1f7f6",
        "colab": {
          "base_uri": "https://localhost:8080/"
        }
      },
      "outputs": [
        {
          "output_type": "execute_result",
          "data": {
            "text/plain": [
              "5.0"
            ]
          },
          "metadata": {},
          "execution_count": 2
        }
      ],
      "source": [
        "(50 - 5 * 6) / 4"
      ]
    },
    {
      "cell_type": "markdown",
      "metadata": {
        "id": "4yYgb-9ZDF21"
      },
      "source": [
        "In Python 3, division between integers returns a float (as you would obtain on a handheld calculator). To obtain the integer division, use a double slash:"
      ]
    },
    {
      "cell_type": "code",
      "execution_count": null,
      "metadata": {
        "id": "pFsvKVFGDF22",
        "outputId": "9c05f82e-ff36-45b4-8cb2-ebe9543d48b7",
        "colab": {
          "base_uri": "https://localhost:8080/"
        }
      },
      "outputs": [
        {
          "output_type": "stream",
          "name": "stdout",
          "text": [
            "2.3333333333333335\n",
            "2\n"
          ]
        }
      ],
      "source": [
        "print(7 / 3)\n",
        "print(7 // 3)"
      ]
    },
    {
      "cell_type": "markdown",
      "metadata": {
        "id": "s80ATFpTDF23"
      },
      "source": [
        "You can define variables using the equals (=) sign:"
      ]
    },
    {
      "cell_type": "code",
      "execution_count": null,
      "metadata": {
        "id": "ngFq7wWwDF23",
        "outputId": "90e1947b-21f0-4c02-b0bd-11925f01b440",
        "colab": {
          "base_uri": "https://localhost:8080/"
        }
      },
      "outputs": [
        {
          "output_type": "execute_result",
          "data": {
            "text/plain": [
              "600"
            ]
          },
          "metadata": {},
          "execution_count": 4
        }
      ],
      "source": [
        "width = 20\n",
        "length = 30\n",
        "area = length*width\n",
        "area"
      ]
    },
    {
      "cell_type": "markdown",
      "metadata": {
        "id": "SVM4eesRDF24"
      },
      "source": [
        "## Strings\n",
        "Strings are lists of printable characters, and can be defined using either single quotes"
      ]
    },
    {
      "cell_type": "code",
      "execution_count": null,
      "metadata": {
        "id": "rpkLxfoADF24",
        "outputId": "e767de88-0418-466a-d697-01ebdb858adf",
        "colab": {
          "base_uri": "https://localhost:8080/",
          "height": 35
        }
      },
      "outputs": [
        {
          "output_type": "execute_result",
          "data": {
            "text/plain": [
              "'Hello, World!'"
            ],
            "application/vnd.google.colaboratory.intrinsic+json": {
              "type": "string"
            }
          },
          "metadata": {},
          "execution_count": 5
        }
      ],
      "source": [
        "'Hello, World!'"
      ]
    },
    {
      "cell_type": "markdown",
      "metadata": {
        "id": "fJkuIFjtDF25"
      },
      "source": [
        "or double quotes"
      ]
    },
    {
      "cell_type": "code",
      "execution_count": null,
      "metadata": {
        "id": "Okxp9vmRDF25"
      },
      "outputs": [],
      "source": [
        "greeting = \"Hello, World!\""
      ]
    },
    {
      "cell_type": "markdown",
      "metadata": {
        "id": "x-ffCPbnDF25"
      },
      "source": [
        "The **print** function is often used for printing character strings and other objects:"
      ]
    },
    {
      "cell_type": "code",
      "execution_count": null,
      "metadata": {
        "id": "CR40KSNaDF25",
        "outputId": "485db02e-2b4c-47bf-b19e-8619bc11749a",
        "colab": {
          "base_uri": "https://localhost:8080/"
        }
      },
      "outputs": [
        {
          "output_type": "stream",
          "name": "stdout",
          "text": [
            "Hello, World! The area is 600\n"
          ]
        }
      ],
      "source": [
        "print(greeting, \"The area is\", area)"
      ]
    },
    {
      "cell_type": "markdown",
      "metadata": {
        "id": "Ujq8aB1dDF26"
      },
      "source": [
        "## Lists\n",
        "Very often in a programming language, one wants to keep a group of similar items together. Python does this using a data type called **lists**."
      ]
    },
    {
      "cell_type": "code",
      "execution_count": null,
      "metadata": {
        "id": "zJeJWWJpDF26"
      },
      "outputs": [],
      "source": [
        "days_of_the_week = [\"Sunday\",\"Monday\",\"Tuesday\",\"Wednesday\",\"Thursday\",\"Friday\",\"Saturday\"]"
      ]
    },
    {
      "cell_type": "markdown",
      "metadata": {
        "id": "J3oRY42pDF26"
      },
      "source": [
        "You can access members of the list using the **index** of that item:"
      ]
    },
    {
      "cell_type": "code",
      "execution_count": null,
      "metadata": {
        "id": "6Nd3V3AXDF27",
        "outputId": "0c2f2738-ddea-40bd-d855-8aacd72378e4",
        "colab": {
          "base_uri": "https://localhost:8080/",
          "height": 35
        }
      },
      "outputs": [
        {
          "output_type": "execute_result",
          "data": {
            "text/plain": [
              "'Tuesday'"
            ],
            "application/vnd.google.colaboratory.intrinsic+json": {
              "type": "string"
            }
          },
          "metadata": {},
          "execution_count": 18
        }
      ],
      "source": [
        "days_of_the_week[2]"
      ]
    },
    {
      "cell_type": "markdown",
      "metadata": {
        "id": "MS14zqLYDF28"
      },
      "source": [
        "Python lists, like C, but unlike Fortran, use 0 as the index of the first element of a list. Thus, in this example, the 0 element is \"Sunday\", 1 is \"Monday\", and so on. If you need to access the *n*th element from the end of the list, you can use a negative index. For example, the -1 element of a list is the last element:"
      ]
    },
    {
      "cell_type": "code",
      "execution_count": null,
      "metadata": {
        "id": "5KiFdghxDF28",
        "outputId": "615fc8e7-ae3f-4f78-eed4-76d5e6009223",
        "colab": {
          "base_uri": "https://localhost:8080/",
          "height": 35
        }
      },
      "outputs": [
        {
          "output_type": "execute_result",
          "data": {
            "text/plain": [
              "'Saturday'"
            ],
            "application/vnd.google.colaboratory.intrinsic+json": {
              "type": "string"
            }
          },
          "metadata": {},
          "execution_count": 19
        }
      ],
      "source": [
        "days_of_the_week[-1]"
      ]
    },
    {
      "cell_type": "markdown",
      "metadata": {
        "id": "ACBCdJ-qDF29"
      },
      "source": [
        "You can add additional items to the list using the .append() command:"
      ]
    },
    {
      "cell_type": "code",
      "execution_count": null,
      "metadata": {
        "id": "txUD9uviDF29",
        "outputId": "fdf7ccb6-e2a4-4ee2-8d9c-9046b91cb123",
        "colab": {
          "base_uri": "https://localhost:8080/"
        }
      },
      "outputs": [
        {
          "output_type": "stream",
          "name": "stdout",
          "text": [
            "['Fortran', 'C', 'C++', 'Python']\n"
          ]
        }
      ],
      "source": [
        "languages = [\"Fortran\",\"C\",\"C++\"]\n",
        "languages.append(\"Python\")\n",
        "print(languages)"
      ]
    },
    {
      "cell_type": "markdown",
      "metadata": {
        "id": "BkCc71gCDF29"
      },
      "source": [
        "The **range()** command is a convenient way to make sequential lists of numbers:"
      ]
    },
    {
      "cell_type": "code",
      "execution_count": null,
      "metadata": {
        "id": "gh8FFsPcDF29",
        "outputId": "5c579b58-9a31-498b-91ea-52c7c0e3a3af",
        "colab": {
          "base_uri": "https://localhost:8080/"
        }
      },
      "outputs": [
        {
          "output_type": "execute_result",
          "data": {
            "text/plain": [
              "[0, 1, 2, 3, 4, 5, 6, 7, 8, 9]"
            ]
          },
          "metadata": {},
          "execution_count": 21
        }
      ],
      "source": [
        "list(range(10))"
      ]
    },
    {
      "cell_type": "markdown",
      "metadata": {
        "id": "Qu95GQfQDF29"
      },
      "source": [
        "Note that range(n) starts at 0 and gives the sequential list of integers less than n. If you want to start at a different number, use range(start,stop)"
      ]
    },
    {
      "cell_type": "code",
      "execution_count": null,
      "metadata": {
        "id": "dgatDyQGDF29",
        "outputId": "ca7168a9-46b1-435b-faf0-fc84d97584b2",
        "colab": {
          "base_uri": "https://localhost:8080/"
        }
      },
      "outputs": [
        {
          "output_type": "execute_result",
          "data": {
            "text/plain": [
              "[2, 3, 4, 5, 6, 7]"
            ]
          },
          "metadata": {},
          "execution_count": 22
        }
      ],
      "source": [
        "list(range(2,8))"
      ]
    },
    {
      "cell_type": "markdown",
      "metadata": {
        "id": "ifQAlGGDDF2-"
      },
      "source": [
        "Lists do not have to hold the same data type. For example,"
      ]
    },
    {
      "cell_type": "code",
      "execution_count": null,
      "metadata": {
        "id": "V1ZeuaT6DF2-"
      },
      "outputs": [],
      "source": [
        "a_list = [\"Today\",7,99.3,\"\"]"
      ]
    },
    {
      "cell_type": "code",
      "execution_count": null,
      "metadata": {
        "id": "IZIOTV0CDF2-",
        "outputId": "6a62329e-64ea-43ef-8eae-9d87b32b65bc",
        "colab": {
          "base_uri": "https://localhost:8080/"
        }
      },
      "outputs": [
        {
          "output_type": "stream",
          "name": "stdout",
          "text": [
            "Help on built-in function len in module builtins:\n",
            "\n",
            "len(obj, /)\n",
            "    Return the number of items in a container.\n",
            "\n"
          ]
        }
      ],
      "source": [
        "help(len)"
      ]
    },
    {
      "cell_type": "code",
      "execution_count": null,
      "metadata": {
        "id": "arrwX12sDF2-",
        "outputId": "cb87b68b-1ee5-4de5-fae0-8a17ef3095b1",
        "colab": {
          "base_uri": "https://localhost:8080/"
        }
      },
      "outputs": [
        {
          "output_type": "execute_result",
          "data": {
            "text/plain": [
              "4"
            ]
          },
          "metadata": {},
          "execution_count": 25
        }
      ],
      "source": [
        "len(a_list)"
      ]
    },
    {
      "cell_type": "markdown",
      "metadata": {
        "id": "bBIdRSEGDF2-"
      },
      "source": [
        "## Iteration, Indentation, and Blocks\n",
        "One of the most useful things you can do with lists is to *iterate* through them, i.e. to go through each element one at a time. To do this in Python, we use the **for** statement:"
      ]
    },
    {
      "cell_type": "code",
      "execution_count": null,
      "metadata": {
        "id": "NNQ4KnsGDF2-",
        "outputId": "4ad5eea7-6b51-451a-8938-f1782f73b10a",
        "colab": {
          "base_uri": "https://localhost:8080/"
        }
      },
      "outputs": [
        {
          "output_type": "stream",
          "name": "stdout",
          "text": [
            "Sunday\n",
            "Monday\n",
            "Tuesday\n",
            "Wednesday\n",
            "Thursday\n",
            "Friday\n",
            "Saturday\n"
          ]
        }
      ],
      "source": [
        "for day in days_of_the_week:\n",
        "    print(day)"
      ]
    },
    {
      "cell_type": "markdown",
      "metadata": {
        "id": "h_t-cnGVDF2-"
      },
      "source": [
        "This code snippet goes through each element of the list called **days_of_the_week** and assigns it to the variable **day**. It then executes everything in the indented block (in this case only one line of code, the print statement) using those variable assignments. When the program has gone through every element of the list, it exists the block.\n",
        "\n",
        "(Almost) every programming language defines blocks of code in some way. In Fortran, one uses END statements (ENDDO, ENDIF, etc.) to define code blocks. In C, C++, and Perl, one uses curly braces {} to define these blocks.\n",
        "\n",
        "**Python uses a colon (\":\"), followed by indentation level to define code blocks.** Everything at a higher level of indentation is taken to be in the same block. In the above example the block was only a single line, but we could have had longer blocks as well:"
      ]
    },
    {
      "cell_type": "code",
      "execution_count": null,
      "metadata": {
        "id": "ARUhmlGgDF2_",
        "outputId": "43082ac4-e520-49d4-b139-50c6fbe727e2",
        "colab": {
          "base_uri": "https://localhost:8080/"
        }
      },
      "outputs": [
        {
          "output_type": "stream",
          "name": "stdout",
          "text": [
            "Today is Sunday\n",
            "Today is Monday\n",
            "Today is Tuesday\n",
            "Today is Wednesday\n",
            "Today is Thursday\n",
            "Today is Friday\n",
            "Today is Saturday\n"
          ]
        }
      ],
      "source": [
        "for day in days_of_the_week:\n",
        "    statement = \"Today is \" + day\n",
        "    print(statement)"
      ]
    },
    {
      "cell_type": "markdown",
      "metadata": {
        "id": "0SMrIOfXDF2_"
      },
      "source": [
        "The **range()** command is particularly useful with the **for** statement to execute loops of a specified length:"
      ]
    },
    {
      "cell_type": "code",
      "execution_count": null,
      "metadata": {
        "id": "yxFgjlw1DF2_",
        "outputId": "1b4cd1b4-715a-44eb-e097-fb47edb739df",
        "colab": {
          "base_uri": "https://localhost:8080/"
        }
      },
      "outputs": [
        {
          "output_type": "stream",
          "name": "stdout",
          "text": [
            "The square of  0  is  0\n",
            "The square of  1  is  1\n",
            "The square of  2  is  4\n",
            "The square of  3  is  9\n",
            "The square of  4  is  16\n",
            "The square of  5  is  25\n",
            "The square of  6  is  36\n",
            "The square of  7  is  49\n",
            "The square of  8  is  64\n",
            "The square of  9  is  81\n"
          ]
        }
      ],
      "source": [
        "for i in range(10):\n",
        "    print(\"The square of \", i, \" is \", i*i)"
      ]
    },
    {
      "cell_type": "markdown",
      "metadata": {
        "id": "KaHj22ehDF2_"
      },
      "source": [
        "## Slicing\n",
        "Lists and strings have something in common that you might not suspect: they can both be treated as sequences. You already know that you can iterate through the elements of a list."
      ]
    },
    {
      "cell_type": "markdown",
      "metadata": {
        "id": "IOt2g-GqDF3A"
      },
      "source": [
        "The *slicing* operation can be used on any sequence. We already know that we can use *indexing* to get the first element of a list:"
      ]
    },
    {
      "cell_type": "code",
      "execution_count": null,
      "metadata": {
        "id": "c4DnQPaKDF3A",
        "outputId": "6e7cf717-909e-49f4-ec5e-e2fc42391f80",
        "colab": {
          "base_uri": "https://localhost:8080/",
          "height": 35
        }
      },
      "outputs": [
        {
          "output_type": "execute_result",
          "data": {
            "text/plain": [
              "'Sunday'"
            ],
            "application/vnd.google.colaboratory.intrinsic+json": {
              "type": "string"
            }
          },
          "metadata": {},
          "execution_count": 29
        }
      ],
      "source": [
        "days_of_the_week[0]"
      ]
    },
    {
      "cell_type": "markdown",
      "metadata": {
        "id": "VYlzUj2GDF3A"
      },
      "source": [
        "If we want the list containing the first two elements of a list, we can do this via"
      ]
    },
    {
      "cell_type": "code",
      "execution_count": null,
      "metadata": {
        "id": "8u_rAfJKDF3A",
        "outputId": "e6a20855-c389-4888-d3fe-d4054536133e",
        "colab": {
          "base_uri": "https://localhost:8080/"
        }
      },
      "outputs": [
        {
          "output_type": "execute_result",
          "data": {
            "text/plain": [
              "['Sunday', 'Monday']"
            ]
          },
          "metadata": {},
          "execution_count": 30
        }
      ],
      "source": [
        "days_of_the_week[0:2]"
      ]
    },
    {
      "cell_type": "markdown",
      "metadata": {
        "id": "fCOf0hxaDF3A"
      },
      "source": [
        "or simply"
      ]
    },
    {
      "cell_type": "code",
      "execution_count": null,
      "metadata": {
        "id": "vAv3SCHGDF3A",
        "outputId": "4b8b993e-1ef7-4b5d-aa63-2a286d77b0ff",
        "colab": {
          "base_uri": "https://localhost:8080/"
        }
      },
      "outputs": [
        {
          "output_type": "execute_result",
          "data": {
            "text/plain": [
              "['Sunday', 'Monday']"
            ]
          },
          "metadata": {},
          "execution_count": 31
        }
      ],
      "source": [
        "days_of_the_week[:2]"
      ]
    },
    {
      "cell_type": "markdown",
      "metadata": {
        "id": "m9FzYlRoDF3A"
      },
      "source": [
        "If we want the last items of the list, we can do this with negative slicing:"
      ]
    },
    {
      "cell_type": "code",
      "execution_count": null,
      "metadata": {
        "id": "D3ed-1JFDF3B",
        "outputId": "2efef7eb-e125-43bf-b36d-b15ad1f3d00d",
        "colab": {
          "base_uri": "https://localhost:8080/"
        }
      },
      "outputs": [
        {
          "output_type": "execute_result",
          "data": {
            "text/plain": [
              "['Friday', 'Saturday']"
            ]
          },
          "metadata": {},
          "execution_count": 32
        }
      ],
      "source": [
        "days_of_the_week[-2:]"
      ]
    },
    {
      "cell_type": "markdown",
      "metadata": {
        "id": "MMObWBhUDF3B"
      },
      "source": [
        "which is somewhat logically consistent with negative indices accessing the last elements of the list.\n",
        "\n",
        "You can do:"
      ]
    },
    {
      "cell_type": "markdown",
      "metadata": {
        "id": "Myu-wewzDF3B"
      },
      "source": [
        "## Booleans and Truth Testing\n",
        "We have now learned a few data types. We have integers and floating point numbers, strings, and lists to contain them. We have also learned about lists, a container that can hold any data type. We have learned to print things out, and to iterate over items in lists. We will now learn about **boolean** variables that can be either True or False.\n",
        "\n",
        "We invariably need some concept of *conditions* in programming to control branching behavior, to allow a program to react differently to different situations. If it's Monday, I'll go to work, but if it's Sunday, I'll sleep in. To do this in Python, we use a combination of **boolean** variables, which evaluate to either True or False, and **if** statements, that control branching based on boolean values."
      ]
    },
    {
      "cell_type": "markdown",
      "metadata": {
        "id": "AJ1-adV1DF3B"
      },
      "source": [
        "For example:"
      ]
    },
    {
      "cell_type": "code",
      "execution_count": null,
      "metadata": {
        "id": "fuDT5BVDDF3B",
        "outputId": "1ac61d68-a427-4936-d1b7-8256d961f0a8",
        "colab": {
          "base_uri": "https://localhost:8080/"
        }
      },
      "outputs": [
        {
          "output_type": "stream",
          "name": "stdout",
          "text": [
            "Sleep in\n"
          ]
        }
      ],
      "source": [
        "day = \"Sunday\" # single equal -> assignment\n",
        "\n",
        "if day == \"Sunday\": # double equal -> comparison\n",
        "    print(\"Sleep in\")\n",
        "elif day == \"Saturday\":\n",
        "    print(\"Do chores\")\n",
        "else:\n",
        "    print(\"Go to work\")"
      ]
    },
    {
      "cell_type": "code",
      "execution_count": null,
      "metadata": {
        "id": "2qzRQAijDF3B",
        "outputId": "16233652-afa2-43fb-d9f2-fdf11981295a",
        "colab": {
          "base_uri": "https://localhost:8080/"
        }
      },
      "outputs": [
        {
          "output_type": "execute_result",
          "data": {
            "text/plain": [
              "True"
            ]
          },
          "metadata": {},
          "execution_count": 34
        }
      ],
      "source": [
        "50 == 2*25"
      ]
    },
    {
      "cell_type": "code",
      "execution_count": null,
      "metadata": {
        "scrolled": true,
        "id": "ObS-qoGlDF3B",
        "outputId": "3d9d1e86-814f-47e5-99bc-827e3e236b05",
        "colab": {
          "base_uri": "https://localhost:8080/"
        }
      },
      "outputs": [
        {
          "output_type": "execute_result",
          "data": {
            "text/plain": [
              "True"
            ]
          },
          "metadata": {},
          "execution_count": 35
        }
      ],
      "source": [
        "3 < 3.14159"
      ]
    },
    {
      "cell_type": "code",
      "execution_count": null,
      "metadata": {
        "id": "Ki3xjNfaDF3C",
        "outputId": "e433607f-0adf-476b-c3e8-4312a32aaae2",
        "colab": {
          "base_uri": "https://localhost:8080/"
        }
      },
      "outputs": [
        {
          "output_type": "execute_result",
          "data": {
            "text/plain": [
              "True"
            ]
          },
          "metadata": {},
          "execution_count": 36
        }
      ],
      "source": [
        "1 == 1.0"
      ]
    },
    {
      "cell_type": "code",
      "execution_count": null,
      "metadata": {
        "id": "Z9C03_PeDF3C",
        "outputId": "6b99738b-c77e-45db-f131-f5a226715d05",
        "colab": {
          "base_uri": "https://localhost:8080/"
        }
      },
      "outputs": [
        {
          "output_type": "execute_result",
          "data": {
            "text/plain": [
              "True"
            ]
          },
          "metadata": {},
          "execution_count": 37
        }
      ],
      "source": [
        "1 != 0"
      ]
    },
    {
      "cell_type": "code",
      "execution_count": null,
      "metadata": {
        "id": "WA3CPIHyDF3C",
        "outputId": "591cff86-2fd0-490e-9f03-5a97160091e8",
        "colab": {
          "base_uri": "https://localhost:8080/"
        }
      },
      "outputs": [
        {
          "output_type": "execute_result",
          "data": {
            "text/plain": [
              "True"
            ]
          },
          "metadata": {},
          "execution_count": 38
        }
      ],
      "source": [
        "1 <= 2"
      ]
    },
    {
      "cell_type": "code",
      "execution_count": null,
      "metadata": {
        "id": "V-10hLqzDF3C",
        "outputId": "76c417b7-1f81-4805-b63e-69210bd31491",
        "colab": {
          "base_uri": "https://localhost:8080/"
        }
      },
      "outputs": [
        {
          "output_type": "execute_result",
          "data": {
            "text/plain": [
              "True"
            ]
          },
          "metadata": {},
          "execution_count": 39
        }
      ],
      "source": [
        "1 >= 1"
      ]
    },
    {
      "cell_type": "markdown",
      "metadata": {
        "id": "Puc04tcsDF3C"
      },
      "source": [
        "## Functions\n",
        "We can define a function with the **def** statement in Python:"
      ]
    },
    {
      "cell_type": "code",
      "execution_count": null,
      "metadata": {
        "id": "-FDn8MbZDF3C"
      },
      "outputs": [],
      "source": [
        "def square_loss(y, target):\n",
        "    \"Return the value of the square loss\"\n",
        "    return (y - target)**2"
      ]
    },
    {
      "cell_type": "markdown",
      "metadata": {
        "id": "qxopz7WYDF3C"
      },
      "source": [
        "We can now call **square_loss()** for different arguments:"
      ]
    },
    {
      "cell_type": "code",
      "execution_count": null,
      "metadata": {
        "id": "5uxSkUEUDF3D",
        "outputId": "65312e63-e421-43d0-d820-232316931c54",
        "colab": {
          "base_uri": "https://localhost:8080/"
        }
      },
      "outputs": [
        {
          "output_type": "execute_result",
          "data": {
            "text/plain": [
              "1"
            ]
          },
          "metadata": {},
          "execution_count": 41
        }
      ],
      "source": [
        "square_loss(2, 3)"
      ]
    },
    {
      "cell_type": "code",
      "execution_count": null,
      "metadata": {
        "id": "RYKoZq1hDF3D",
        "outputId": "c2a49726-164b-4ead-c04b-ea5119983b10",
        "colab": {
          "base_uri": "https://localhost:8080/"
        }
      },
      "outputs": [
        {
          "output_type": "execute_result",
          "data": {
            "text/plain": [
              "25"
            ]
          },
          "metadata": {},
          "execution_count": 42
        }
      ],
      "source": [
        "square_loss(-2, 3)"
      ]
    },
    {
      "cell_type": "markdown",
      "metadata": {
        "id": "lLoPRtQXDF3D"
      },
      "source": [
        "## Dictionaries\n",
        "**Dictionaries** are an object called \"mappings\" or \"associative arrays\" in other languages. Whereas a list associates an integer index with a set of objects:"
      ]
    },
    {
      "cell_type": "markdown",
      "metadata": {
        "id": "VtCbUgLnDF3D"
      },
      "source": [
        "The index in a dictionary is called the *key*, and the corresponding dictionary entry is the *value*. A dictionary can use (almost) anything as the key. Whereas lists are formed with square brackets [], dictionaries use curly brackets {}:"
      ]
    },
    {
      "cell_type": "markdown",
      "metadata": {
        "id": "byjAy0LXDF3D"
      },
      "source": [
        "There's also a convenient way to create dictionaries without having to quote the keys."
      ]
    },
    {
      "cell_type": "code",
      "execution_count": null,
      "metadata": {
        "id": "CZKKdIo3DF3D",
        "outputId": "0eb39457-7378-4265-dba9-49b5b31830d8",
        "colab": {
          "base_uri": "https://localhost:8080/"
        }
      },
      "outputs": [
        {
          "output_type": "stream",
          "name": "stdout",
          "text": [
            "Rick's age is  46\n"
          ]
        }
      ],
      "source": [
        "ages = {\"Rick\": 46, \"Bob\": 86, \"Fred\": 21}\n",
        "print(\"Rick's age is \",ages[\"Rick\"])"
      ]
    },
    {
      "cell_type": "code",
      "execution_count": null,
      "metadata": {
        "id": "CWDZYwDVDF3D",
        "outputId": "0885661f-cce0-4e24-a9e6-00a725627a27",
        "colab": {
          "base_uri": "https://localhost:8080/"
        }
      },
      "outputs": [
        {
          "output_type": "execute_result",
          "data": {
            "text/plain": [
              "{'Bob': 86, 'Fred': 20, 'Rick': 46}"
            ]
          },
          "metadata": {},
          "execution_count": 44
        }
      ],
      "source": [
        "dict(Rick=46,Bob=86,Fred=20)"
      ]
    },
    {
      "cell_type": "markdown",
      "metadata": {
        "id": "TCPuySJ3DF3D"
      },
      "source": [
        "# II. Numpy and Scipy\n",
        "\n",
        "[Numpy](http://numpy.org) contains core routines for doing fast vector, matrix, and linear algebra-type operations in Python. [Scipy](http://scipy) contains additional routines for optimization, special functions, and so on. Both contain modules written in C and Fortran so that they're as fast as possible. Together, they give Python roughly the same capability that the [Matlab](http://www.mathworks.com/products/matlab/) program offers. (In fact, if you're an experienced Matlab user, there a [guide to Numpy for Matlab users](http://www.scipy.org/NumPy_for_Matlab_Users) just for you.)\n",
        "\n",
        "## Making vectors and matrices\n",
        "Fundamental to both Numpy and Scipy is the ability to work with vectors and matrices. You can create vectors from lists using the **array** command:"
      ]
    },
    {
      "cell_type": "code",
      "execution_count": null,
      "metadata": {
        "id": "9ZnhdWKKDF3E"
      },
      "outputs": [],
      "source": [
        "import numpy as np"
      ]
    },
    {
      "cell_type": "code",
      "execution_count": null,
      "metadata": {
        "id": "8B1tfWHwDF3E",
        "outputId": "9e38923b-d371-478a-834a-541e9d63833c",
        "colab": {
          "base_uri": "https://localhost:8080/"
        }
      },
      "outputs": [
        {
          "output_type": "execute_result",
          "data": {
            "text/plain": [
              "array([1, 2, 3, 4, 5, 6])"
            ]
          },
          "metadata": {},
          "execution_count": 46
        }
      ],
      "source": [
        "np.array([1,2,3,4,5,6])"
      ]
    },
    {
      "cell_type": "markdown",
      "metadata": {
        "id": "qGiDr0nKDF3E"
      },
      "source": [
        "You can pass in a second argument to **array** that gives the numeric type. There are a number of types [listed here](http://docs.scipy.org/doc/numpy/user/basics.types.html) that your matrix can be. Some of these are aliased to single character codes. The most common ones are 'd' (double precision floating point number), 'D' (double precision complex number), and 'i' (int32). Thus,"
      ]
    },
    {
      "cell_type": "markdown",
      "metadata": {
        "id": "pG1TV-hIDF3E"
      },
      "source": [
        "To build matrices, you can either use the array command with lists of lists:"
      ]
    },
    {
      "cell_type": "code",
      "execution_count": null,
      "metadata": {
        "id": "5FOQZvu-DF3E",
        "outputId": "2f88ba15-6b5f-4e97-f62f-bbcc80cfed54",
        "colab": {
          "base_uri": "https://localhost:8080/"
        }
      },
      "outputs": [
        {
          "output_type": "execute_result",
          "data": {
            "text/plain": [
              "array([[0., 1.],\n",
              "       [1., 0.]])"
            ]
          },
          "metadata": {},
          "execution_count": 47
        }
      ],
      "source": [
        "np.array([[0,1],[1,0]], 'd')"
      ]
    },
    {
      "cell_type": "markdown",
      "metadata": {
        "id": "ntQY5yfFDF3E"
      },
      "source": [
        "You can also form empty (zero) matrices of arbitrary shape (including vectors, which Numpy treats as vectors with one row), using the **zeros** command:"
      ]
    },
    {
      "cell_type": "code",
      "execution_count": null,
      "metadata": {
        "id": "04lxS_DmDF3E",
        "outputId": "1b68bdeb-f962-4f48-c9cb-c667685a6821",
        "colab": {
          "base_uri": "https://localhost:8080/"
        }
      },
      "outputs": [
        {
          "output_type": "execute_result",
          "data": {
            "text/plain": [
              "array([[0., 0., 0.],\n",
              "       [0., 0., 0.],\n",
              "       [0., 0., 0.]])"
            ]
          },
          "metadata": {},
          "execution_count": 48
        }
      ],
      "source": [
        "np.zeros((3,3), 'd')"
      ]
    },
    {
      "cell_type": "code",
      "execution_count": null,
      "metadata": {
        "id": "_mSfEsG7DF3E",
        "outputId": "b6a5a676-1b71-4fa0-d65d-c953fb5b5ccb",
        "colab": {
          "base_uri": "https://localhost:8080/"
        }
      },
      "outputs": [
        {
          "output_type": "execute_result",
          "data": {
            "text/plain": [
              "array([[1., 1., 1.]])"
            ]
          },
          "metadata": {},
          "execution_count": 49
        }
      ],
      "source": [
        "np.ones((1,3), 'd')"
      ]
    },
    {
      "cell_type": "markdown",
      "metadata": {
        "id": "BG9WnSNrDF3E"
      },
      "source": [
        "or column vectors:"
      ]
    },
    {
      "cell_type": "code",
      "execution_count": null,
      "metadata": {
        "id": "tFClq7UMDF3F",
        "outputId": "241a0313-11a6-4af6-e04f-d48d0613ad12",
        "colab": {
          "base_uri": "https://localhost:8080/"
        }
      },
      "outputs": [
        {
          "output_type": "execute_result",
          "data": {
            "text/plain": [
              "array([[1.],\n",
              "       [1.],\n",
              "       [1.]])"
            ]
          },
          "metadata": {},
          "execution_count": 50
        }
      ],
      "source": [
        "np.ones((3,1),'d')"
      ]
    },
    {
      "cell_type": "markdown",
      "metadata": {
        "id": "sKHgzUN2DF3F"
      },
      "source": [
        "There's also an **eye** (identity matrix) command:"
      ]
    },
    {
      "cell_type": "code",
      "execution_count": null,
      "metadata": {
        "id": "gSxQ90DGDF3F",
        "outputId": "0cb9b275-0204-48a4-c3cd-33e182def928",
        "colab": {
          "base_uri": "https://localhost:8080/"
        }
      },
      "outputs": [
        {
          "output_type": "execute_result",
          "data": {
            "text/plain": [
              "array([[1., 0., 0., 0.],\n",
              "       [0., 1., 0., 0.],\n",
              "       [0., 0., 1., 0.],\n",
              "       [0., 0., 0., 1.]])"
            ]
          },
          "metadata": {},
          "execution_count": 51
        }
      ],
      "source": [
        "np.eye(4)"
      ]
    },
    {
      "cell_type": "markdown",
      "metadata": {
        "id": "CurLT5c5DF3F"
      },
      "source": [
        "## Linspace, matrix functions, and plotting\n",
        "The **linspace** command makes a linear array of points from a starting to an ending value. If you provide a third argument, it takes that as the number of points in the space."
      ]
    },
    {
      "cell_type": "code",
      "execution_count": null,
      "metadata": {
        "id": "wyMU7jUaDF3F",
        "outputId": "ba70089d-cab7-4c0f-ab62-5044f6006631",
        "colab": {
          "base_uri": "https://localhost:8080/"
        }
      },
      "outputs": [
        {
          "output_type": "execute_result",
          "data": {
            "text/plain": [
              "array([0. , 0.1, 0.2, 0.3, 0.4, 0.5, 0.6, 0.7, 0.8, 0.9, 1. , 1.1, 1.2,\n",
              "       1.3, 1.4, 1.5, 1.6, 1.7, 1.8, 1.9, 2. , 2.1, 2.2, 2.3, 2.4, 2.5,\n",
              "       2.6, 2.7, 2.8, 2.9, 3. , 3.1, 3.2, 3.3, 3.4, 3.5, 3.6, 3.7, 3.8,\n",
              "       3.9, 4. ])"
            ]
          },
          "metadata": {},
          "execution_count": 52
        }
      ],
      "source": [
        "x = np.linspace(0,4,41)\n",
        "x"
      ]
    },
    {
      "cell_type": "markdown",
      "metadata": {
        "id": "uz_UucLkDF3F"
      },
      "source": [
        "**linspace** is an easy way to make coordinates for plotting. Functions in the numpy library (all of which are imported into IPython notebook) can act on an entire vector (or even a matrix) of points at once. Thus,"
      ]
    },
    {
      "cell_type": "code",
      "execution_count": null,
      "metadata": {
        "id": "96qFsYgsDF3F",
        "outputId": "55389f6d-57c4-437c-9fee-72792decbd5e",
        "colab": {
          "base_uri": "https://localhost:8080/"
        }
      },
      "outputs": [
        {
          "output_type": "execute_result",
          "data": {
            "text/plain": [
              "array([ 0.        ,  0.09983342,  0.19866933,  0.29552021,  0.38941834,\n",
              "        0.47942554,  0.56464247,  0.64421769,  0.71735609,  0.78332691,\n",
              "        0.84147098,  0.89120736,  0.93203909,  0.96355819,  0.98544973,\n",
              "        0.99749499,  0.9995736 ,  0.99166481,  0.97384763,  0.94630009,\n",
              "        0.90929743,  0.86320937,  0.8084964 ,  0.74570521,  0.67546318,\n",
              "        0.59847214,  0.51550137,  0.42737988,  0.33498815,  0.23924933,\n",
              "        0.14112001,  0.04158066, -0.05837414, -0.15774569, -0.2555411 ,\n",
              "       -0.35078323, -0.44252044, -0.52983614, -0.61185789, -0.68776616,\n",
              "       -0.7568025 ])"
            ]
          },
          "metadata": {},
          "execution_count": 53
        }
      ],
      "source": [
        "y = np.sin(x)\n",
        "y"
      ]
    },
    {
      "cell_type": "markdown",
      "metadata": {
        "id": "8GcqaFH1DF3F"
      },
      "source": [
        "In conjunction with **matplotlib**, this is a nice way to plot things. (Depending on the browser and installation, replacing the *inline* option below with *notebook* allows interactive mode.)"
      ]
    },
    {
      "cell_type": "code",
      "execution_count": null,
      "metadata": {
        "id": "Rho_JLWfDF3F"
      },
      "outputs": [],
      "source": [
        "#%matplotlib notebook\n",
        "%matplotlib inline\n",
        "import matplotlib.pyplot as plt"
      ]
    },
    {
      "cell_type": "code",
      "execution_count": null,
      "metadata": {
        "id": "5-9QoJRkDF3G",
        "outputId": "cbbf2018-0730-43fc-8d01-26f2e17b0346",
        "colab": {
          "base_uri": "https://localhost:8080/",
          "height": 265
        }
      },
      "outputs": [
        {
          "output_type": "display_data",
          "data": {
            "text/plain": [
              "<Figure size 432x288 with 1 Axes>"
            ],
            "image/png": "[encoded data removed]"
          },
          "metadata": {
            "needs_background": "light"
          }
        }
      ],
      "source": [
        "plt.figure()\n",
        "plt.plot(x, y)\n",
        "plt.show()"
      ]
    },
    {
      "cell_type": "markdown",
      "metadata": {
        "id": "o_ckVuFaDF3G"
      },
      "source": [
        "We can also plot histograms:"
      ]
    },
    {
      "cell_type": "code",
      "execution_count": null,
      "metadata": {
        "id": "iYW6cXUvDF3G",
        "outputId": "2f7a38f1-183d-46af-943f-2592d5f1e26c",
        "colab": {
          "base_uri": "https://localhost:8080/",
          "height": 265
        }
      },
      "outputs": [
        {
          "output_type": "display_data",
          "data": {
            "text/plain": [
              "<Figure size 432x288 with 1 Axes>"
            ],
            "image/png": "[encoded data removed]"
          },
          "metadata": {
            "needs_background": "light"
          }
        }
      ],
      "source": [
        "data = np.array([28, 16, 22,  8, 26, 21, 13, 15, 26, 16, 24,  1, 23, 15, 24, 5])\n",
        "\n",
        "plt.figure(figsize=(6,4))\n",
        "plt.hist(data, bins=np.linspace(start=0, stop=30, num=7))\n",
        "plt.show()"
      ]
    },
    {
      "cell_type": "markdown",
      "metadata": {
        "id": "I14skJ7QDF3G"
      },
      "source": [
        "And scatter plots:"
      ]
    },
    {
      "cell_type": "code",
      "execution_count": null,
      "metadata": {
        "id": "DARv5EKTDF3G",
        "outputId": "d38bb956-1edf-45cf-b17c-9a4c0a6eccb0",
        "colab": {
          "base_uri": "https://localhost:8080/",
          "height": 374
        }
      },
      "outputs": [
        {
          "output_type": "display_data",
          "data": {
            "text/plain": [
              "<Figure size 576x432 with 1 Axes>"
            ],
            "image/png": "[encoded data removed]"
          },
          "metadata": {
            "needs_background": "light"
          }
        }
      ],
      "source": [
        "plt.figure(figsize=(8,6))\n",
        "plt.scatter(data, x[:len(data)])\n",
        "plt.show()"
      ]
    },
    {
      "cell_type": "markdown",
      "metadata": {
        "id": "5BRxgXWyDF3G"
      },
      "source": [
        "## Matrix operations\n",
        "Matrix objects act sensibly when multiplied by scalars:"
      ]
    },
    {
      "cell_type": "code",
      "execution_count": null,
      "metadata": {
        "id": "a2sbpnnCDF3G",
        "outputId": "88f97671-9542-4ae0-bd49-7e8009891f58",
        "colab": {
          "base_uri": "https://localhost:8080/"
        }
      },
      "outputs": [
        {
          "output_type": "execute_result",
          "data": {
            "text/plain": [
              "array([[0.125, 0.   , 0.   ],\n",
              "       [0.   , 0.125, 0.   ],\n",
              "       [0.   , 0.   , 0.125]])"
            ]
          },
          "metadata": {},
          "execution_count": 58
        }
      ],
      "source": [
        "0.125 * np.eye(3)"
      ]
    },
    {
      "cell_type": "markdown",
      "metadata": {
        "id": "bvajhxw4DF3G"
      },
      "source": [
        "as well as when you add two matrices together. (However, the matrices have to be the same shape.)"
      ]
    },
    {
      "cell_type": "code",
      "execution_count": null,
      "metadata": {
        "id": "idY9AolIDF3H",
        "outputId": "c5201b42-2d53-45af-b079-aba691dde22c",
        "colab": {
          "base_uri": "https://localhost:8080/"
        }
      },
      "outputs": [
        {
          "output_type": "execute_result",
          "data": {
            "text/plain": [
              "array([[2., 1.],\n",
              "       [1., 3.]])"
            ]
          },
          "metadata": {},
          "execution_count": 59
        }
      ],
      "source": [
        "np.eye(2) + np.array([[1,1],[1,2]])"
      ]
    },
    {
      "cell_type": "markdown",
      "metadata": {
        "id": "P0rLzwH1DF3H"
      },
      "source": [
        "Something that confuses Matlab users is that the times (*) operator give element-wise multiplication rather than matrix multiplication:"
      ]
    },
    {
      "cell_type": "code",
      "execution_count": null,
      "metadata": {
        "id": "OIhq6TYaDF3H",
        "outputId": "0f53330b-9a9d-418e-f1d1-e4f00dd0ccab",
        "colab": {
          "base_uri": "https://localhost:8080/"
        }
      },
      "outputs": [
        {
          "output_type": "execute_result",
          "data": {
            "text/plain": [
              "array([[1., 0.],\n",
              "       [0., 1.]])"
            ]
          },
          "metadata": {},
          "execution_count": 60
        }
      ],
      "source": [
        "np.eye(2) * np.ones((2,2))"
      ]
    },
    {
      "cell_type": "markdown",
      "metadata": {
        "id": "Q-wgWRP-DF3H"
      },
      "source": [
        "To get matrix multiplication, you need the **dot** command:"
      ]
    },
    {
      "cell_type": "code",
      "execution_count": null,
      "metadata": {
        "id": "OFX5OjPqDF3H",
        "outputId": "080cfcdb-be12-4e2b-e296-3a5f7c52f6a9",
        "colab": {
          "base_uri": "https://localhost:8080/"
        }
      },
      "outputs": [
        {
          "output_type": "execute_result",
          "data": {
            "text/plain": [
              "array([[1., 1.],\n",
              "       [1., 1.]])"
            ]
          },
          "metadata": {},
          "execution_count": 61
        }
      ],
      "source": [
        "np.dot(np.eye(2), np.ones((2,2)))"
      ]
    },
    {
      "cell_type": "markdown",
      "metadata": {
        "id": "PFsVJrZFDF3H"
      },
      "source": [
        "In python 3, @ is a shortcut to perform matrix multiplications:"
      ]
    },
    {
      "cell_type": "code",
      "execution_count": null,
      "metadata": {
        "id": "6GYi5TriDF3H",
        "outputId": "f29ca358-7f48-43b5-f17e-4a0142ae55cc",
        "colab": {
          "base_uri": "https://localhost:8080/"
        }
      },
      "outputs": [
        {
          "output_type": "stream",
          "name": "stdout",
          "text": [
            "[[1. 1.]\n",
            " [1. 1.]]\n"
          ]
        }
      ],
      "source": [
        "import numpy as np\n",
        "print(np.eye(2) @ np.ones((2,2)))"
      ]
    },
    {
      "cell_type": "markdown",
      "metadata": {
        "id": "_3ZUZ6_KDF3H"
      },
      "source": [
        "There are **determinant**, **inverse**, and **transpose** functions that act as you would suppose. Transpose can be abbreviated with \".T\" at the end of a matrix object:"
      ]
    },
    {
      "cell_type": "code",
      "execution_count": null,
      "metadata": {
        "id": "VHPMySKdDF3I",
        "outputId": "4397cfda-a16d-4871-fa41-01bfb7330f90",
        "colab": {
          "base_uri": "https://localhost:8080/"
        }
      },
      "outputs": [
        {
          "output_type": "execute_result",
          "data": {
            "text/plain": [
              "array([[1, 3],\n",
              "       [2, 4]])"
            ]
          },
          "metadata": {},
          "execution_count": 63
        }
      ],
      "source": [
        "m = np.array([[1,2],[3,4]])\n",
        "m.T"
      ]
    },
    {
      "cell_type": "code",
      "execution_count": null,
      "metadata": {
        "id": "D0KhNp1pDF3I"
      },
      "outputs": [],
      "source": [
        ""
      ]
    }
  ],
  "metadata": {
    "kernelspec": {
      "display_name": "Python 3",
      "language": "python",
      "name": "python3"
    },
    "language_info": {
      "codemirror_mode": {
        "name": "ipython",
        "version": 3
      },
      "file_extension": ".py",
      "mimetype": "text/x-python",
      "name": "python",
      "nbconvert_exporter": "python",
      "pygments_lexer": "ipython3",
      "version": "3.8.10"
    },
    "colab": {
      "name": "0 Crash Course v0.6.lc2-short-jupyter.ipynb",
      "provenance": [],
      "include_colab_link": true
    }
  },
  "nbformat": 4,
  "nbformat_minor": 0
}