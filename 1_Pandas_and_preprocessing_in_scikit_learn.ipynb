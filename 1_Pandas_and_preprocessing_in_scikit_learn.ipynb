{
  "cells": [
    {
      "cell_type": "markdown",
      "metadata": {
        "id": "view-in-github",
        "colab_type": "text"
      },
      "source": [
        "<a href=\"https://colab.research.google.com/github/stefaniemeliss/IADS_SC_2022_ML_Intro/blob/main/1_Pandas_and_preprocessing_in_scikit_learn.ipynb\" target=\"_parent\"><img src=\"https://colab.research.google.com/assets/colab-badge.svg\" alt=\"Open In Colab\"/></a>"
      ]
    },
    {
      "cell_type": "markdown",
      "metadata": {
        "id": "yhCMwRNYErvB"
      },
      "source": [
        "# Data preparation for machine learning"
      ]
    },
    {
      "cell_type": "markdown",
      "metadata": {
        "id": "n00V8y0HErvF"
      },
      "source": [
        "By: Jacobo Fernandez-Vargas and Luca Citi\n",
        "\n",
        "Based on the [scikit-learn](http://scikit-learn.org/stable/tutorial/basic/tutorial.html) and [pandas](https://pandas.pydata.org/docs/getting_started/index.html) documentation"
      ]
    },
    {
      "cell_type": "markdown",
      "metadata": {
        "id": "f4gZLsolErvG"
      },
      "source": [
        "## Loading data with Pandas"
      ]
    },
    {
      "cell_type": "markdown",
      "metadata": {
        "id": "KauBikdfErvH"
      },
      "source": [
        "Pandas is a powerful library used in data analysis. We are not going to explore all its options but only focus on those functionalities that allow us to read data that contains non-numeric values such as text or dates. Pandas can also load data from excel files using the library 'xlrd'. Pandas supports reading and writing other complex data types such as sql, json, html and many more.\n",
        "When reading CSV files, Pandas tries to infer the type from the values in each column. We can force Pandas to treat a column as containing dates and even specify that we want to treat dates as 'dayfirst', i.e. DD/MM/YYYY (the way used in several countries, including the UK) rather than MM/DD/YYYY (like in the USA).\n",
        "If we have all numeric values in a CSV format we can also use Numpy directly to read the table but we will not have access to Pandas functionalities."
      ]
    },
    {
      "cell_type": "code",
      "execution_count": 800,
      "metadata": {
        "id": "pdnjZj5PErvI"
      },
      "outputs": [],
      "source": [
        "import pandas as pd"
      ]
    },
    {
      "cell_type": "code",
      "source": [
        "from google.colab import drive\n",
        "drive.mount('/content/drive')"
      ],
      "metadata": {
        "id": "1NohHRl4FykN",
        "outputId": "ee62d8c7-cd17-40fc-fe56-5f3d403fad4b",
        "colab": {
          "base_uri": "https://localhost:8080/"
        }
      },
      "execution_count": 801,
      "outputs": [
        {
          "output_type": "stream",
          "name": "stdout",
          "text": [
            "Drive already mounted at /content/drive; to attempt to forcibly remount, call drive.mount(\"/content/drive\", force_remount=True).\n"
          ]
        }
      ]
    },
    {
      "cell_type": "code",
      "execution_count": 802,
      "metadata": {
        "id": "sZ907bCdErvJ",
        "outputId": "45797430-440e-4eef-8158-cd711fa93db4",
        "colab": {
          "base_uri": "https://localhost:8080/",
          "height": 1000
        }
      },
      "outputs": [
        {
          "output_type": "execute_result",
          "data": {
            "text/plain": [
              "         Date  Time    Size Colour        Cost  Label\n",
              "0  2020-10-16  11.0   Small   Blue  109.521068      1\n",
              "1  2020-10-16  13.0   Small    Red  112.141170      1\n",
              "2  2020-10-16  17.0  Medium  Green  112.004677      1\n",
              "3  2020-10-17   9.0   Large  Green   15.112922      0\n",
              "4  2020-10-17  11.0   Large  Green  105.663642      1\n",
              "5  2020-10-17  17.0  Medium  Green    5.158097      0\n",
              "6  2020-10-18   9.0   Small   Blue  107.947930      1\n",
              "7  2020-10-18   NaN   Large    Red    8.320838      0\n",
              "8  2020-10-18  13.0   Large    Red  113.424684      1\n",
              "9  2020-10-18  15.0   Small   Blue  103.223563      1\n",
              "10 2020-10-18  17.0   Large    Red  115.190210      1\n",
              "11 2020-10-19   9.0  Medium   Blue  105.216665      1\n",
              "12 2020-10-19  11.0   Small    Red  103.433604      1\n",
              "13 2020-10-19  13.0   Large   Blue   15.599248      0\n",
              "14 2020-10-19  15.0   Small    Red   12.904205      0\n",
              "15 2020-10-20   9.0   Small    Red   19.042334      0\n",
              "16 2020-10-20   NaN   Large   Blue  113.658567      1\n",
              "17 2020-10-20  17.0  Medium    Red  115.991724      1\n",
              "18 2020-10-23  11.0  Medium   Blue    3.643787      0\n",
              "19 2020-10-24  11.0  Medium    Red  118.108710      1\n",
              "20 2020-10-25  11.0   Large  Green   14.973611      0\n",
              "21 2020-10-25   NaN   Large   Blue   10.699388      0\n",
              "22 2020-10-25  15.0   Large    Red  106.224366      1\n",
              "23 2020-10-26  11.0   Large    Red  114.638621      1\n",
              "24 2020-10-26  13.0   Small   Blue    1.228235      0\n",
              "25 2020-10-27  11.0   Large    Red    5.791450      0\n",
              "26 2020-10-28   9.0   Small    Red    8.606806      0\n",
              "27 2020-10-28  13.0   Large   Blue   12.414377      0\n",
              "28 2020-10-30   NaN   Large    Red  115.663402      1\n",
              "29 2020-10-30  13.0   Small   Blue  115.410273      1\n",
              "30 2020-10-30  11.0   Small    Red  105.401517      1\n",
              "31 2020-10-31  13.0  Medium  Green    0.137767      0\n",
              "32 2020-11-01   9.0   Large  Green  112.661384      1"
            ],
            "text/html": [
              "\n",
              "  <div id=\"df-a7fcc9d7-d71a-4e23-85e6-36def89d007a\">\n",
              "    <div class=\"colab-df-container\">\n",
              "      <div>\n",
              "<style scoped>\n",
              "    .dataframe tbody tr th:only-of-type {\n",
              "        vertical-align: middle;\n",
              "    }\n",
              "\n",
              "    .dataframe tbody tr th {\n",
              "        vertical-align: top;\n",
              "    }\n",
              "\n",
              "    .dataframe thead th {\n",
              "        text-align: right;\n",
              "    }\n",
              "</style>\n",
              "<table border=\"1\" class=\"dataframe\">\n",
              "  <thead>\n",
              "    <tr style=\"text-align: right;\">\n",
              "      <th></th>\n",
              "      <th>Date</th>\n",
              "      <th>Time</th>\n",
              "      <th>Size</th>\n",
              "      <th>Colour</th>\n",
              "      <th>Cost</th>\n",
              "      <th>Label</th>\n",
              "    </tr>\n",
              "  </thead>\n",
              "  <tbody>\n",
              "    <tr>\n",
              "      <th>0</th>\n",
              "      <td>2020-10-16</td>\n",
              "      <td>11.0</td>\n",
              "      <td>Small</td>\n",
              "      <td>Blue</td>\n",
              "      <td>109.521068</td>\n",
              "      <td>1</td>\n",
              "    </tr>\n",
              "    <tr>\n",
              "      <th>1</th>\n",
              "      <td>2020-10-16</td>\n",
              "      <td>13.0</td>\n",
              "      <td>Small</td>\n",
              "      <td>Red</td>\n",
              "      <td>112.141170</td>\n",
              "      <td>1</td>\n",
              "    </tr>\n",
              "    <tr>\n",
              "      <th>2</th>\n",
              "      <td>2020-10-16</td>\n",
              "      <td>17.0</td>\n",
              "      <td>Medium</td>\n",
              "      <td>Green</td>\n",
              "      <td>112.004677</td>\n",
              "      <td>1</td>\n",
              "    </tr>\n",
              "    <tr>\n",
              "      <th>3</th>\n",
              "      <td>2020-10-17</td>\n",
              "      <td>9.0</td>\n",
              "      <td>Large</td>\n",
              "      <td>Green</td>\n",
              "      <td>15.112922</td>\n",
              "      <td>0</td>\n",
              "    </tr>\n",
              "    <tr>\n",
              "      <th>4</th>\n",
              "      <td>2020-10-17</td>\n",
              "      <td>11.0</td>\n",
              "      <td>Large</td>\n",
              "      <td>Green</td>\n",
              "      <td>105.663642</td>\n",
              "      <td>1</td>\n",
              "    </tr>\n",
              "    <tr>\n",
              "      <th>5</th>\n",
              "      <td>2020-10-17</td>\n",
              "      <td>17.0</td>\n",
              "      <td>Medium</td>\n",
              "      <td>Green</td>\n",
              "      <td>5.158097</td>\n",
              "      <td>0</td>\n",
              "    </tr>\n",
              "    <tr>\n",
              "      <th>6</th>\n",
              "      <td>2020-10-18</td>\n",
              "      <td>9.0</td>\n",
              "      <td>Small</td>\n",
              "      <td>Blue</td>\n",
              "      <td>107.947930</td>\n",
              "      <td>1</td>\n",
              "    </tr>\n",
              "    <tr>\n",
              "      <th>7</th>\n",
              "      <td>2020-10-18</td>\n",
              "      <td>NaN</td>\n",
              "      <td>Large</td>\n",
              "      <td>Red</td>\n",
              "      <td>8.320838</td>\n",
              "      <td>0</td>\n",
              "    </tr>\n",
              "    <tr>\n",
              "      <th>8</th>\n",
              "      <td>2020-10-18</td>\n",
              "      <td>13.0</td>\n",
              "      <td>Large</td>\n",
              "      <td>Red</td>\n",
              "      <td>113.424684</td>\n",
              "      <td>1</td>\n",
              "    </tr>\n",
              "    <tr>\n",
              "      <th>9</th>\n",
              "      <td>2020-10-18</td>\n",
              "      <td>15.0</td>\n",
              "      <td>Small</td>\n",
              "      <td>Blue</td>\n",
              "      <td>103.223563</td>\n",
              "      <td>1</td>\n",
              "    </tr>\n",
              "    <tr>\n",
              "      <th>10</th>\n",
              "      <td>2020-10-18</td>\n",
              "      <td>17.0</td>\n",
              "      <td>Large</td>\n",
              "      <td>Red</td>\n",
              "      <td>115.190210</td>\n",
              "      <td>1</td>\n",
              "    </tr>\n",
              "    <tr>\n",
              "      <th>11</th>\n",
              "      <td>2020-10-19</td>\n",
              "      <td>9.0</td>\n",
              "      <td>Medium</td>\n",
              "      <td>Blue</td>\n",
              "      <td>105.216665</td>\n",
              "      <td>1</td>\n",
              "    </tr>\n",
              "    <tr>\n",
              "      <th>12</th>\n",
              "      <td>2020-10-19</td>\n",
              "      <td>11.0</td>\n",
              "      <td>Small</td>\n",
              "      <td>Red</td>\n",
              "      <td>103.433604</td>\n",
              "      <td>1</td>\n",
              "    </tr>\n",
              "    <tr>\n",
              "      <th>13</th>\n",
              "      <td>2020-10-19</td>\n",
              "      <td>13.0</td>\n",
              "      <td>Large</td>\n",
              "      <td>Blue</td>\n",
              "      <td>15.599248</td>\n",
              "      <td>0</td>\n",
              "    </tr>\n",
              "    <tr>\n",
              "      <th>14</th>\n",
              "      <td>2020-10-19</td>\n",
              "      <td>15.0</td>\n",
              "      <td>Small</td>\n",
              "      <td>Red</td>\n",
              "      <td>12.904205</td>\n",
              "      <td>0</td>\n",
              "    </tr>\n",
              "    <tr>\n",
              "      <th>15</th>\n",
              "      <td>2020-10-20</td>\n",
              "      <td>9.0</td>\n",
              "      <td>Small</td>\n",
              "      <td>Red</td>\n",
              "      <td>19.042334</td>\n",
              "      <td>0</td>\n",
              "    </tr>\n",
              "    <tr>\n",
              "      <th>16</th>\n",
              "      <td>2020-10-20</td>\n",
              "      <td>NaN</td>\n",
              "      <td>Large</td>\n",
              "      <td>Blue</td>\n",
              "      <td>113.658567</td>\n",
              "      <td>1</td>\n",
              "    </tr>\n",
              "    <tr>\n",
              "      <th>17</th>\n",
              "      <td>2020-10-20</td>\n",
              "      <td>17.0</td>\n",
              "      <td>Medium</td>\n",
              "      <td>Red</td>\n",
              "      <td>115.991724</td>\n",
              "      <td>1</td>\n",
              "    </tr>\n",
              "    <tr>\n",
              "      <th>18</th>\n",
              "      <td>2020-10-23</td>\n",
              "      <td>11.0</td>\n",
              "      <td>Medium</td>\n",
              "      <td>Blue</td>\n",
              "      <td>3.643787</td>\n",
              "      <td>0</td>\n",
              "    </tr>\n",
              "    <tr>\n",
              "      <th>19</th>\n",
              "      <td>2020-10-24</td>\n",
              "      <td>11.0</td>\n",
              "      <td>Medium</td>\n",
              "      <td>Red</td>\n",
              "      <td>118.108710</td>\n",
              "      <td>1</td>\n",
              "    </tr>\n",
              "    <tr>\n",
              "      <th>20</th>\n",
              "      <td>2020-10-25</td>\n",
              "      <td>11.0</td>\n",
              "      <td>Large</td>\n",
              "      <td>Green</td>\n",
              "      <td>14.973611</td>\n",
              "      <td>0</td>\n",
              "    </tr>\n",
              "    <tr>\n",
              "      <th>21</th>\n",
              "      <td>2020-10-25</td>\n",
              "      <td>NaN</td>\n",
              "      <td>Large</td>\n",
              "      <td>Blue</td>\n",
              "      <td>10.699388</td>\n",
              "      <td>0</td>\n",
              "    </tr>\n",
              "    <tr>\n",
              "      <th>22</th>\n",
              "      <td>2020-10-25</td>\n",
              "      <td>15.0</td>\n",
              "      <td>Large</td>\n",
              "      <td>Red</td>\n",
              "      <td>106.224366</td>\n",
              "      <td>1</td>\n",
              "    </tr>\n",
              "    <tr>\n",
              "      <th>23</th>\n",
              "      <td>2020-10-26</td>\n",
              "      <td>11.0</td>\n",
              "      <td>Large</td>\n",
              "      <td>Red</td>\n",
              "      <td>114.638621</td>\n",
              "      <td>1</td>\n",
              "    </tr>\n",
              "    <tr>\n",
              "      <th>24</th>\n",
              "      <td>2020-10-26</td>\n",
              "      <td>13.0</td>\n",
              "      <td>Small</td>\n",
              "      <td>Blue</td>\n",
              "      <td>1.228235</td>\n",
              "      <td>0</td>\n",
              "    </tr>\n",
              "    <tr>\n",
              "      <th>25</th>\n",
              "      <td>2020-10-27</td>\n",
              "      <td>11.0</td>\n",
              "      <td>Large</td>\n",
              "      <td>Red</td>\n",
              "      <td>5.791450</td>\n",
              "      <td>0</td>\n",
              "    </tr>\n",
              "    <tr>\n",
              "      <th>26</th>\n",
              "      <td>2020-10-28</td>\n",
              "      <td>9.0</td>\n",
              "      <td>Small</td>\n",
              "      <td>Red</td>\n",
              "      <td>8.606806</td>\n",
              "      <td>0</td>\n",
              "    </tr>\n",
              "    <tr>\n",
              "      <th>27</th>\n",
              "      <td>2020-10-28</td>\n",
              "      <td>13.0</td>\n",
              "      <td>Large</td>\n",
              "      <td>Blue</td>\n",
              "      <td>12.414377</td>\n",
              "      <td>0</td>\n",
              "    </tr>\n",
              "    <tr>\n",
              "      <th>28</th>\n",
              "      <td>2020-10-30</td>\n",
              "      <td>NaN</td>\n",
              "      <td>Large</td>\n",
              "      <td>Red</td>\n",
              "      <td>115.663402</td>\n",
              "      <td>1</td>\n",
              "    </tr>\n",
              "    <tr>\n",
              "      <th>29</th>\n",
              "      <td>2020-10-30</td>\n",
              "      <td>13.0</td>\n",
              "      <td>Small</td>\n",
              "      <td>Blue</td>\n",
              "      <td>115.410273</td>\n",
              "      <td>1</td>\n",
              "    </tr>\n",
              "    <tr>\n",
              "      <th>30</th>\n",
              "      <td>2020-10-30</td>\n",
              "      <td>11.0</td>\n",
              "      <td>Small</td>\n",
              "      <td>Red</td>\n",
              "      <td>105.401517</td>\n",
              "      <td>1</td>\n",
              "    </tr>\n",
              "    <tr>\n",
              "      <th>31</th>\n",
              "      <td>2020-10-31</td>\n",
              "      <td>13.0</td>\n",
              "      <td>Medium</td>\n",
              "      <td>Green</td>\n",
              "      <td>0.137767</td>\n",
              "      <td>0</td>\n",
              "    </tr>\n",
              "    <tr>\n",
              "      <th>32</th>\n",
              "      <td>2020-11-01</td>\n",
              "      <td>9.0</td>\n",
              "      <td>Large</td>\n",
              "      <td>Green</td>\n",
              "      <td>112.661384</td>\n",
              "      <td>1</td>\n",
              "    </tr>\n",
              "  </tbody>\n",
              "</table>\n",
              "</div>\n",
              "      <button class=\"colab-df-convert\" onclick=\"convertToInteractive('df-a7fcc9d7-d71a-4e23-85e6-36def89d007a')\"\n",
              "              title=\"Convert this dataframe to an interactive table.\"\n",
              "              style=\"display:none;\">\n",
              "        \n",
              "  <svg xmlns=\"http://www.w3.org/2000/svg\" height=\"24px\"viewBox=\"0 0 24 24\"\n",
              "       width=\"24px\">\n",
              "    <path d=\"M0 0h24v24H0V0z\" fill=\"none\"/>\n",
              "    <path d=\"M18.56 5.44l.94 2.06.94-2.06 2.06-.94-2.06-.94-.94-2.06-.94 2.06-2.06.94zm-11 1L8.5 8.5l.94-2.06 2.06-.94-2.06-.94L8.5 2.5l-.94 2.06-2.06.94zm10 10l.94 2.06.94-2.06 2.06-.94-2.06-.94-.94-2.06-.94 2.06-2.06.94z\"/><path d=\"M17.41 7.96l-1.37-1.37c-.4-.4-.92-.59-1.43-.59-.52 0-1.04.2-1.43.59L10.3 9.45l-7.72 7.72c-.78.78-.78 2.05 0 2.83L4 21.41c.39.39.9.59 1.41.59.51 0 1.02-.2 1.41-.59l7.78-7.78 2.81-2.81c.8-.78.8-2.07 0-2.86zM5.41 20L4 18.59l7.72-7.72 1.47 1.35L5.41 20z\"/>\n",
              "  </svg>\n",
              "      </button>\n",
              "      \n",
              "  <style>\n",
              "    .colab-df-container {\n",
              "      display:flex;\n",
              "      flex-wrap:wrap;\n",
              "      gap: 12px;\n",
              "    }\n",
              "\n",
              "    .colab-df-convert {\n",
              "      background-color: #E8F0FE;\n",
              "      border: none;\n",
              "      border-radius: 50%;\n",
              "      cursor: pointer;\n",
              "      display: none;\n",
              "      fill: #1967D2;\n",
              "      height: 32px;\n",
              "      padding: 0 0 0 0;\n",
              "      width: 32px;\n",
              "    }\n",
              "\n",
              "    .colab-df-convert:hover {\n",
              "      background-color: #E2EBFA;\n",
              "      box-shadow: 0px 1px 2px rgba(60, 64, 67, 0.3), 0px 1px 3px 1px rgba(60, 64, 67, 0.15);\n",
              "      fill: #174EA6;\n",
              "    }\n",
              "\n",
              "    [theme=dark] .colab-df-convert {\n",
              "      background-color: #3B4455;\n",
              "      fill: #D2E3FC;\n",
              "    }\n",
              "\n",
              "    [theme=dark] .colab-df-convert:hover {\n",
              "      background-color: #434B5C;\n",
              "      box-shadow: 0px 1px 3px 1px rgba(0, 0, 0, 0.15);\n",
              "      filter: drop-shadow(0px 1px 2px rgba(0, 0, 0, 0.3));\n",
              "      fill: #FFFFFF;\n",
              "    }\n",
              "  </style>\n",
              "\n",
              "      <script>\n",
              "        const buttonEl =\n",
              "          document.querySelector('#df-a7fcc9d7-d71a-4e23-85e6-36def89d007a button.colab-df-convert');\n",
              "        buttonEl.style.display =\n",
              "          google.colab.kernel.accessAllowed ? 'block' : 'none';\n",
              "\n",
              "        async function convertToInteractive(key) {\n",
              "          const element = document.querySelector('#df-a7fcc9d7-d71a-4e23-85e6-36def89d007a');\n",
              "          const dataTable =\n",
              "            await google.colab.kernel.invokeFunction('convertToInteractive',\n",
              "                                                     [key], {});\n",
              "          if (!dataTable) return;\n",
              "\n",
              "          const docLinkHtml = 'Like what you see? Visit the ' +\n",
              "            '<a target=\"_blank\" href=https://colab.research.google.com/notebooks/data_table.ipynb>data table notebook</a>'\n",
              "            + ' to learn more about interactive tables.';\n",
              "          element.innerHTML = '';\n",
              "          dataTable['output_type'] = 'display_data';\n",
              "          await google.colab.output.renderOutput(dataTable, element);\n",
              "          const docLink = document.createElement('div');\n",
              "          docLink.innerHTML = docLinkHtml;\n",
              "          element.appendChild(docLink);\n",
              "        }\n",
              "      </script>\n",
              "    </div>\n",
              "  </div>\n",
              "  "
            ]
          },
          "metadata": {},
          "execution_count": 802
        }
      ],
      "source": [
        "data = pd.read_csv('/content/drive/MyDrive/Colab Notebooks/example1.csv', parse_dates=['Date'], dayfirst=True)\n",
        "data"
      ]
    },
    {
      "cell_type": "markdown",
      "metadata": {
        "id": "m762JTWoErvK"
      },
      "source": [
        "Just like `ndarray` is the fundamental brick of the numpy library, the dataframe is the fundamental brick of the pandas library.\n",
        "A dataframe is a a table where each column is a variable (or series as they are called in Pandas) and each row is a sample. We can access each series using the name of the variable, either using the index notation (`df['v']`) or as field of the object (`df.v`). The latter notation can only be used when the field name is a valid field name (e.g., column '3a' can only be accessed as `df['3a']`).\n",
        "\n",
        "The method `head` shows only the first 5 entries of the table."
      ]
    },
    {
      "cell_type": "code",
      "execution_count": 803,
      "metadata": {
        "id": "NeV5A_UoErvK",
        "outputId": "0abdc5e5-6823-404a-8a5e-3344cf11d9f2",
        "colab": {
          "base_uri": "https://localhost:8080/"
        }
      },
      "outputs": [
        {
          "output_type": "stream",
          "name": "stdout",
          "text": [
            "0   2020-10-16\n",
            "1   2020-10-16\n",
            "2   2020-10-16\n",
            "3   2020-10-17\n",
            "4   2020-10-17\n",
            "Name: Date, dtype: datetime64[ns]\n",
            "0   2020-10-16\n",
            "1   2020-10-16\n",
            "2   2020-10-16\n",
            "3   2020-10-17\n",
            "4   2020-10-17\n",
            "Name: Date, dtype: datetime64[ns]\n"
          ]
        }
      ],
      "source": [
        "print(data['Date'].head())\n",
        "print(data.Date.head())"
      ]
    },
    {
      "cell_type": "markdown",
      "metadata": {
        "id": "s67IN_CUErvL"
      },
      "source": [
        "To select rows, we ca use either a conditional format or a more traditional indexing.\n",
        "For example let's select the rows for which the color is blue."
      ]
    },
    {
      "cell_type": "code",
      "execution_count": 804,
      "metadata": {
        "id": "n7dAfsrpErvM",
        "outputId": "867c005f-b8c5-4b27-b5ad-3a1686e933d0",
        "colab": {
          "base_uri": "https://localhost:8080/",
          "height": 394
        }
      },
      "outputs": [
        {
          "output_type": "execute_result",
          "data": {
            "text/plain": [
              "         Date  Time    Size Colour        Cost  Label\n",
              "0  2020-10-16  11.0   Small   Blue  109.521068      1\n",
              "6  2020-10-18   9.0   Small   Blue  107.947930      1\n",
              "9  2020-10-18  15.0   Small   Blue  103.223563      1\n",
              "11 2020-10-19   9.0  Medium   Blue  105.216665      1\n",
              "13 2020-10-19  13.0   Large   Blue   15.599248      0\n",
              "16 2020-10-20   NaN   Large   Blue  113.658567      1\n",
              "18 2020-10-23  11.0  Medium   Blue    3.643787      0\n",
              "21 2020-10-25   NaN   Large   Blue   10.699388      0\n",
              "24 2020-10-26  13.0   Small   Blue    1.228235      0\n",
              "27 2020-10-28  13.0   Large   Blue   12.414377      0\n",
              "29 2020-10-30  13.0   Small   Blue  115.410273      1"
            ],
            "text/html": [
              "\n",
              "  <div id=\"df-b49c7abb-0771-4b44-af27-f12cb0a2c33a\">\n",
              "    <div class=\"colab-df-container\">\n",
              "      <div>\n",
              "<style scoped>\n",
              "    .dataframe tbody tr th:only-of-type {\n",
              "        vertical-align: middle;\n",
              "    }\n",
              "\n",
              "    .dataframe tbody tr th {\n",
              "        vertical-align: top;\n",
              "    }\n",
              "\n",
              "    .dataframe thead th {\n",
              "        text-align: right;\n",
              "    }\n",
              "</style>\n",
              "<table border=\"1\" class=\"dataframe\">\n",
              "  <thead>\n",
              "    <tr style=\"text-align: right;\">\n",
              "      <th></th>\n",
              "      <th>Date</th>\n",
              "      <th>Time</th>\n",
              "      <th>Size</th>\n",
              "      <th>Colour</th>\n",
              "      <th>Cost</th>\n",
              "      <th>Label</th>\n",
              "    </tr>\n",
              "  </thead>\n",
              "  <tbody>\n",
              "    <tr>\n",
              "      <th>0</th>\n",
              "      <td>2020-10-16</td>\n",
              "      <td>11.0</td>\n",
              "      <td>Small</td>\n",
              "      <td>Blue</td>\n",
              "      <td>109.521068</td>\n",
              "      <td>1</td>\n",
              "    </tr>\n",
              "    <tr>\n",
              "      <th>6</th>\n",
              "      <td>2020-10-18</td>\n",
              "      <td>9.0</td>\n",
              "      <td>Small</td>\n",
              "      <td>Blue</td>\n",
              "      <td>107.947930</td>\n",
              "      <td>1</td>\n",
              "    </tr>\n",
              "    <tr>\n",
              "      <th>9</th>\n",
              "      <td>2020-10-18</td>\n",
              "      <td>15.0</td>\n",
              "      <td>Small</td>\n",
              "      <td>Blue</td>\n",
              "      <td>103.223563</td>\n",
              "      <td>1</td>\n",
              "    </tr>\n",
              "    <tr>\n",
              "      <th>11</th>\n",
              "      <td>2020-10-19</td>\n",
              "      <td>9.0</td>\n",
              "      <td>Medium</td>\n",
              "      <td>Blue</td>\n",
              "      <td>105.216665</td>\n",
              "      <td>1</td>\n",
              "    </tr>\n",
              "    <tr>\n",
              "      <th>13</th>\n",
              "      <td>2020-10-19</td>\n",
              "      <td>13.0</td>\n",
              "      <td>Large</td>\n",
              "      <td>Blue</td>\n",
              "      <td>15.599248</td>\n",
              "      <td>0</td>\n",
              "    </tr>\n",
              "    <tr>\n",
              "      <th>16</th>\n",
              "      <td>2020-10-20</td>\n",
              "      <td>NaN</td>\n",
              "      <td>Large</td>\n",
              "      <td>Blue</td>\n",
              "      <td>113.658567</td>\n",
              "      <td>1</td>\n",
              "    </tr>\n",
              "    <tr>\n",
              "      <th>18</th>\n",
              "      <td>2020-10-23</td>\n",
              "      <td>11.0</td>\n",
              "      <td>Medium</td>\n",
              "      <td>Blue</td>\n",
              "      <td>3.643787</td>\n",
              "      <td>0</td>\n",
              "    </tr>\n",
              "    <tr>\n",
              "      <th>21</th>\n",
              "      <td>2020-10-25</td>\n",
              "      <td>NaN</td>\n",
              "      <td>Large</td>\n",
              "      <td>Blue</td>\n",
              "      <td>10.699388</td>\n",
              "      <td>0</td>\n",
              "    </tr>\n",
              "    <tr>\n",
              "      <th>24</th>\n",
              "      <td>2020-10-26</td>\n",
              "      <td>13.0</td>\n",
              "      <td>Small</td>\n",
              "      <td>Blue</td>\n",
              "      <td>1.228235</td>\n",
              "      <td>0</td>\n",
              "    </tr>\n",
              "    <tr>\n",
              "      <th>27</th>\n",
              "      <td>2020-10-28</td>\n",
              "      <td>13.0</td>\n",
              "      <td>Large</td>\n",
              "      <td>Blue</td>\n",
              "      <td>12.414377</td>\n",
              "      <td>0</td>\n",
              "    </tr>\n",
              "    <tr>\n",
              "      <th>29</th>\n",
              "      <td>2020-10-30</td>\n",
              "      <td>13.0</td>\n",
              "      <td>Small</td>\n",
              "      <td>Blue</td>\n",
              "      <td>115.410273</td>\n",
              "      <td>1</td>\n",
              "    </tr>\n",
              "  </tbody>\n",
              "</table>\n",
              "</div>\n",
              "      <button class=\"colab-df-convert\" onclick=\"convertToInteractive('df-b49c7abb-0771-4b44-af27-f12cb0a2c33a')\"\n",
              "              title=\"Convert this dataframe to an interactive table.\"\n",
              "              style=\"display:none;\">\n",
              "        \n",
              "  <svg xmlns=\"http://www.w3.org/2000/svg\" height=\"24px\"viewBox=\"0 0 24 24\"\n",
              "       width=\"24px\">\n",
              "    <path d=\"M0 0h24v24H0V0z\" fill=\"none\"/>\n",
              "    <path d=\"M18.56 5.44l.94 2.06.94-2.06 2.06-.94-2.06-.94-.94-2.06-.94 2.06-2.06.94zm-11 1L8.5 8.5l.94-2.06 2.06-.94-2.06-.94L8.5 2.5l-.94 2.06-2.06.94zm10 10l.94 2.06.94-2.06 2.06-.94-2.06-.94-.94-2.06-.94 2.06-2.06.94z\"/><path d=\"M17.41 7.96l-1.37-1.37c-.4-.4-.92-.59-1.43-.59-.52 0-1.04.2-1.43.59L10.3 9.45l-7.72 7.72c-.78.78-.78 2.05 0 2.83L4 21.41c.39.39.9.59 1.41.59.51 0 1.02-.2 1.41-.59l7.78-7.78 2.81-2.81c.8-.78.8-2.07 0-2.86zM5.41 20L4 18.59l7.72-7.72 1.47 1.35L5.41 20z\"/>\n",
              "  </svg>\n",
              "      </button>\n",
              "      \n",
              "  <style>\n",
              "    .colab-df-container {\n",
              "      display:flex;\n",
              "      flex-wrap:wrap;\n",
              "      gap: 12px;\n",
              "    }\n",
              "\n",
              "    .colab-df-convert {\n",
              "      background-color: #E8F0FE;\n",
              "      border: none;\n",
              "      border-radius: 50%;\n",
              "      cursor: pointer;\n",
              "      display: none;\n",
              "      fill: #1967D2;\n",
              "      height: 32px;\n",
              "      padding: 0 0 0 0;\n",
              "      width: 32px;\n",
              "    }\n",
              "\n",
              "    .colab-df-convert:hover {\n",
              "      background-color: #E2EBFA;\n",
              "      box-shadow: 0px 1px 2px rgba(60, 64, 67, 0.3), 0px 1px 3px 1px rgba(60, 64, 67, 0.15);\n",
              "      fill: #174EA6;\n",
              "    }\n",
              "\n",
              "    [theme=dark] .colab-df-convert {\n",
              "      background-color: #3B4455;\n",
              "      fill: #D2E3FC;\n",
              "    }\n",
              "\n",
              "    [theme=dark] .colab-df-convert:hover {\n",
              "      background-color: #434B5C;\n",
              "      box-shadow: 0px 1px 3px 1px rgba(0, 0, 0, 0.15);\n",
              "      filter: drop-shadow(0px 1px 2px rgba(0, 0, 0, 0.3));\n",
              "      fill: #FFFFFF;\n",
              "    }\n",
              "  </style>\n",
              "\n",
              "      <script>\n",
              "        const buttonEl =\n",
              "          document.querySelector('#df-b49c7abb-0771-4b44-af27-f12cb0a2c33a button.colab-df-convert');\n",
              "        buttonEl.style.display =\n",
              "          google.colab.kernel.accessAllowed ? 'block' : 'none';\n",
              "\n",
              "        async function convertToInteractive(key) {\n",
              "          const element = document.querySelector('#df-b49c7abb-0771-4b44-af27-f12cb0a2c33a');\n",
              "          const dataTable =\n",
              "            await google.colab.kernel.invokeFunction('convertToInteractive',\n",
              "                                                     [key], {});\n",
              "          if (!dataTable) return;\n",
              "\n",
              "          const docLinkHtml = 'Like what you see? Visit the ' +\n",
              "            '<a target=\"_blank\" href=https://colab.research.google.com/notebooks/data_table.ipynb>data table notebook</a>'\n",
              "            + ' to learn more about interactive tables.';\n",
              "          element.innerHTML = '';\n",
              "          dataTable['output_type'] = 'display_data';\n",
              "          await google.colab.output.renderOutput(dataTable, element);\n",
              "          const docLink = document.createElement('div');\n",
              "          docLink.innerHTML = docLinkHtml;\n",
              "          element.appendChild(docLink);\n",
              "        }\n",
              "      </script>\n",
              "    </div>\n",
              "  </div>\n",
              "  "
            ]
          },
          "metadata": {},
          "execution_count": 804
        }
      ],
      "source": [
        "data[data[\"Colour\"] == 'Blue']"
      ]
    },
    {
      "cell_type": "markdown",
      "metadata": {
        "id": "n5947KlWErvM"
      },
      "source": [
        "Now let's select the first five rows."
      ]
    },
    {
      "cell_type": "code",
      "execution_count": 805,
      "metadata": {
        "id": "s3Ewgx3fErvN",
        "outputId": "09608f79-eba7-4941-b0ab-a46ed499f18f",
        "colab": {
          "base_uri": "https://localhost:8080/",
          "height": 206
        }
      },
      "outputs": [
        {
          "output_type": "execute_result",
          "data": {
            "text/plain": [
              "        Date  Time    Size Colour        Cost  Label\n",
              "0 2020-10-16  11.0   Small   Blue  109.521068      1\n",
              "1 2020-10-16  13.0   Small    Red  112.141170      1\n",
              "2 2020-10-16  17.0  Medium  Green  112.004677      1\n",
              "3 2020-10-17   9.0   Large  Green   15.112922      0\n",
              "4 2020-10-17  11.0   Large  Green  105.663642      1"
            ],
            "text/html": [
              "\n",
              "  <div id=\"df-0463f334-7184-4080-b701-4b5d3409f39b\">\n",
              "    <div class=\"colab-df-container\">\n",
              "      <div>\n",
              "<style scoped>\n",
              "    .dataframe tbody tr th:only-of-type {\n",
              "        vertical-align: middle;\n",
              "    }\n",
              "\n",
              "    .dataframe tbody tr th {\n",
              "        vertical-align: top;\n",
              "    }\n",
              "\n",
              "    .dataframe thead th {\n",
              "        text-align: right;\n",
              "    }\n",
              "</style>\n",
              "<table border=\"1\" class=\"dataframe\">\n",
              "  <thead>\n",
              "    <tr style=\"text-align: right;\">\n",
              "      <th></th>\n",
              "      <th>Date</th>\n",
              "      <th>Time</th>\n",
              "      <th>Size</th>\n",
              "      <th>Colour</th>\n",
              "      <th>Cost</th>\n",
              "      <th>Label</th>\n",
              "    </tr>\n",
              "  </thead>\n",
              "  <tbody>\n",
              "    <tr>\n",
              "      <th>0</th>\n",
              "      <td>2020-10-16</td>\n",
              "      <td>11.0</td>\n",
              "      <td>Small</td>\n",
              "      <td>Blue</td>\n",
              "      <td>109.521068</td>\n",
              "      <td>1</td>\n",
              "    </tr>\n",
              "    <tr>\n",
              "      <th>1</th>\n",
              "      <td>2020-10-16</td>\n",
              "      <td>13.0</td>\n",
              "      <td>Small</td>\n",
              "      <td>Red</td>\n",
              "      <td>112.141170</td>\n",
              "      <td>1</td>\n",
              "    </tr>\n",
              "    <tr>\n",
              "      <th>2</th>\n",
              "      <td>2020-10-16</td>\n",
              "      <td>17.0</td>\n",
              "      <td>Medium</td>\n",
              "      <td>Green</td>\n",
              "      <td>112.004677</td>\n",
              "      <td>1</td>\n",
              "    </tr>\n",
              "    <tr>\n",
              "      <th>3</th>\n",
              "      <td>2020-10-17</td>\n",
              "      <td>9.0</td>\n",
              "      <td>Large</td>\n",
              "      <td>Green</td>\n",
              "      <td>15.112922</td>\n",
              "      <td>0</td>\n",
              "    </tr>\n",
              "    <tr>\n",
              "      <th>4</th>\n",
              "      <td>2020-10-17</td>\n",
              "      <td>11.0</td>\n",
              "      <td>Large</td>\n",
              "      <td>Green</td>\n",
              "      <td>105.663642</td>\n",
              "      <td>1</td>\n",
              "    </tr>\n",
              "  </tbody>\n",
              "</table>\n",
              "</div>\n",
              "      <button class=\"colab-df-convert\" onclick=\"convertToInteractive('df-0463f334-7184-4080-b701-4b5d3409f39b')\"\n",
              "              title=\"Convert this dataframe to an interactive table.\"\n",
              "              style=\"display:none;\">\n",
              "        \n",
              "  <svg xmlns=\"http://www.w3.org/2000/svg\" height=\"24px\"viewBox=\"0 0 24 24\"\n",
              "       width=\"24px\">\n",
              "    <path d=\"M0 0h24v24H0V0z\" fill=\"none\"/>\n",
              "    <path d=\"M18.56 5.44l.94 2.06.94-2.06 2.06-.94-2.06-.94-.94-2.06-.94 2.06-2.06.94zm-11 1L8.5 8.5l.94-2.06 2.06-.94-2.06-.94L8.5 2.5l-.94 2.06-2.06.94zm10 10l.94 2.06.94-2.06 2.06-.94-2.06-.94-.94-2.06-.94 2.06-2.06.94z\"/><path d=\"M17.41 7.96l-1.37-1.37c-.4-.4-.92-.59-1.43-.59-.52 0-1.04.2-1.43.59L10.3 9.45l-7.72 7.72c-.78.78-.78 2.05 0 2.83L4 21.41c.39.39.9.59 1.41.59.51 0 1.02-.2 1.41-.59l7.78-7.78 2.81-2.81c.8-.78.8-2.07 0-2.86zM5.41 20L4 18.59l7.72-7.72 1.47 1.35L5.41 20z\"/>\n",
              "  </svg>\n",
              "      </button>\n",
              "      \n",
              "  <style>\n",
              "    .colab-df-container {\n",
              "      display:flex;\n",
              "      flex-wrap:wrap;\n",
              "      gap: 12px;\n",
              "    }\n",
              "\n",
              "    .colab-df-convert {\n",
              "      background-color: #E8F0FE;\n",
              "      border: none;\n",
              "      border-radius: 50%;\n",
              "      cursor: pointer;\n",
              "      display: none;\n",
              "      fill: #1967D2;\n",
              "      height: 32px;\n",
              "      padding: 0 0 0 0;\n",
              "      width: 32px;\n",
              "    }\n",
              "\n",
              "    .colab-df-convert:hover {\n",
              "      background-color: #E2EBFA;\n",
              "      box-shadow: 0px 1px 2px rgba(60, 64, 67, 0.3), 0px 1px 3px 1px rgba(60, 64, 67, 0.15);\n",
              "      fill: #174EA6;\n",
              "    }\n",
              "\n",
              "    [theme=dark] .colab-df-convert {\n",
              "      background-color: #3B4455;\n",
              "      fill: #D2E3FC;\n",
              "    }\n",
              "\n",
              "    [theme=dark] .colab-df-convert:hover {\n",
              "      background-color: #434B5C;\n",
              "      box-shadow: 0px 1px 3px 1px rgba(0, 0, 0, 0.15);\n",
              "      filter: drop-shadow(0px 1px 2px rgba(0, 0, 0, 0.3));\n",
              "      fill: #FFFFFF;\n",
              "    }\n",
              "  </style>\n",
              "\n",
              "      <script>\n",
              "        const buttonEl =\n",
              "          document.querySelector('#df-0463f334-7184-4080-b701-4b5d3409f39b button.colab-df-convert');\n",
              "        buttonEl.style.display =\n",
              "          google.colab.kernel.accessAllowed ? 'block' : 'none';\n",
              "\n",
              "        async function convertToInteractive(key) {\n",
              "          const element = document.querySelector('#df-0463f334-7184-4080-b701-4b5d3409f39b');\n",
              "          const dataTable =\n",
              "            await google.colab.kernel.invokeFunction('convertToInteractive',\n",
              "                                                     [key], {});\n",
              "          if (!dataTable) return;\n",
              "\n",
              "          const docLinkHtml = 'Like what you see? Visit the ' +\n",
              "            '<a target=\"_blank\" href=https://colab.research.google.com/notebooks/data_table.ipynb>data table notebook</a>'\n",
              "            + ' to learn more about interactive tables.';\n",
              "          element.innerHTML = '';\n",
              "          dataTable['output_type'] = 'display_data';\n",
              "          await google.colab.output.renderOutput(dataTable, element);\n",
              "          const docLink = document.createElement('div');\n",
              "          docLink.innerHTML = docLinkHtml;\n",
              "          element.appendChild(docLink);\n",
              "        }\n",
              "      </script>\n",
              "    </div>\n",
              "  </div>\n",
              "  "
            ]
          },
          "metadata": {},
          "execution_count": 805
        }
      ],
      "source": [
        "# in pandas, to select rows based on index, use [name_df].iloc[start_row:end_row, start_col:end_col]\n",
        "\n",
        "data.iloc[:5,:]"
      ]
    },
    {
      "cell_type": "markdown",
      "metadata": {
        "id": "8I1sDL61ErvN"
      },
      "source": [
        "Pandas is a really powerful tool but in the interest iof time we are not going to explain it further. However you can visit these [tutorials](https://pandas.pydata.org/docs/getting_started/index.html) to learn more about it."
      ]
    },
    {
      "cell_type": "markdown",
      "metadata": {
        "id": "b2v_lU3rErvO"
      },
      "source": [
        "## Prepare the data\n",
        "\n",
        "**AIM**: we want to prepare the data so that all inputs are numerical so that the ML system can work with it."
      ]
    },
    {
      "cell_type": "markdown",
      "metadata": {
        "id": "0E8Z-I5KErvO"
      },
      "source": [
        "Now that we have the data in the dataframe we will process it to transform all its values into numerical ones.\n",
        "There are mainly two types of data that may be necessary to transform: dates and categorical values.\n",
        "We can see what type of data we have in our dataframe:"
      ]
    },
    {
      "cell_type": "code",
      "execution_count": 806,
      "metadata": {
        "id": "TNqqJiwsErvO",
        "colab": {
          "base_uri": "https://localhost:8080/"
        },
        "outputId": "5e119fa1-9756-4123-a4ed-1b0e84e94263"
      },
      "outputs": [
        {
          "output_type": "execute_result",
          "data": {
            "text/plain": [
              "Date      datetime64[ns]\n",
              "Time             float64\n",
              "Size              object\n",
              "Colour            object\n",
              "Cost             float64\n",
              "Label              int64\n",
              "dtype: object"
            ]
          },
          "metadata": {},
          "execution_count": 806
        }
      ],
      "source": [
        "data.dtypes"
      ]
    },
    {
      "cell_type": "markdown",
      "metadata": {
        "id": "pN3KDn_6ErvP"
      },
      "source": [
        "(Note that the methods we see in this section replace non-numerical values with floating point numbers _in place_, so if you run them again you will get an error since the column does not contain the expected type anymore.)"
      ]
    },
    {
      "cell_type": "markdown",
      "metadata": {
        "id": "tC6ViSqgErvP"
      },
      "source": [
        "### Dates"
      ]
    },
    {
      "cell_type": "markdown",
      "metadata": {
        "id": "-lUqx37QErvP"
      },
      "source": [
        "A standard way to transform dates is to change them into the time passed since a specific reference time point. This is as simple as:"
      ]
    },
    {
      "cell_type": "code",
      "execution_count": 807,
      "metadata": {
        "id": "ka2wfP8qErvQ",
        "colab": {
          "base_uri": "https://localhost:8080/",
          "height": 206
        },
        "outputId": "c935184c-6fb5-4d62-8744-5aff7bfa8a83"
      },
      "outputs": [
        {
          "output_type": "execute_result",
          "data": {
            "text/plain": [
              "           Date  Time    Size Colour        Cost  Label\n",
              "0  6.566400e+15  11.0   Small   Blue  109.521068      1\n",
              "1  6.566400e+15  13.0   Small    Red  112.141170      1\n",
              "2  6.566400e+15  17.0  Medium  Green  112.004677      1\n",
              "3  6.652800e+15   9.0   Large  Green   15.112922      0\n",
              "4  6.652800e+15  11.0   Large  Green  105.663642      1"
            ],
            "text/html": [
              "\n",
              "  <div id=\"df-2e9bb87e-7f2b-4a5c-800c-994c86a075a6\">\n",
              "    <div class=\"colab-df-container\">\n",
              "      <div>\n",
              "<style scoped>\n",
              "    .dataframe tbody tr th:only-of-type {\n",
              "        vertical-align: middle;\n",
              "    }\n",
              "\n",
              "    .dataframe tbody tr th {\n",
              "        vertical-align: top;\n",
              "    }\n",
              "\n",
              "    .dataframe thead th {\n",
              "        text-align: right;\n",
              "    }\n",
              "</style>\n",
              "<table border=\"1\" class=\"dataframe\">\n",
              "  <thead>\n",
              "    <tr style=\"text-align: right;\">\n",
              "      <th></th>\n",
              "      <th>Date</th>\n",
              "      <th>Time</th>\n",
              "      <th>Size</th>\n",
              "      <th>Colour</th>\n",
              "      <th>Cost</th>\n",
              "      <th>Label</th>\n",
              "    </tr>\n",
              "  </thead>\n",
              "  <tbody>\n",
              "    <tr>\n",
              "      <th>0</th>\n",
              "      <td>6.566400e+15</td>\n",
              "      <td>11.0</td>\n",
              "      <td>Small</td>\n",
              "      <td>Blue</td>\n",
              "      <td>109.521068</td>\n",
              "      <td>1</td>\n",
              "    </tr>\n",
              "    <tr>\n",
              "      <th>1</th>\n",
              "      <td>6.566400e+15</td>\n",
              "      <td>13.0</td>\n",
              "      <td>Small</td>\n",
              "      <td>Red</td>\n",
              "      <td>112.141170</td>\n",
              "      <td>1</td>\n",
              "    </tr>\n",
              "    <tr>\n",
              "      <th>2</th>\n",
              "      <td>6.566400e+15</td>\n",
              "      <td>17.0</td>\n",
              "      <td>Medium</td>\n",
              "      <td>Green</td>\n",
              "      <td>112.004677</td>\n",
              "      <td>1</td>\n",
              "    </tr>\n",
              "    <tr>\n",
              "      <th>3</th>\n",
              "      <td>6.652800e+15</td>\n",
              "      <td>9.0</td>\n",
              "      <td>Large</td>\n",
              "      <td>Green</td>\n",
              "      <td>15.112922</td>\n",
              "      <td>0</td>\n",
              "    </tr>\n",
              "    <tr>\n",
              "      <th>4</th>\n",
              "      <td>6.652800e+15</td>\n",
              "      <td>11.0</td>\n",
              "      <td>Large</td>\n",
              "      <td>Green</td>\n",
              "      <td>105.663642</td>\n",
              "      <td>1</td>\n",
              "    </tr>\n",
              "  </tbody>\n",
              "</table>\n",
              "</div>\n",
              "      <button class=\"colab-df-convert\" onclick=\"convertToInteractive('df-2e9bb87e-7f2b-4a5c-800c-994c86a075a6')\"\n",
              "              title=\"Convert this dataframe to an interactive table.\"\n",
              "              style=\"display:none;\">\n",
              "        \n",
              "  <svg xmlns=\"http://www.w3.org/2000/svg\" height=\"24px\"viewBox=\"0 0 24 24\"\n",
              "       width=\"24px\">\n",
              "    <path d=\"M0 0h24v24H0V0z\" fill=\"none\"/>\n",
              "    <path d=\"M18.56 5.44l.94 2.06.94-2.06 2.06-.94-2.06-.94-.94-2.06-.94 2.06-2.06.94zm-11 1L8.5 8.5l.94-2.06 2.06-.94-2.06-.94L8.5 2.5l-.94 2.06-2.06.94zm10 10l.94 2.06.94-2.06 2.06-.94-2.06-.94-.94-2.06-.94 2.06-2.06.94z\"/><path d=\"M17.41 7.96l-1.37-1.37c-.4-.4-.92-.59-1.43-.59-.52 0-1.04.2-1.43.59L10.3 9.45l-7.72 7.72c-.78.78-.78 2.05 0 2.83L4 21.41c.39.39.9.59 1.41.59.51 0 1.02-.2 1.41-.59l7.78-7.78 2.81-2.81c.8-.78.8-2.07 0-2.86zM5.41 20L4 18.59l7.72-7.72 1.47 1.35L5.41 20z\"/>\n",
              "  </svg>\n",
              "      </button>\n",
              "      \n",
              "  <style>\n",
              "    .colab-df-container {\n",
              "      display:flex;\n",
              "      flex-wrap:wrap;\n",
              "      gap: 12px;\n",
              "    }\n",
              "\n",
              "    .colab-df-convert {\n",
              "      background-color: #E8F0FE;\n",
              "      border: none;\n",
              "      border-radius: 50%;\n",
              "      cursor: pointer;\n",
              "      display: none;\n",
              "      fill: #1967D2;\n",
              "      height: 32px;\n",
              "      padding: 0 0 0 0;\n",
              "      width: 32px;\n",
              "    }\n",
              "\n",
              "    .colab-df-convert:hover {\n",
              "      background-color: #E2EBFA;\n",
              "      box-shadow: 0px 1px 2px rgba(60, 64, 67, 0.3), 0px 1px 3px 1px rgba(60, 64, 67, 0.15);\n",
              "      fill: #174EA6;\n",
              "    }\n",
              "\n",
              "    [theme=dark] .colab-df-convert {\n",
              "      background-color: #3B4455;\n",
              "      fill: #D2E3FC;\n",
              "    }\n",
              "\n",
              "    [theme=dark] .colab-df-convert:hover {\n",
              "      background-color: #434B5C;\n",
              "      box-shadow: 0px 1px 3px 1px rgba(0, 0, 0, 0.15);\n",
              "      filter: drop-shadow(0px 1px 2px rgba(0, 0, 0, 0.3));\n",
              "      fill: #FFFFFF;\n",
              "    }\n",
              "  </style>\n",
              "\n",
              "      <script>\n",
              "        const buttonEl =\n",
              "          document.querySelector('#df-2e9bb87e-7f2b-4a5c-800c-994c86a075a6 button.colab-df-convert');\n",
              "        buttonEl.style.display =\n",
              "          google.colab.kernel.accessAllowed ? 'block' : 'none';\n",
              "\n",
              "        async function convertToInteractive(key) {\n",
              "          const element = document.querySelector('#df-2e9bb87e-7f2b-4a5c-800c-994c86a075a6');\n",
              "          const dataTable =\n",
              "            await google.colab.kernel.invokeFunction('convertToInteractive',\n",
              "                                                     [key], {});\n",
              "          if (!dataTable) return;\n",
              "\n",
              "          const docLinkHtml = 'Like what you see? Visit the ' +\n",
              "            '<a target=\"_blank\" href=https://colab.research.google.com/notebooks/data_table.ipynb>data table notebook</a>'\n",
              "            + ' to learn more about interactive tables.';\n",
              "          element.innerHTML = '';\n",
              "          dataTable['output_type'] = 'display_data';\n",
              "          await google.colab.output.renderOutput(dataTable, element);\n",
              "          const docLink = document.createElement('div');\n",
              "          docLink.innerHTML = docLinkHtml;\n",
              "          element.appendChild(docLink);\n",
              "        }\n",
              "      </script>\n",
              "    </div>\n",
              "  </div>\n",
              "  "
            ]
          },
          "metadata": {},
          "execution_count": 807
        }
      ],
      "source": [
        "# this lineates time, ML needs to have the data inserted as easy/understandable as possible to work well\n",
        "# there are multiple ways to do that, depending on prior knowledge - e.g., Mondays might be different/special\n",
        "\n",
        "time0 = pd.Timestamp('2020-08-01 00:00:00')\n",
        "data['Date'] = (data['Date'] - time0).values.astype(float) # note: this overwrites Date variable\n",
        "data.head()"
      ]
    },
    {
      "cell_type": "markdown",
      "metadata": {
        "id": "wG9zg38AErvQ"
      },
      "source": [
        "### Categorical values"
      ]
    },
    {
      "cell_type": "markdown",
      "metadata": {
        "id": "CHrHNEAIErvQ"
      },
      "source": [
        "Categorical values are non numerical values that may have or not an ordinal relationship. If they have an ordinal relationship (for example: low, mid, high or small, big), a simple approach is to transform directly to numerical value respecting the order (although this will impose an arbitrary distance between the values)."
      ]
    },
    {
      "cell_type": "markdown",
      "metadata": {
        "id": "-MRJVeeCErvR"
      },
      "source": [
        "Pandas allows use to do this using a dictionary and the method `replace`."
      ]
    },
    {
      "cell_type": "code",
      "execution_count": 808,
      "metadata": {
        "id": "2wtcgKAaErvR",
        "colab": {
          "base_uri": "https://localhost:8080/",
          "height": 206
        },
        "outputId": "c3e397d6-e966-4500-82c2-847308e9bebc"
      },
      "outputs": [
        {
          "output_type": "execute_result",
          "data": {
            "text/plain": [
              "           Date  Time  Size Colour        Cost  Label\n",
              "0  6.566400e+15  11.0     0   Blue  109.521068      1\n",
              "1  6.566400e+15  13.0     0    Red  112.141170      1\n",
              "2  6.566400e+15  17.0     1  Green  112.004677      1\n",
              "3  6.652800e+15   9.0     2  Green   15.112922      0\n",
              "4  6.652800e+15  11.0     2  Green  105.663642      1"
            ],
            "text/html": [
              "\n",
              "  <div id=\"df-8aca71f4-c9b5-4d6e-b9d5-07a29c1c039c\">\n",
              "    <div class=\"colab-df-container\">\n",
              "      <div>\n",
              "<style scoped>\n",
              "    .dataframe tbody tr th:only-of-type {\n",
              "        vertical-align: middle;\n",
              "    }\n",
              "\n",
              "    .dataframe tbody tr th {\n",
              "        vertical-align: top;\n",
              "    }\n",
              "\n",
              "    .dataframe thead th {\n",
              "        text-align: right;\n",
              "    }\n",
              "</style>\n",
              "<table border=\"1\" class=\"dataframe\">\n",
              "  <thead>\n",
              "    <tr style=\"text-align: right;\">\n",
              "      <th></th>\n",
              "      <th>Date</th>\n",
              "      <th>Time</th>\n",
              "      <th>Size</th>\n",
              "      <th>Colour</th>\n",
              "      <th>Cost</th>\n",
              "      <th>Label</th>\n",
              "    </tr>\n",
              "  </thead>\n",
              "  <tbody>\n",
              "    <tr>\n",
              "      <th>0</th>\n",
              "      <td>6.566400e+15</td>\n",
              "      <td>11.0</td>\n",
              "      <td>0</td>\n",
              "      <td>Blue</td>\n",
              "      <td>109.521068</td>\n",
              "      <td>1</td>\n",
              "    </tr>\n",
              "    <tr>\n",
              "      <th>1</th>\n",
              "      <td>6.566400e+15</td>\n",
              "      <td>13.0</td>\n",
              "      <td>0</td>\n",
              "      <td>Red</td>\n",
              "      <td>112.141170</td>\n",
              "      <td>1</td>\n",
              "    </tr>\n",
              "    <tr>\n",
              "      <th>2</th>\n",
              "      <td>6.566400e+15</td>\n",
              "      <td>17.0</td>\n",
              "      <td>1</td>\n",
              "      <td>Green</td>\n",
              "      <td>112.004677</td>\n",
              "      <td>1</td>\n",
              "    </tr>\n",
              "    <tr>\n",
              "      <th>3</th>\n",
              "      <td>6.652800e+15</td>\n",
              "      <td>9.0</td>\n",
              "      <td>2</td>\n",
              "      <td>Green</td>\n",
              "      <td>15.112922</td>\n",
              "      <td>0</td>\n",
              "    </tr>\n",
              "    <tr>\n",
              "      <th>4</th>\n",
              "      <td>6.652800e+15</td>\n",
              "      <td>11.0</td>\n",
              "      <td>2</td>\n",
              "      <td>Green</td>\n",
              "      <td>105.663642</td>\n",
              "      <td>1</td>\n",
              "    </tr>\n",
              "  </tbody>\n",
              "</table>\n",
              "</div>\n",
              "      <button class=\"colab-df-convert\" onclick=\"convertToInteractive('df-8aca71f4-c9b5-4d6e-b9d5-07a29c1c039c')\"\n",
              "              title=\"Convert this dataframe to an interactive table.\"\n",
              "              style=\"display:none;\">\n",
              "        \n",
              "  <svg xmlns=\"http://www.w3.org/2000/svg\" height=\"24px\"viewBox=\"0 0 24 24\"\n",
              "       width=\"24px\">\n",
              "    <path d=\"M0 0h24v24H0V0z\" fill=\"none\"/>\n",
              "    <path d=\"M18.56 5.44l.94 2.06.94-2.06 2.06-.94-2.06-.94-.94-2.06-.94 2.06-2.06.94zm-11 1L8.5 8.5l.94-2.06 2.06-.94-2.06-.94L8.5 2.5l-.94 2.06-2.06.94zm10 10l.94 2.06.94-2.06 2.06-.94-2.06-.94-.94-2.06-.94 2.06-2.06.94z\"/><path d=\"M17.41 7.96l-1.37-1.37c-.4-.4-.92-.59-1.43-.59-.52 0-1.04.2-1.43.59L10.3 9.45l-7.72 7.72c-.78.78-.78 2.05 0 2.83L4 21.41c.39.39.9.59 1.41.59.51 0 1.02-.2 1.41-.59l7.78-7.78 2.81-2.81c.8-.78.8-2.07 0-2.86zM5.41 20L4 18.59l7.72-7.72 1.47 1.35L5.41 20z\"/>\n",
              "  </svg>\n",
              "      </button>\n",
              "      \n",
              "  <style>\n",
              "    .colab-df-container {\n",
              "      display:flex;\n",
              "      flex-wrap:wrap;\n",
              "      gap: 12px;\n",
              "    }\n",
              "\n",
              "    .colab-df-convert {\n",
              "      background-color: #E8F0FE;\n",
              "      border: none;\n",
              "      border-radius: 50%;\n",
              "      cursor: pointer;\n",
              "      display: none;\n",
              "      fill: #1967D2;\n",
              "      height: 32px;\n",
              "      padding: 0 0 0 0;\n",
              "      width: 32px;\n",
              "    }\n",
              "\n",
              "    .colab-df-convert:hover {\n",
              "      background-color: #E2EBFA;\n",
              "      box-shadow: 0px 1px 2px rgba(60, 64, 67, 0.3), 0px 1px 3px 1px rgba(60, 64, 67, 0.15);\n",
              "      fill: #174EA6;\n",
              "    }\n",
              "\n",
              "    [theme=dark] .colab-df-convert {\n",
              "      background-color: #3B4455;\n",
              "      fill: #D2E3FC;\n",
              "    }\n",
              "\n",
              "    [theme=dark] .colab-df-convert:hover {\n",
              "      background-color: #434B5C;\n",
              "      box-shadow: 0px 1px 3px 1px rgba(0, 0, 0, 0.15);\n",
              "      filter: drop-shadow(0px 1px 2px rgba(0, 0, 0, 0.3));\n",
              "      fill: #FFFFFF;\n",
              "    }\n",
              "  </style>\n",
              "\n",
              "      <script>\n",
              "        const buttonEl =\n",
              "          document.querySelector('#df-8aca71f4-c9b5-4d6e-b9d5-07a29c1c039c button.colab-df-convert');\n",
              "        buttonEl.style.display =\n",
              "          google.colab.kernel.accessAllowed ? 'block' : 'none';\n",
              "\n",
              "        async function convertToInteractive(key) {\n",
              "          const element = document.querySelector('#df-8aca71f4-c9b5-4d6e-b9d5-07a29c1c039c');\n",
              "          const dataTable =\n",
              "            await google.colab.kernel.invokeFunction('convertToInteractive',\n",
              "                                                     [key], {});\n",
              "          if (!dataTable) return;\n",
              "\n",
              "          const docLinkHtml = 'Like what you see? Visit the ' +\n",
              "            '<a target=\"_blank\" href=https://colab.research.google.com/notebooks/data_table.ipynb>data table notebook</a>'\n",
              "            + ' to learn more about interactive tables.';\n",
              "          element.innerHTML = '';\n",
              "          dataTable['output_type'] = 'display_data';\n",
              "          await google.colab.output.renderOutput(dataTable, element);\n",
              "          const docLink = document.createElement('div');\n",
              "          docLink.innerHTML = docLinkHtml;\n",
              "          element.appendChild(docLink);\n",
              "        }\n",
              "      </script>\n",
              "    </div>\n",
              "  </div>\n",
              "  "
            ]
          },
          "metadata": {},
          "execution_count": 808
        }
      ],
      "source": [
        "# recode a factor level/character string into a numerical value\n",
        "# note that with that, the level of measurement is changed from ordinal to interval\n",
        "\n",
        "cleanup = {\"Size\": {\"Small\":0, \"Medium\":1, \"Large\":2}}\n",
        "data.replace(cleanup, inplace=True)\n",
        "data.head()"
      ]
    },
    {
      "cell_type": "markdown",
      "metadata": {
        "id": "I3HxeovPErvR"
      },
      "source": [
        "This method should not be used with categorical values with no ordinal relationship, for example the colour. Is red bigger than blue?\n",
        "\n",
        "\n",
        "If we treat them as having ordinal relationship some algorithms may be unaffected by this. However, most algorithms will suffer (in terms of accuracy) when using this practice.\n",
        "The 'proper' way to deal with such values is to create a number of variables equal to the the number of different values that the categorical value may take, and then set all to 0 except for one that will set to 1. This is called 'one-hot' encoding. In our case it would be somthing like:\n",
        "\n",
        "Red -> \\[0, 0, 1\\]\n",
        "\n",
        "Blue -> \\[1, 0, 0\\]\n",
        "\n",
        "Green -> \\[0, 1, 0\\]\n",
        "\n",
        "Fortunately, pandas makes this easy with the method `get_dummies`."
      ]
    },
    {
      "cell_type": "code",
      "execution_count": 809,
      "metadata": {
        "id": "jmqREO5xErvR",
        "colab": {
          "base_uri": "https://localhost:8080/",
          "height": 206
        },
        "outputId": "b801cd0c-9090-4329-d4a0-971e5f9000b9"
      },
      "outputs": [
        {
          "output_type": "execute_result",
          "data": {
            "text/plain": [
              "           Date  Time  Size        Cost  Label  Colour_Blue  Colour_Green  \\\n",
              "0  6.566400e+15  11.0     0  109.521068      1            1             0   \n",
              "1  6.566400e+15  13.0     0  112.141170      1            0             0   \n",
              "2  6.566400e+15  17.0     1  112.004677      1            0             1   \n",
              "3  6.652800e+15   9.0     2   15.112922      0            0             1   \n",
              "4  6.652800e+15  11.0     2  105.663642      1            0             1   \n",
              "\n",
              "   Colour_Red  \n",
              "0           0  \n",
              "1           1  \n",
              "2           0  \n",
              "3           0  \n",
              "4           0  "
            ],
            "text/html": [
              "\n",
              "  <div id=\"df-bce12c7b-6b7e-45b8-999c-ed1f52ec0a2e\">\n",
              "    <div class=\"colab-df-container\">\n",
              "      <div>\n",
              "<style scoped>\n",
              "    .dataframe tbody tr th:only-of-type {\n",
              "        vertical-align: middle;\n",
              "    }\n",
              "\n",
              "    .dataframe tbody tr th {\n",
              "        vertical-align: top;\n",
              "    }\n",
              "\n",
              "    .dataframe thead th {\n",
              "        text-align: right;\n",
              "    }\n",
              "</style>\n",
              "<table border=\"1\" class=\"dataframe\">\n",
              "  <thead>\n",
              "    <tr style=\"text-align: right;\">\n",
              "      <th></th>\n",
              "      <th>Date</th>\n",
              "      <th>Time</th>\n",
              "      <th>Size</th>\n",
              "      <th>Cost</th>\n",
              "      <th>Label</th>\n",
              "      <th>Colour_Blue</th>\n",
              "      <th>Colour_Green</th>\n",
              "      <th>Colour_Red</th>\n",
              "    </tr>\n",
              "  </thead>\n",
              "  <tbody>\n",
              "    <tr>\n",
              "      <th>0</th>\n",
              "      <td>6.566400e+15</td>\n",
              "      <td>11.0</td>\n",
              "      <td>0</td>\n",
              "      <td>109.521068</td>\n",
              "      <td>1</td>\n",
              "      <td>1</td>\n",
              "      <td>0</td>\n",
              "      <td>0</td>\n",
              "    </tr>\n",
              "    <tr>\n",
              "      <th>1</th>\n",
              "      <td>6.566400e+15</td>\n",
              "      <td>13.0</td>\n",
              "      <td>0</td>\n",
              "      <td>112.141170</td>\n",
              "      <td>1</td>\n",
              "      <td>0</td>\n",
              "      <td>0</td>\n",
              "      <td>1</td>\n",
              "    </tr>\n",
              "    <tr>\n",
              "      <th>2</th>\n",
              "      <td>6.566400e+15</td>\n",
              "      <td>17.0</td>\n",
              "      <td>1</td>\n",
              "      <td>112.004677</td>\n",
              "      <td>1</td>\n",
              "      <td>0</td>\n",
              "      <td>1</td>\n",
              "      <td>0</td>\n",
              "    </tr>\n",
              "    <tr>\n",
              "      <th>3</th>\n",
              "      <td>6.652800e+15</td>\n",
              "      <td>9.0</td>\n",
              "      <td>2</td>\n",
              "      <td>15.112922</td>\n",
              "      <td>0</td>\n",
              "      <td>0</td>\n",
              "      <td>1</td>\n",
              "      <td>0</td>\n",
              "    </tr>\n",
              "    <tr>\n",
              "      <th>4</th>\n",
              "      <td>6.652800e+15</td>\n",
              "      <td>11.0</td>\n",
              "      <td>2</td>\n",
              "      <td>105.663642</td>\n",
              "      <td>1</td>\n",
              "      <td>0</td>\n",
              "      <td>1</td>\n",
              "      <td>0</td>\n",
              "    </tr>\n",
              "  </tbody>\n",
              "</table>\n",
              "</div>\n",
              "      <button class=\"colab-df-convert\" onclick=\"convertToInteractive('df-bce12c7b-6b7e-45b8-999c-ed1f52ec0a2e')\"\n",
              "              title=\"Convert this dataframe to an interactive table.\"\n",
              "              style=\"display:none;\">\n",
              "        \n",
              "  <svg xmlns=\"http://www.w3.org/2000/svg\" height=\"24px\"viewBox=\"0 0 24 24\"\n",
              "       width=\"24px\">\n",
              "    <path d=\"M0 0h24v24H0V0z\" fill=\"none\"/>\n",
              "    <path d=\"M18.56 5.44l.94 2.06.94-2.06 2.06-.94-2.06-.94-.94-2.06-.94 2.06-2.06.94zm-11 1L8.5 8.5l.94-2.06 2.06-.94-2.06-.94L8.5 2.5l-.94 2.06-2.06.94zm10 10l.94 2.06.94-2.06 2.06-.94-2.06-.94-.94-2.06-.94 2.06-2.06.94z\"/><path d=\"M17.41 7.96l-1.37-1.37c-.4-.4-.92-.59-1.43-.59-.52 0-1.04.2-1.43.59L10.3 9.45l-7.72 7.72c-.78.78-.78 2.05 0 2.83L4 21.41c.39.39.9.59 1.41.59.51 0 1.02-.2 1.41-.59l7.78-7.78 2.81-2.81c.8-.78.8-2.07 0-2.86zM5.41 20L4 18.59l7.72-7.72 1.47 1.35L5.41 20z\"/>\n",
              "  </svg>\n",
              "      </button>\n",
              "      \n",
              "  <style>\n",
              "    .colab-df-container {\n",
              "      display:flex;\n",
              "      flex-wrap:wrap;\n",
              "      gap: 12px;\n",
              "    }\n",
              "\n",
              "    .colab-df-convert {\n",
              "      background-color: #E8F0FE;\n",
              "      border: none;\n",
              "      border-radius: 50%;\n",
              "      cursor: pointer;\n",
              "      display: none;\n",
              "      fill: #1967D2;\n",
              "      height: 32px;\n",
              "      padding: 0 0 0 0;\n",
              "      width: 32px;\n",
              "    }\n",
              "\n",
              "    .colab-df-convert:hover {\n",
              "      background-color: #E2EBFA;\n",
              "      box-shadow: 0px 1px 2px rgba(60, 64, 67, 0.3), 0px 1px 3px 1px rgba(60, 64, 67, 0.15);\n",
              "      fill: #174EA6;\n",
              "    }\n",
              "\n",
              "    [theme=dark] .colab-df-convert {\n",
              "      background-color: #3B4455;\n",
              "      fill: #D2E3FC;\n",
              "    }\n",
              "\n",
              "    [theme=dark] .colab-df-convert:hover {\n",
              "      background-color: #434B5C;\n",
              "      box-shadow: 0px 1px 3px 1px rgba(0, 0, 0, 0.15);\n",
              "      filter: drop-shadow(0px 1px 2px rgba(0, 0, 0, 0.3));\n",
              "      fill: #FFFFFF;\n",
              "    }\n",
              "  </style>\n",
              "\n",
              "      <script>\n",
              "        const buttonEl =\n",
              "          document.querySelector('#df-bce12c7b-6b7e-45b8-999c-ed1f52ec0a2e button.colab-df-convert');\n",
              "        buttonEl.style.display =\n",
              "          google.colab.kernel.accessAllowed ? 'block' : 'none';\n",
              "\n",
              "        async function convertToInteractive(key) {\n",
              "          const element = document.querySelector('#df-bce12c7b-6b7e-45b8-999c-ed1f52ec0a2e');\n",
              "          const dataTable =\n",
              "            await google.colab.kernel.invokeFunction('convertToInteractive',\n",
              "                                                     [key], {});\n",
              "          if (!dataTable) return;\n",
              "\n",
              "          const docLinkHtml = 'Like what you see? Visit the ' +\n",
              "            '<a target=\"_blank\" href=https://colab.research.google.com/notebooks/data_table.ipynb>data table notebook</a>'\n",
              "            + ' to learn more about interactive tables.';\n",
              "          element.innerHTML = '';\n",
              "          dataTable['output_type'] = 'display_data';\n",
              "          await google.colab.output.renderOutput(dataTable, element);\n",
              "          const docLink = document.createElement('div');\n",
              "          docLink.innerHTML = docLinkHtml;\n",
              "          element.appendChild(docLink);\n",
              "        }\n",
              "      </script>\n",
              "    </div>\n",
              "  </div>\n",
              "  "
            ]
          },
          "metadata": {},
          "execution_count": 809
        }
      ],
      "source": [
        "# 'one-hot' coding is the same as dummy-coding, but often it is recommended to use all possible combinations k rather than k-1 using one combination as reference\n",
        "\n",
        "data = pd.get_dummies(data, columns= ['Colour'])\n",
        "data.head()"
      ]
    },
    {
      "cell_type": "markdown",
      "metadata": {
        "id": "j_R9ELS7ErvR"
      },
      "source": [
        "We can now confirm that all columns have been converted to numeric types."
      ]
    },
    {
      "cell_type": "code",
      "execution_count": 810,
      "metadata": {
        "id": "T1KGGMd7ErvS",
        "colab": {
          "base_uri": "https://localhost:8080/"
        },
        "outputId": "7ab5ffa6-3879-4770-f5a3-8f4ca46c7fde"
      },
      "outputs": [
        {
          "output_type": "execute_result",
          "data": {
            "text/plain": [
              "Date            float64\n",
              "Time            float64\n",
              "Size              int64\n",
              "Cost            float64\n",
              "Label             int64\n",
              "Colour_Blue       uint8\n",
              "Colour_Green      uint8\n",
              "Colour_Red        uint8\n",
              "dtype: object"
            ]
          },
          "metadata": {},
          "execution_count": 810
        }
      ],
      "source": [
        "data.dtypes"
      ]
    },
    {
      "cell_type": "markdown",
      "metadata": {
        "id": "bOX8VD-BErvS"
      },
      "source": [
        "Finally we want to transfer our data to two numpy arrays, one containing the variables (features) and another the labels (ground truth)."
      ]
    },
    {
      "cell_type": "code",
      "execution_count": 811,
      "metadata": {
        "id": "4yYmHanZErvS",
        "colab": {
          "base_uri": "https://localhost:8080/"
        },
        "outputId": "e16fe594-6397-4894-d83c-f9aa15f113da"
      },
      "outputs": [
        {
          "output_type": "stream",
          "name": "stdout",
          "text": [
            "(33, 7) (33,)\n"
          ]
        }
      ],
      "source": [
        "import numpy as np\n",
        "x = data.loc[:, data.columns != 'Label'].to_numpy() # Date, Time, Size, Cost, Colour_Blue, Colour_Green, Colour_Red\n",
        "y = data.loc[:, 'Label'].to_numpy() # Label\n",
        "print(x.shape, y.shape)"
      ]
    },
    {
      "cell_type": "code",
      "source": [
        "print(x)"
      ],
      "metadata": {
        "colab": {
          "base_uri": "https://localhost:8080/"
        },
        "id": "-xhH_DnfK7oI",
        "outputId": "73c3cba6-d5b5-405d-823d-eb7e27bf0348"
      },
      "execution_count": 812,
      "outputs": [
        {
          "output_type": "stream",
          "name": "stdout",
          "text": [
            "[[6.56640000e+15 1.10000000e+01 0.00000000e+00 1.09521068e+02\n",
            "  1.00000000e+00 0.00000000e+00 0.00000000e+00]\n",
            " [6.56640000e+15 1.30000000e+01 0.00000000e+00 1.12141170e+02\n",
            "  0.00000000e+00 0.00000000e+00 1.00000000e+00]\n",
            " [6.56640000e+15 1.70000000e+01 1.00000000e+00 1.12004677e+02\n",
            "  0.00000000e+00 1.00000000e+00 0.00000000e+00]\n",
            " [6.65280000e+15 9.00000000e+00 2.00000000e+00 1.51129219e+01\n",
            "  0.00000000e+00 1.00000000e+00 0.00000000e+00]\n",
            " [6.65280000e+15 1.10000000e+01 2.00000000e+00 1.05663642e+02\n",
            "  0.00000000e+00 1.00000000e+00 0.00000000e+00]\n",
            " [6.65280000e+15 1.70000000e+01 1.00000000e+00 5.15809691e+00\n",
            "  0.00000000e+00 1.00000000e+00 0.00000000e+00]\n",
            " [6.73920000e+15 9.00000000e+00 0.00000000e+00 1.07947930e+02\n",
            "  1.00000000e+00 0.00000000e+00 0.00000000e+00]\n",
            " [6.73920000e+15            nan 2.00000000e+00 8.32083783e+00\n",
            "  0.00000000e+00 0.00000000e+00 1.00000000e+00]\n",
            " [6.73920000e+15 1.30000000e+01 2.00000000e+00 1.13424684e+02\n",
            "  0.00000000e+00 0.00000000e+00 1.00000000e+00]\n",
            " [6.73920000e+15 1.50000000e+01 0.00000000e+00 1.03223563e+02\n",
            "  1.00000000e+00 0.00000000e+00 0.00000000e+00]\n",
            " [6.73920000e+15 1.70000000e+01 2.00000000e+00 1.15190210e+02\n",
            "  0.00000000e+00 0.00000000e+00 1.00000000e+00]\n",
            " [6.82560000e+15 9.00000000e+00 1.00000000e+00 1.05216665e+02\n",
            "  1.00000000e+00 0.00000000e+00 0.00000000e+00]\n",
            " [6.82560000e+15 1.10000000e+01 0.00000000e+00 1.03433604e+02\n",
            "  0.00000000e+00 0.00000000e+00 1.00000000e+00]\n",
            " [6.82560000e+15 1.30000000e+01 2.00000000e+00 1.55992482e+01\n",
            "  1.00000000e+00 0.00000000e+00 0.00000000e+00]\n",
            " [6.82560000e+15 1.50000000e+01 0.00000000e+00 1.29042051e+01\n",
            "  0.00000000e+00 0.00000000e+00 1.00000000e+00]\n",
            " [6.91200000e+15 9.00000000e+00 0.00000000e+00 1.90423340e+01\n",
            "  0.00000000e+00 0.00000000e+00 1.00000000e+00]\n",
            " [6.91200000e+15            nan 2.00000000e+00 1.13658567e+02\n",
            "  1.00000000e+00 0.00000000e+00 0.00000000e+00]\n",
            " [6.91200000e+15 1.70000000e+01 1.00000000e+00 1.15991724e+02\n",
            "  0.00000000e+00 0.00000000e+00 1.00000000e+00]\n",
            " [7.17120000e+15 1.10000000e+01 1.00000000e+00 3.64378725e+00\n",
            "  1.00000000e+00 0.00000000e+00 0.00000000e+00]\n",
            " [7.25760000e+15 1.10000000e+01 1.00000000e+00 1.18108710e+02\n",
            "  0.00000000e+00 0.00000000e+00 1.00000000e+00]\n",
            " [7.34400000e+15 1.10000000e+01 2.00000000e+00 1.49736108e+01\n",
            "  0.00000000e+00 1.00000000e+00 0.00000000e+00]\n",
            " [7.34400000e+15            nan 2.00000000e+00 1.06993878e+01\n",
            "  1.00000000e+00 0.00000000e+00 0.00000000e+00]\n",
            " [7.34400000e+15 1.50000000e+01 2.00000000e+00 1.06224366e+02\n",
            "  0.00000000e+00 0.00000000e+00 1.00000000e+00]\n",
            " [7.43040000e+15 1.10000000e+01 2.00000000e+00 1.14638621e+02\n",
            "  0.00000000e+00 0.00000000e+00 1.00000000e+00]\n",
            " [7.43040000e+15 1.30000000e+01 0.00000000e+00 1.22823534e+00\n",
            "  1.00000000e+00 0.00000000e+00 0.00000000e+00]\n",
            " [7.51680000e+15 1.10000000e+01 2.00000000e+00 5.79145035e+00\n",
            "  0.00000000e+00 0.00000000e+00 1.00000000e+00]\n",
            " [7.60320000e+15 9.00000000e+00 0.00000000e+00 8.60680643e+00\n",
            "  0.00000000e+00 0.00000000e+00 1.00000000e+00]\n",
            " [7.60320000e+15 1.30000000e+01 2.00000000e+00 1.24143772e+01\n",
            "  1.00000000e+00 0.00000000e+00 0.00000000e+00]\n",
            " [7.77600000e+15            nan 2.00000000e+00 1.15663402e+02\n",
            "  0.00000000e+00 0.00000000e+00 1.00000000e+00]\n",
            " [7.77600000e+15 1.30000000e+01 0.00000000e+00 1.15410273e+02\n",
            "  1.00000000e+00 0.00000000e+00 0.00000000e+00]\n",
            " [7.77600000e+15 1.10000000e+01 0.00000000e+00 1.05401517e+02\n",
            "  0.00000000e+00 0.00000000e+00 1.00000000e+00]\n",
            " [7.86240000e+15 1.30000000e+01 1.00000000e+00 1.37766948e-01\n",
            "  0.00000000e+00 1.00000000e+00 0.00000000e+00]\n",
            " [7.94880000e+15 9.00000000e+00 2.00000000e+00 1.12661384e+02\n",
            "  0.00000000e+00 1.00000000e+00 0.00000000e+00]]\n"
          ]
        }
      ]
    },
    {
      "cell_type": "code",
      "source": [
        "print(y)"
      ],
      "metadata": {
        "colab": {
          "base_uri": "https://localhost:8080/"
        },
        "id": "djn7ak-mLQIR",
        "outputId": "0e26b890-68b8-4a33-bd52-f5f29bcf41ce"
      },
      "execution_count": 813,
      "outputs": [
        {
          "output_type": "stream",
          "name": "stdout",
          "text": [
            "[1 1 1 0 1 0 1 0 1 1 1 1 1 0 0 0 1 1 0 1 0 0 1 1 0 0 0 0 1 1 1 0 1]\n"
          ]
        }
      ]
    },
    {
      "cell_type": "markdown",
      "metadata": {
        "id": "auKC0xE3ErvS"
      },
      "source": [
        "## Data Visualization"
      ]
    },
    {
      "cell_type": "markdown",
      "metadata": {
        "id": "wM3cN1_PErvS"
      },
      "source": [
        "It is good practice to visualize the data to see if there is something obviously wrong. The matplotlib library includes a number of useful visualisation tools to help us. Getting familiar with this library (or a similar one) and its functions is a first step become a data scientist. Among the many functions make sure you become familiar with scatter, plot, and bar!"
      ]
    },
    {
      "cell_type": "markdown",
      "metadata": {
        "id": "EqEuij1HErvT"
      },
      "source": [
        "### False predictors"
      ]
    },
    {
      "cell_type": "markdown",
      "metadata": {
        "id": "25u-TMRwErvT"
      },
      "source": [
        "In some ocassions we may have a variable that is a false predictor, meaning that it's been introduced in the data by mistake and contains information about the label. Let's imagine that we have a dataset of clients of a bank, and we want to predict if a client will buy an add-on insurance. One of the variables could be how much the client pays to the bank for its services. If this price includes the cost of the insurance, this will result in a variable that may have a strong prediction power but won't work during the deployment because we will detect only the clients that already have an insurance."
      ]
    },
    {
      "cell_type": "markdown",
      "metadata": {
        "id": "tmVjx52-ErvT"
      },
      "source": [
        "In our data there is one false predictor, could you point which one looking at the plots?"
      ]
    },
    {
      "cell_type": "code",
      "execution_count": 814,
      "metadata": {
        "id": "FWpOfuIeErvU",
        "colab": {
          "base_uri": "https://localhost:8080/",
          "height": 390
        },
        "outputId": "1afce3c9-7800-4e8a-fa2c-acc0c8243d51"
      },
      "outputs": [
        {
          "output_type": "display_data",
          "data": {
            "text/plain": [
              "<Figure size 576x432 with 7 Axes>"
            ],
            "image/png": "[encoded data removed]"
          },
          "metadata": {
            "needs_background": "light"
          }
        }
      ],
      "source": [
        "import matplotlib.pyplot as plt\n",
        "\n",
        "plt.figure(figsize=(8,6))\n",
        "for i in range(x.shape[1]):\n",
        "    plt.subplot(3, 3, i+1)\n",
        "    plt.scatter(y,x[:,i])\n",
        "    plt.xticks([0, 1])\n",
        "    plt.title(data.columns[i])"
      ]
    },
    {
      "cell_type": "markdown",
      "source": [
        "The plot above suggests that Cost is a false predictor."
      ],
      "metadata": {
        "id": "bLfaNgB0LmQT"
      }
    },
    {
      "cell_type": "markdown",
      "metadata": {
        "id": "26I88JO0ErvU"
      },
      "source": [
        "## Cross-validation\n",
        "Learning the parameters of a prediction function and testing it on the same data is a methodological mistake: a model may memorise the training data perfectly and have a perfect score but would fail to predict anything useful on yet-unseen data. This situation is called overfitting. To avoid it, when performing a (supervised) machine learning task, it is common practice to hold out part of the available data as a test set, which we will store in the variables `X_test` and `y_test`. "
      ]
    },
    {
      "cell_type": "markdown",
      "metadata": {
        "id": "bjJQIBAEErvU"
      },
      "source": [
        "Conceptually, we need to simulate the future situation, where we have trained our system with some data and, then, we apply it to some unseen data. However, to get better estimates of the accuracy of our model on new data, it is good practice to repeat the procedure after rotating which part of the data are used for train and which for testing. One such methos is called *cross-validation* and helps reduce the variability in estimating the accuracy on new data."
      ]
    },
    {
      "cell_type": "markdown",
      "metadata": {
        "id": "5PX3EhYwErvU"
      },
      "source": [
        "Scikit-learn is a library for machine learning (more on this in the next lab). It has a collection of classes which can be used to generate lists of train/test indices for popular cross-validation strategies.\n",
        "\n",
        "They expose a `split` method which accepts the input dataset to be split and yields the train/test set indices for each iteration of the chosen cross-validation strategy."
      ]
    },
    {
      "cell_type": "code",
      "execution_count": 815,
      "metadata": {
        "id": "qkO27go8ErvU",
        "colab": {
          "base_uri": "https://localhost:8080/"
        },
        "outputId": "8fdcd7fd-64f3-4b2a-aa92-e6daa4eb51d6"
      },
      "outputs": [
        {
          "output_type": "stream",
          "name": "stdout",
          "text": [
            "Train: [ 7  8  9 10 11 12 13 14 15 16 17 18 19 20 21 22 23 24 25 26 27 28 29 30\n",
            " 31 32] | test: [0 1 2 3 4 5 6]\n",
            "Train: [ 0  1  2  3  4  5  6 14 15 16 17 18 19 20 21 22 23 24 25 26 27 28 29 30\n",
            " 31 32] | test: [ 7  8  9 10 11 12 13]\n",
            "Train: [ 0  1  2  3  4  5  6  7  8  9 10 11 12 13 21 22 23 24 25 26 27 28 29 30\n",
            " 31 32] | test: [14 15 16 17 18 19 20]\n",
            "Train: [ 0  1  2  3  4  5  6  7  8  9 10 11 12 13 14 15 16 17 18 19 20 27 28 29\n",
            " 30 31 32] | test: [21 22 23 24 25 26]\n",
            "Train: [ 0  1  2  3  4  5  6  7  8  9 10 11 12 13 14 15 16 17 18 19 20 21 22 23\n",
            " 24 25 26] | test: [27 28 29 30 31 32]\n"
          ]
        }
      ],
      "source": [
        "from sklearn.model_selection import KFold, cross_val_score\n",
        "\n",
        "k_fold = KFold(n_splits=5) # Provides train/test indices to split data in train/test sets. Split dataset into k consecutive folds (without shuffling by default).\n",
        "for train_indices, test_indices in k_fold.split(x):\n",
        "    print('Train: %s | test: %s' % (train_indices, test_indices))"
      ]
    },
    {
      "cell_type": "markdown",
      "metadata": {
        "id": "V07AAFM3ErvV"
      },
      "source": [
        "Graphically, we can represent the cross validation loop as follows (where 'O' reprersents a training sample and '•' a test one):"
      ]
    },
    {
      "cell_type": "code",
      "execution_count": 816,
      "metadata": {
        "id": "jv7qWTi6ErvV",
        "colab": {
          "base_uri": "https://localhost:8080/"
        },
        "outputId": "8887ed58-f98d-4a51-b72e-2660605ec443"
      },
      "outputs": [
        {
          "output_type": "stream",
          "name": "stdout",
          "text": [
            "•••••••OOOOOOOOOOOOOOOOOOOOOOOOOO\n",
            "OOOOOOO•••••••OOOOOOOOOOOOOOOOOOO\n",
            "OOOOOOOOOOOOOO•••••••OOOOOOOOOOOO\n",
            "OOOOOOOOOOOOOOOOOOOOO••••••OOOOOO\n",
            "OOOOOOOOOOOOOOOOOOOOOOOOOOO••••••\n"
          ]
        }
      ],
      "source": [
        "# KFold(n_splits=5) always uses consecutive chunks, unless shuffle argument is specified using shuffle=True\n",
        "\n",
        "for train_indices, test_indices in k_fold.split(x):\n",
        "    for i in range(len(x)):\n",
        "        print('O' if i in train_indices else '•', end='')\n",
        "    print('')"
      ]
    },
    {
      "cell_type": "markdown",
      "metadata": {
        "id": "CoUWsnCnErvV"
      },
      "source": [
        "Cross-validation is the cornerstone of supervised machine learning design. All the data-dependent manipulations (not only classification, but also pre-processing) **must happen inside Cross-Validation loops** when analysing the performance of a system."
      ]
    },
    {
      "cell_type": "markdown",
      "metadata": {
        "id": "f1BejPZYErvV"
      },
      "source": [
        "Multiple cross-validation loops can be nested when performing hyper-paramether fitting. We will explore this in the next lab. See this [link](https://stats.stackexchange.com/q/292179) for a graphical representation of nested cross-validation."
      ]
    },
    {
      "cell_type": "markdown",
      "metadata": {
        "id": "CILelbZgErvV"
      },
      "source": [
        "The `Kfold` class in sklearn, has another paramether, shuffle. Read the documentation about it and explore what changes when its value is True."
      ]
    },
    {
      "cell_type": "code",
      "source": [
        "k_fold = KFold(n_splits=5, shuffle = True) # Provides train/test indices to split data in train/test sets. Split dataset into k consecutive folds (without shuffling by default).\n",
        "for train_indices, test_indices in k_fold.split(x):\n",
        "    print('Train: %s | test: %s' % (train_indices, test_indices))\n",
        "    for i in range(len(x)):\n",
        "        print('O' if i in train_indices else '•', end='')\n",
        "    print('')"
      ],
      "metadata": {
        "colab": {
          "base_uri": "https://localhost:8080/"
        },
        "id": "7ctL_FayOEhP",
        "outputId": "8ad51fab-de8c-4f5f-c714-3257f4e05392"
      },
      "execution_count": 817,
      "outputs": [
        {
          "output_type": "stream",
          "name": "stdout",
          "text": [
            "Train: [ 0  2  3  5  6  7  8  9 10 11 12 13 14 15 16 17 18 22 23 24 25 26 28 29\n",
            " 31 32] | test: [ 1  4 19 20 21 27 30]\n",
            "O•OO•OOOOOOOOOOOOOO•••OOOOO•OO•OO\n",
            "Train: [ 0  1  3  4  5  6  7  9 10 11 13 17 18 19 20 21 22 23 24 25 27 28 29 30\n",
            " 31 32] | test: [ 2  8 12 14 15 16 26]\n",
            "OO•OOOOO•OOO•O•••OOOOOOOOO•OOOOOO\n",
            "Train: [ 0  1  2  3  4  5  6  7  8  9 10 12 13 14 15 16 18 19 20 21 22 24 26 27\n",
            " 30 31] | test: [11 17 23 25 28 29 32]\n",
            "OOOOOOOOOOO•OOOOO•OOOOO•O•OO••OO•\n",
            "Train: [ 1  2  4  7  8  9 11 12 13 14 15 16 17 19 20 21 22 23 24 25 26 27 28 29\n",
            " 30 31 32] | test: [ 0  3  5  6 10 18]\n",
            "•OO•O••OOO•OOOOOOO•OOOOOOOOOOOOOO\n",
            "Train: [ 0  1  2  3  4  5  6  8 10 11 12 14 15 16 17 18 19 20 21 23 25 26 27 28\n",
            " 29 30 32] | test: [ 7  9 13 22 24 31]\n",
            "OOOOOOO•O•OOO•OOOOOOOO•O•OOOOOO•O\n"
          ]
        }
      ]
    },
    {
      "cell_type": "markdown",
      "metadata": {
        "id": "vz-sdN8SErvW"
      },
      "source": [
        "## Pre-processing"
      ]
    },
    {
      "cell_type": "markdown",
      "metadata": {
        "id": "gw016GFeErvW"
      },
      "source": [
        "### Missing data"
      ]
    },
    {
      "cell_type": "markdown",
      "metadata": {
        "id": "oYcBq4brErvW"
      },
      "source": [
        "It is common to have missing values in some of the variables. We can see this counting the number of NaN (Not a Number) in our dataset:"
      ]
    },
    {
      "cell_type": "code",
      "execution_count": 818,
      "metadata": {
        "id": "AVqBUm5qErvW",
        "colab": {
          "base_uri": "https://localhost:8080/"
        },
        "outputId": "f08f4bb2-62b4-4190-c21a-6aef125d1b26"
      },
      "outputs": [
        {
          "output_type": "execute_result",
          "data": {
            "text/plain": [
              "array([0, 4, 0, 0, 0, 0, 0])"
            ]
          },
          "metadata": {},
          "execution_count": 818
        }
      ],
      "source": [
        "# x: Date, Time, Size, Cost, Colour_Blue, Colour_Green, Colour_Red\n",
        "np.sum(np.isnan(x), 0)"
      ]
    },
    {
      "cell_type": "markdown",
      "metadata": {
        "id": "h6y4luf5ErvW"
      },
      "source": [
        "Here we can see that the second variable in our dataset has some values that are missing."
      ]
    },
    {
      "cell_type": "markdown",
      "metadata": {
        "id": "rivc93_ZErvW"
      },
      "source": [
        "#### Default value"
      ]
    },
    {
      "cell_type": "markdown",
      "metadata": {
        "id": "YL3V_8HXErvW"
      },
      "source": [
        "The fastest and easiest way to deal with missing data, is to assing a default value (ex. 0). This is possible if we know something about the variable and which may be a good default value, but sometimes we don't."
      ]
    },
    {
      "cell_type": "markdown",
      "metadata": {
        "id": "hEWzQj0tErvX"
      },
      "source": [
        "#### Data-driven value"
      ]
    },
    {
      "cell_type": "markdown",
      "metadata": {
        "id": "Y5yZkzmrErvX"
      },
      "source": [
        "A better option, is to use a value that is derived from the data, such as the mean, median or other statistical value. However, as mentioned before, this should happen **inside the cross-validation** (i.e. any value used for imputation must be computed using only the training data)."
      ]
    },
    {
      "cell_type": "markdown",
      "metadata": {
        "id": "5iOlr8ZxErvX"
      },
      "source": [
        "Here we calculate the mean of the second variable in our dataset for different folds. We use the function `nanmean` from numpy to calculate the mean of an array containing NaN values."
      ]
    },
    {
      "cell_type": "code",
      "execution_count": 819,
      "metadata": {
        "id": "7xJcxdcxErvX",
        "colab": {
          "base_uri": "https://localhost:8080/"
        },
        "outputId": "4ca2e38f-c971-4436-bd13-56c6a495e0fc"
      },
      "outputs": [
        {
          "output_type": "stream",
          "name": "stdout",
          "text": [
            "12.272727272727273\n",
            "12.130434782608695\n",
            "12.304347826086957\n",
            "12.416666666666666\n",
            "12.416666666666666\n"
          ]
        }
      ],
      "source": [
        "k_fold = KFold(n_splits=5)\n",
        "# np.nanmean: Compute the arithmetic mean along the specified axis, ignoring NaNs.\n",
        "for train_indices, test_indices in k_fold.split(x):\n",
        "    print(np.nanmean(x[train_indices, 1]))"
      ]
    },
    {
      "cell_type": "markdown",
      "metadata": {
        "id": "o8ZpuU4QErvX"
      },
      "source": [
        "As you can see the value of that mean differs for each fold. This is why is important to do it inside the fold validation loop."
      ]
    },
    {
      "cell_type": "markdown",
      "metadata": {
        "id": "rFq7C1QvErvX"
      },
      "source": [
        "### Data transformation"
      ]
    },
    {
      "cell_type": "markdown",
      "metadata": {
        "id": "57Cf2C1YErvX"
      },
      "source": [
        "Many algorithms work better when the data are inside a specific range, or when all the data have similar ranges. This is not the case for all the algorithms (some work equally well with unnormalised or normalised data)."
      ]
    },
    {
      "cell_type": "markdown",
      "metadata": {
        "id": "v3Nty-T5ErvY"
      },
      "source": [
        "#### Data-clipping"
      ]
    },
    {
      "cell_type": "markdown",
      "metadata": {
        "id": "0-bjzP43ErvY"
      },
      "source": [
        "One option is to just set predefined maximum and minimum values. For this, we can use the `clip` method from numpy.\n",
        "\n",
        "Clip (limit) the values in an array.\n",
        "\n",
        "Given an interval, values outside the interval are clipped to the interval edges. For example, if an interval of [0, 1] is specified, values smaller than 0 become 0, and values larger than 1 become 1."
      ]
    },
    {
      "cell_type": "markdown",
      "metadata": {
        "id": "PT3DToDaErvY"
      },
      "source": [
        "#### Scaling and Normalization"
      ]
    },
    {
      "cell_type": "markdown",
      "metadata": {
        "id": "rW_ACrJ4ErvY"
      },
      "source": [
        "In the same way, as with the missing data, a better practice is to perform this procedure in a data-driven manner. For this, sklearn provides several options in its 'preprocessing' package. As before, this normalisation step should be included **inside the cross validation loop** as well."
      ]
    },
    {
      "cell_type": "code",
      "execution_count": 820,
      "metadata": {
        "id": "KgLBmjbSErvY"
      },
      "outputs": [],
      "source": [
        "from sklearn.preprocessing import StandardScaler\n",
        "# StandardScaler centers to values to a mean of 0 and a SD of 1\n",
        "k_fold = KFold(n_splits=5)\n",
        "x_or = x.copy() # We make a copy of our data to avoid overwriting\n",
        "for train_indices, test_indices in k_fold.split(x):\n",
        "    mean = np.nanmean(x_or[train_indices, 1])\n",
        "    x[np.isnan(x_or[:,1]), 1] = mean # We substitute the missing values for the mean\n",
        "    ss = StandardScaler()\n",
        "    ss.fit(x[train_indices, :])\n",
        "    x_train = ss.transform(x[train_indices, :])\n",
        "    x_test = ss.transform(x[test_indices, :])"
      ]
    },
    {
      "cell_type": "markdown",
      "metadata": {
        "id": "X_Kp6hSEErvY"
      },
      "source": [
        "In this example we see something that is common in many methods in the sklearn package, the division between `fit` and `transform`. These allow to the creation of pipelines which help streamline the modeling of different methods."
      ]
    },
    {
      "cell_type": "markdown",
      "metadata": {
        "id": "30mvblYnErvY"
      },
      "source": [
        "## Exercise"
      ]
    },
    {
      "cell_type": "markdown",
      "metadata": {
        "id": "N9mKW7SGErvZ"
      },
      "source": [
        "Using what you have learned in this notebook, prepare the data from the file 'lizards.csv'. Note that in this case you need to manipulate the 'Label' column as well."
      ]
    },
    {
      "cell_type": "code",
      "source": [
        "# read in lizard.csv\n",
        "data = pd.read_csv('/content/drive/MyDrive/Colab Notebooks/lizards.csv')\n",
        "data"
      ],
      "metadata": {
        "colab": {
          "base_uri": "https://localhost:8080/",
          "height": 424
        },
        "id": "1nQGMvD3kkWZ",
        "outputId": "3751ca69-8918-4f51-be70-ce0635559033"
      },
      "execution_count": 821,
      "outputs": [
        {
          "output_type": "execute_result",
          "data": {
            "text/plain": [
              "      ID_e         E         N Sex       Date   Hour Cell Label\n",
              "0     e1f1  5.583066  1.175189   f  05/6/2018  12:27   e1     o\n",
              "1     e1f1  5.325020  0.962680   f  21/6/2018  10:20   e1     o\n",
              "2     e1f1  3.412439  0.947501   f  21/6/2018  14:25   e1     o\n",
              "3     e1f1  3.761561  2.010046   f  21/6/2018  12:30   e1     o\n",
              "4     e1f1       NaN  1.144831   f  15/6/2018  12:06   e1     o\n",
              "...    ...       ...       ...  ..        ...    ...  ...   ...\n",
              "7184  e9m9  1.103858       NaN   m  25/5/2018  15:40   e9     y\n",
              "7185  e9m9  3.699470       NaN   m  25/5/2018  17:21   e9     y\n",
              "7186  e9m9  1.766447       NaN   m  24/5/2018  16:26   e9     y\n",
              "7187  e9m9  0.497900  1.169597   m  23/5/2018  12:30   e9     y\n",
              "7188  e9m9  3.990179  1.146944   m  23/5/2018  13:44   e9     y\n",
              "\n",
              "[7189 rows x 8 columns]"
            ],
            "text/html": [
              "\n",
              "  <div id=\"df-18ba9ee4-ded9-4719-b253-9eb3a0b1e6a8\">\n",
              "    <div class=\"colab-df-container\">\n",
              "      <div>\n",
              "<style scoped>\n",
              "    .dataframe tbody tr th:only-of-type {\n",
              "        vertical-align: middle;\n",
              "    }\n",
              "\n",
              "    .dataframe tbody tr th {\n",
              "        vertical-align: top;\n",
              "    }\n",
              "\n",
              "    .dataframe thead th {\n",
              "        text-align: right;\n",
              "    }\n",
              "</style>\n",
              "<table border=\"1\" class=\"dataframe\">\n",
              "  <thead>\n",
              "    <tr style=\"text-align: right;\">\n",
              "      <th></th>\n",
              "      <th>ID_e</th>\n",
              "      <th>E</th>\n",
              "      <th>N</th>\n",
              "      <th>Sex</th>\n",
              "      <th>Date</th>\n",
              "      <th>Hour</th>\n",
              "      <th>Cell</th>\n",
              "      <th>Label</th>\n",
              "    </tr>\n",
              "  </thead>\n",
              "  <tbody>\n",
              "    <tr>\n",
              "      <th>0</th>\n",
              "      <td>e1f1</td>\n",
              "      <td>5.583066</td>\n",
              "      <td>1.175189</td>\n",
              "      <td>f</td>\n",
              "      <td>05/6/2018</td>\n",
              "      <td>12:27</td>\n",
              "      <td>e1</td>\n",
              "      <td>o</td>\n",
              "    </tr>\n",
              "    <tr>\n",
              "      <th>1</th>\n",
              "      <td>e1f1</td>\n",
              "      <td>5.325020</td>\n",
              "      <td>0.962680</td>\n",
              "      <td>f</td>\n",
              "      <td>21/6/2018</td>\n",
              "      <td>10:20</td>\n",
              "      <td>e1</td>\n",
              "      <td>o</td>\n",
              "    </tr>\n",
              "    <tr>\n",
              "      <th>2</th>\n",
              "      <td>e1f1</td>\n",
              "      <td>3.412439</td>\n",
              "      <td>0.947501</td>\n",
              "      <td>f</td>\n",
              "      <td>21/6/2018</td>\n",
              "      <td>14:25</td>\n",
              "      <td>e1</td>\n",
              "      <td>o</td>\n",
              "    </tr>\n",
              "    <tr>\n",
              "      <th>3</th>\n",
              "      <td>e1f1</td>\n",
              "      <td>3.761561</td>\n",
              "      <td>2.010046</td>\n",
              "      <td>f</td>\n",
              "      <td>21/6/2018</td>\n",
              "      <td>12:30</td>\n",
              "      <td>e1</td>\n",
              "      <td>o</td>\n",
              "    </tr>\n",
              "    <tr>\n",
              "      <th>4</th>\n",
              "      <td>e1f1</td>\n",
              "      <td>NaN</td>\n",
              "      <td>1.144831</td>\n",
              "      <td>f</td>\n",
              "      <td>15/6/2018</td>\n",
              "      <td>12:06</td>\n",
              "      <td>e1</td>\n",
              "      <td>o</td>\n",
              "    </tr>\n",
              "    <tr>\n",
              "      <th>...</th>\n",
              "      <td>...</td>\n",
              "      <td>...</td>\n",
              "      <td>...</td>\n",
              "      <td>...</td>\n",
              "      <td>...</td>\n",
              "      <td>...</td>\n",
              "      <td>...</td>\n",
              "      <td>...</td>\n",
              "    </tr>\n",
              "    <tr>\n",
              "      <th>7184</th>\n",
              "      <td>e9m9</td>\n",
              "      <td>1.103858</td>\n",
              "      <td>NaN</td>\n",
              "      <td>m</td>\n",
              "      <td>25/5/2018</td>\n",
              "      <td>15:40</td>\n",
              "      <td>e9</td>\n",
              "      <td>y</td>\n",
              "    </tr>\n",
              "    <tr>\n",
              "      <th>7185</th>\n",
              "      <td>e9m9</td>\n",
              "      <td>3.699470</td>\n",
              "      <td>NaN</td>\n",
              "      <td>m</td>\n",
              "      <td>25/5/2018</td>\n",
              "      <td>17:21</td>\n",
              "      <td>e9</td>\n",
              "      <td>y</td>\n",
              "    </tr>\n",
              "    <tr>\n",
              "      <th>7186</th>\n",
              "      <td>e9m9</td>\n",
              "      <td>1.766447</td>\n",
              "      <td>NaN</td>\n",
              "      <td>m</td>\n",
              "      <td>24/5/2018</td>\n",
              "      <td>16:26</td>\n",
              "      <td>e9</td>\n",
              "      <td>y</td>\n",
              "    </tr>\n",
              "    <tr>\n",
              "      <th>7187</th>\n",
              "      <td>e9m9</td>\n",
              "      <td>0.497900</td>\n",
              "      <td>1.169597</td>\n",
              "      <td>m</td>\n",
              "      <td>23/5/2018</td>\n",
              "      <td>12:30</td>\n",
              "      <td>e9</td>\n",
              "      <td>y</td>\n",
              "    </tr>\n",
              "    <tr>\n",
              "      <th>7188</th>\n",
              "      <td>e9m9</td>\n",
              "      <td>3.990179</td>\n",
              "      <td>1.146944</td>\n",
              "      <td>m</td>\n",
              "      <td>23/5/2018</td>\n",
              "      <td>13:44</td>\n",
              "      <td>e9</td>\n",
              "      <td>y</td>\n",
              "    </tr>\n",
              "  </tbody>\n",
              "</table>\n",
              "<p>7189 rows × 8 columns</p>\n",
              "</div>\n",
              "      <button class=\"colab-df-convert\" onclick=\"convertToInteractive('df-18ba9ee4-ded9-4719-b253-9eb3a0b1e6a8')\"\n",
              "              title=\"Convert this dataframe to an interactive table.\"\n",
              "              style=\"display:none;\">\n",
              "        \n",
              "  <svg xmlns=\"http://www.w3.org/2000/svg\" height=\"24px\"viewBox=\"0 0 24 24\"\n",
              "       width=\"24px\">\n",
              "    <path d=\"M0 0h24v24H0V0z\" fill=\"none\"/>\n",
              "    <path d=\"M18.56 5.44l.94 2.06.94-2.06 2.06-.94-2.06-.94-.94-2.06-.94 2.06-2.06.94zm-11 1L8.5 8.5l.94-2.06 2.06-.94-2.06-.94L8.5 2.5l-.94 2.06-2.06.94zm10 10l.94 2.06.94-2.06 2.06-.94-2.06-.94-.94-2.06-.94 2.06-2.06.94z\"/><path d=\"M17.41 7.96l-1.37-1.37c-.4-.4-.92-.59-1.43-.59-.52 0-1.04.2-1.43.59L10.3 9.45l-7.72 7.72c-.78.78-.78 2.05 0 2.83L4 21.41c.39.39.9.59 1.41.59.51 0 1.02-.2 1.41-.59l7.78-7.78 2.81-2.81c.8-.78.8-2.07 0-2.86zM5.41 20L4 18.59l7.72-7.72 1.47 1.35L5.41 20z\"/>\n",
              "  </svg>\n",
              "      </button>\n",
              "      \n",
              "  <style>\n",
              "    .colab-df-container {\n",
              "      display:flex;\n",
              "      flex-wrap:wrap;\n",
              "      gap: 12px;\n",
              "    }\n",
              "\n",
              "    .colab-df-convert {\n",
              "      background-color: #E8F0FE;\n",
              "      border: none;\n",
              "      border-radius: 50%;\n",
              "      cursor: pointer;\n",
              "      display: none;\n",
              "      fill: #1967D2;\n",
              "      height: 32px;\n",
              "      padding: 0 0 0 0;\n",
              "      width: 32px;\n",
              "    }\n",
              "\n",
              "    .colab-df-convert:hover {\n",
              "      background-color: #E2EBFA;\n",
              "      box-shadow: 0px 1px 2px rgba(60, 64, 67, 0.3), 0px 1px 3px 1px rgba(60, 64, 67, 0.15);\n",
              "      fill: #174EA6;\n",
              "    }\n",
              "\n",
              "    [theme=dark] .colab-df-convert {\n",
              "      background-color: #3B4455;\n",
              "      fill: #D2E3FC;\n",
              "    }\n",
              "\n",
              "    [theme=dark] .colab-df-convert:hover {\n",
              "      background-color: #434B5C;\n",
              "      box-shadow: 0px 1px 3px 1px rgba(0, 0, 0, 0.15);\n",
              "      filter: drop-shadow(0px 1px 2px rgba(0, 0, 0, 0.3));\n",
              "      fill: #FFFFFF;\n",
              "    }\n",
              "  </style>\n",
              "\n",
              "      <script>\n",
              "        const buttonEl =\n",
              "          document.querySelector('#df-18ba9ee4-ded9-4719-b253-9eb3a0b1e6a8 button.colab-df-convert');\n",
              "        buttonEl.style.display =\n",
              "          google.colab.kernel.accessAllowed ? 'block' : 'none';\n",
              "\n",
              "        async function convertToInteractive(key) {\n",
              "          const element = document.querySelector('#df-18ba9ee4-ded9-4719-b253-9eb3a0b1e6a8');\n",
              "          const dataTable =\n",
              "            await google.colab.kernel.invokeFunction('convertToInteractive',\n",
              "                                                     [key], {});\n",
              "          if (!dataTable) return;\n",
              "\n",
              "          const docLinkHtml = 'Like what you see? Visit the ' +\n",
              "            '<a target=\"_blank\" href=https://colab.research.google.com/notebooks/data_table.ipynb>data table notebook</a>'\n",
              "            + ' to learn more about interactive tables.';\n",
              "          element.innerHTML = '';\n",
              "          dataTable['output_type'] = 'display_data';\n",
              "          await google.colab.output.renderOutput(dataTable, element);\n",
              "          const docLink = document.createElement('div');\n",
              "          docLink.innerHTML = docLinkHtml;\n",
              "          element.appendChild(docLink);\n",
              "        }\n",
              "      </script>\n",
              "    </div>\n",
              "  </div>\n",
              "  "
            ]
          },
          "metadata": {},
          "execution_count": 821
        }
      ]
    },
    {
      "cell_type": "code",
      "source": [
        "# explore current structure of variables\n",
        "data.dtypes"
      ],
      "metadata": {
        "colab": {
          "base_uri": "https://localhost:8080/"
        },
        "id": "XgqXLrxFlLMH",
        "outputId": "6296ae04-e0be-4dde-f3c8-b9d768680fea"
      },
      "execution_count": 822,
      "outputs": [
        {
          "output_type": "execute_result",
          "data": {
            "text/plain": [
              "ID_e      object\n",
              "E        float64\n",
              "N        float64\n",
              "Sex       object\n",
              "Date      object\n",
              "Hour      object\n",
              "Cell      object\n",
              "Label     object\n",
              "dtype: object"
            ]
          },
          "metadata": {},
          "execution_count": 822
        }
      ]
    },
    {
      "cell_type": "code",
      "source": [
        "# Sex is object --> change\n",
        "print(data['Sex']) \n",
        "\n",
        "# recode sex so that m = 0 & f = 1\n",
        "cleanup = {\"Sex\": {\"m\":0, \"f\":1}}\n",
        "data.replace(cleanup, inplace=True)\n",
        "data.head()"
      ],
      "metadata": {
        "colab": {
          "base_uri": "https://localhost:8080/",
          "height": 420
        },
        "id": "oogxUoS_ls11",
        "outputId": "5dff36f1-3132-41d1-b318-b25150a920d4"
      },
      "execution_count": 823,
      "outputs": [
        {
          "output_type": "stream",
          "name": "stdout",
          "text": [
            "0       f\n",
            "1       f\n",
            "2       f\n",
            "3       f\n",
            "4       f\n",
            "       ..\n",
            "7184    m\n",
            "7185    m\n",
            "7186    m\n",
            "7187    m\n",
            "7188    m\n",
            "Name: Sex, Length: 7189, dtype: object\n"
          ]
        },
        {
          "output_type": "execute_result",
          "data": {
            "text/plain": [
              "   ID_e         E         N  Sex       Date   Hour Cell Label\n",
              "0  e1f1  5.583066  1.175189    1  05/6/2018  12:27   e1     o\n",
              "1  e1f1  5.325020  0.962680    1  21/6/2018  10:20   e1     o\n",
              "2  e1f1  3.412439  0.947501    1  21/6/2018  14:25   e1     o\n",
              "3  e1f1  3.761561  2.010046    1  21/6/2018  12:30   e1     o\n",
              "4  e1f1       NaN  1.144831    1  15/6/2018  12:06   e1     o"
            ],
            "text/html": [
              "\n",
              "  <div id=\"df-ae4bc54b-aa40-49d7-b6dd-599421d0fa1b\">\n",
              "    <div class=\"colab-df-container\">\n",
              "      <div>\n",
              "<style scoped>\n",
              "    .dataframe tbody tr th:only-of-type {\n",
              "        vertical-align: middle;\n",
              "    }\n",
              "\n",
              "    .dataframe tbody tr th {\n",
              "        vertical-align: top;\n",
              "    }\n",
              "\n",
              "    .dataframe thead th {\n",
              "        text-align: right;\n",
              "    }\n",
              "</style>\n",
              "<table border=\"1\" class=\"dataframe\">\n",
              "  <thead>\n",
              "    <tr style=\"text-align: right;\">\n",
              "      <th></th>\n",
              "      <th>ID_e</th>\n",
              "      <th>E</th>\n",
              "      <th>N</th>\n",
              "      <th>Sex</th>\n",
              "      <th>Date</th>\n",
              "      <th>Hour</th>\n",
              "      <th>Cell</th>\n",
              "      <th>Label</th>\n",
              "    </tr>\n",
              "  </thead>\n",
              "  <tbody>\n",
              "    <tr>\n",
              "      <th>0</th>\n",
              "      <td>e1f1</td>\n",
              "      <td>5.583066</td>\n",
              "      <td>1.175189</td>\n",
              "      <td>1</td>\n",
              "      <td>05/6/2018</td>\n",
              "      <td>12:27</td>\n",
              "      <td>e1</td>\n",
              "      <td>o</td>\n",
              "    </tr>\n",
              "    <tr>\n",
              "      <th>1</th>\n",
              "      <td>e1f1</td>\n",
              "      <td>5.325020</td>\n",
              "      <td>0.962680</td>\n",
              "      <td>1</td>\n",
              "      <td>21/6/2018</td>\n",
              "      <td>10:20</td>\n",
              "      <td>e1</td>\n",
              "      <td>o</td>\n",
              "    </tr>\n",
              "    <tr>\n",
              "      <th>2</th>\n",
              "      <td>e1f1</td>\n",
              "      <td>3.412439</td>\n",
              "      <td>0.947501</td>\n",
              "      <td>1</td>\n",
              "      <td>21/6/2018</td>\n",
              "      <td>14:25</td>\n",
              "      <td>e1</td>\n",
              "      <td>o</td>\n",
              "    </tr>\n",
              "    <tr>\n",
              "      <th>3</th>\n",
              "      <td>e1f1</td>\n",
              "      <td>3.761561</td>\n",
              "      <td>2.010046</td>\n",
              "      <td>1</td>\n",
              "      <td>21/6/2018</td>\n",
              "      <td>12:30</td>\n",
              "      <td>e1</td>\n",
              "      <td>o</td>\n",
              "    </tr>\n",
              "    <tr>\n",
              "      <th>4</th>\n",
              "      <td>e1f1</td>\n",
              "      <td>NaN</td>\n",
              "      <td>1.144831</td>\n",
              "      <td>1</td>\n",
              "      <td>15/6/2018</td>\n",
              "      <td>12:06</td>\n",
              "      <td>e1</td>\n",
              "      <td>o</td>\n",
              "    </tr>\n",
              "  </tbody>\n",
              "</table>\n",
              "</div>\n",
              "      <button class=\"colab-df-convert\" onclick=\"convertToInteractive('df-ae4bc54b-aa40-49d7-b6dd-599421d0fa1b')\"\n",
              "              title=\"Convert this dataframe to an interactive table.\"\n",
              "              style=\"display:none;\">\n",
              "        \n",
              "  <svg xmlns=\"http://www.w3.org/2000/svg\" height=\"24px\"viewBox=\"0 0 24 24\"\n",
              "       width=\"24px\">\n",
              "    <path d=\"M0 0h24v24H0V0z\" fill=\"none\"/>\n",
              "    <path d=\"M18.56 5.44l.94 2.06.94-2.06 2.06-.94-2.06-.94-.94-2.06-.94 2.06-2.06.94zm-11 1L8.5 8.5l.94-2.06 2.06-.94-2.06-.94L8.5 2.5l-.94 2.06-2.06.94zm10 10l.94 2.06.94-2.06 2.06-.94-2.06-.94-.94-2.06-.94 2.06-2.06.94z\"/><path d=\"M17.41 7.96l-1.37-1.37c-.4-.4-.92-.59-1.43-.59-.52 0-1.04.2-1.43.59L10.3 9.45l-7.72 7.72c-.78.78-.78 2.05 0 2.83L4 21.41c.39.39.9.59 1.41.59.51 0 1.02-.2 1.41-.59l7.78-7.78 2.81-2.81c.8-.78.8-2.07 0-2.86zM5.41 20L4 18.59l7.72-7.72 1.47 1.35L5.41 20z\"/>\n",
              "  </svg>\n",
              "      </button>\n",
              "      \n",
              "  <style>\n",
              "    .colab-df-container {\n",
              "      display:flex;\n",
              "      flex-wrap:wrap;\n",
              "      gap: 12px;\n",
              "    }\n",
              "\n",
              "    .colab-df-convert {\n",
              "      background-color: #E8F0FE;\n",
              "      border: none;\n",
              "      border-radius: 50%;\n",
              "      cursor: pointer;\n",
              "      display: none;\n",
              "      fill: #1967D2;\n",
              "      height: 32px;\n",
              "      padding: 0 0 0 0;\n",
              "      width: 32px;\n",
              "    }\n",
              "\n",
              "    .colab-df-convert:hover {\n",
              "      background-color: #E2EBFA;\n",
              "      box-shadow: 0px 1px 2px rgba(60, 64, 67, 0.3), 0px 1px 3px 1px rgba(60, 64, 67, 0.15);\n",
              "      fill: #174EA6;\n",
              "    }\n",
              "\n",
              "    [theme=dark] .colab-df-convert {\n",
              "      background-color: #3B4455;\n",
              "      fill: #D2E3FC;\n",
              "    }\n",
              "\n",
              "    [theme=dark] .colab-df-convert:hover {\n",
              "      background-color: #434B5C;\n",
              "      box-shadow: 0px 1px 3px 1px rgba(0, 0, 0, 0.15);\n",
              "      filter: drop-shadow(0px 1px 2px rgba(0, 0, 0, 0.3));\n",
              "      fill: #FFFFFF;\n",
              "    }\n",
              "  </style>\n",
              "\n",
              "      <script>\n",
              "        const buttonEl =\n",
              "          document.querySelector('#df-ae4bc54b-aa40-49d7-b6dd-599421d0fa1b button.colab-df-convert');\n",
              "        buttonEl.style.display =\n",
              "          google.colab.kernel.accessAllowed ? 'block' : 'none';\n",
              "\n",
              "        async function convertToInteractive(key) {\n",
              "          const element = document.querySelector('#df-ae4bc54b-aa40-49d7-b6dd-599421d0fa1b');\n",
              "          const dataTable =\n",
              "            await google.colab.kernel.invokeFunction('convertToInteractive',\n",
              "                                                     [key], {});\n",
              "          if (!dataTable) return;\n",
              "\n",
              "          const docLinkHtml = 'Like what you see? Visit the ' +\n",
              "            '<a target=\"_blank\" href=https://colab.research.google.com/notebooks/data_table.ipynb>data table notebook</a>'\n",
              "            + ' to learn more about interactive tables.';\n",
              "          element.innerHTML = '';\n",
              "          dataTable['output_type'] = 'display_data';\n",
              "          await google.colab.output.renderOutput(dataTable, element);\n",
              "          const docLink = document.createElement('div');\n",
              "          docLink.innerHTML = docLinkHtml;\n",
              "          element.appendChild(docLink);\n",
              "        }\n",
              "      </script>\n",
              "    </div>\n",
              "  </div>\n",
              "  "
            ]
          },
          "metadata": {},
          "execution_count": 823
        }
      ]
    },
    {
      "cell_type": "code",
      "source": [
        "# Cell is object --> remove letter e from value\n",
        "print(data[\"Cell\"].unique())\n",
        "\n",
        "print(data[\"Cell\"].unique())\n",
        "cleanup = {\"Cell\": {\"e1\":1, \"e2\":2, \"e3\":3, \"e4\":4, \"e5\":5, \"e6\":6, \"e7\":7, \"e8\":8, \"e9\":9, \"e10\":10}}\n",
        "data.replace(cleanup, inplace=True)\n",
        "data"
      ],
      "metadata": {
        "colab": {
          "base_uri": "https://localhost:8080/",
          "height": 459
        },
        "id": "L3LP9QspmveU",
        "outputId": "228fb0ba-1bd2-4417-9fdd-bdd3157ff878"
      },
      "execution_count": 824,
      "outputs": [
        {
          "output_type": "stream",
          "name": "stdout",
          "text": [
            "['e1' 'e10' 'e2' 'e3' 'e4' 'e5' 'e6' 'e7' 'e8' 'e9']\n",
            "['e1' 'e10' 'e2' 'e3' 'e4' 'e5' 'e6' 'e7' 'e8' 'e9']\n"
          ]
        },
        {
          "output_type": "execute_result",
          "data": {
            "text/plain": [
              "      ID_e         E         N  Sex       Date   Hour  Cell Label\n",
              "0     e1f1  5.583066  1.175189    1  05/6/2018  12:27     1     o\n",
              "1     e1f1  5.325020  0.962680    1  21/6/2018  10:20     1     o\n",
              "2     e1f1  3.412439  0.947501    1  21/6/2018  14:25     1     o\n",
              "3     e1f1  3.761561  2.010046    1  21/6/2018  12:30     1     o\n",
              "4     e1f1       NaN  1.144831    1  15/6/2018  12:06     1     o\n",
              "...    ...       ...       ...  ...        ...    ...   ...   ...\n",
              "7184  e9m9  1.103858       NaN    0  25/5/2018  15:40     9     y\n",
              "7185  e9m9  3.699470       NaN    0  25/5/2018  17:21     9     y\n",
              "7186  e9m9  1.766447       NaN    0  24/5/2018  16:26     9     y\n",
              "7187  e9m9  0.497900  1.169597    0  23/5/2018  12:30     9     y\n",
              "7188  e9m9  3.990179  1.146944    0  23/5/2018  13:44     9     y\n",
              "\n",
              "[7189 rows x 8 columns]"
            ],
            "text/html": [
              "\n",
              "  <div id=\"df-eccae950-70ea-4cbe-9726-21918fbf4406\">\n",
              "    <div class=\"colab-df-container\">\n",
              "      <div>\n",
              "<style scoped>\n",
              "    .dataframe tbody tr th:only-of-type {\n",
              "        vertical-align: middle;\n",
              "    }\n",
              "\n",
              "    .dataframe tbody tr th {\n",
              "        vertical-align: top;\n",
              "    }\n",
              "\n",
              "    .dataframe thead th {\n",
              "        text-align: right;\n",
              "    }\n",
              "</style>\n",
              "<table border=\"1\" class=\"dataframe\">\n",
              "  <thead>\n",
              "    <tr style=\"text-align: right;\">\n",
              "      <th></th>\n",
              "      <th>ID_e</th>\n",
              "      <th>E</th>\n",
              "      <th>N</th>\n",
              "      <th>Sex</th>\n",
              "      <th>Date</th>\n",
              "      <th>Hour</th>\n",
              "      <th>Cell</th>\n",
              "      <th>Label</th>\n",
              "    </tr>\n",
              "  </thead>\n",
              "  <tbody>\n",
              "    <tr>\n",
              "      <th>0</th>\n",
              "      <td>e1f1</td>\n",
              "      <td>5.583066</td>\n",
              "      <td>1.175189</td>\n",
              "      <td>1</td>\n",
              "      <td>05/6/2018</td>\n",
              "      <td>12:27</td>\n",
              "      <td>1</td>\n",
              "      <td>o</td>\n",
              "    </tr>\n",
              "    <tr>\n",
              "      <th>1</th>\n",
              "      <td>e1f1</td>\n",
              "      <td>5.325020</td>\n",
              "      <td>0.962680</td>\n",
              "      <td>1</td>\n",
              "      <td>21/6/2018</td>\n",
              "      <td>10:20</td>\n",
              "      <td>1</td>\n",
              "      <td>o</td>\n",
              "    </tr>\n",
              "    <tr>\n",
              "      <th>2</th>\n",
              "      <td>e1f1</td>\n",
              "      <td>3.412439</td>\n",
              "      <td>0.947501</td>\n",
              "      <td>1</td>\n",
              "      <td>21/6/2018</td>\n",
              "      <td>14:25</td>\n",
              "      <td>1</td>\n",
              "      <td>o</td>\n",
              "    </tr>\n",
              "    <tr>\n",
              "      <th>3</th>\n",
              "      <td>e1f1</td>\n",
              "      <td>3.761561</td>\n",
              "      <td>2.010046</td>\n",
              "      <td>1</td>\n",
              "      <td>21/6/2018</td>\n",
              "      <td>12:30</td>\n",
              "      <td>1</td>\n",
              "      <td>o</td>\n",
              "    </tr>\n",
              "    <tr>\n",
              "      <th>4</th>\n",
              "      <td>e1f1</td>\n",
              "      <td>NaN</td>\n",
              "      <td>1.144831</td>\n",
              "      <td>1</td>\n",
              "      <td>15/6/2018</td>\n",
              "      <td>12:06</td>\n",
              "      <td>1</td>\n",
              "      <td>o</td>\n",
              "    </tr>\n",
              "    <tr>\n",
              "      <th>...</th>\n",
              "      <td>...</td>\n",
              "      <td>...</td>\n",
              "      <td>...</td>\n",
              "      <td>...</td>\n",
              "      <td>...</td>\n",
              "      <td>...</td>\n",
              "      <td>...</td>\n",
              "      <td>...</td>\n",
              "    </tr>\n",
              "    <tr>\n",
              "      <th>7184</th>\n",
              "      <td>e9m9</td>\n",
              "      <td>1.103858</td>\n",
              "      <td>NaN</td>\n",
              "      <td>0</td>\n",
              "      <td>25/5/2018</td>\n",
              "      <td>15:40</td>\n",
              "      <td>9</td>\n",
              "      <td>y</td>\n",
              "    </tr>\n",
              "    <tr>\n",
              "      <th>7185</th>\n",
              "      <td>e9m9</td>\n",
              "      <td>3.699470</td>\n",
              "      <td>NaN</td>\n",
              "      <td>0</td>\n",
              "      <td>25/5/2018</td>\n",
              "      <td>17:21</td>\n",
              "      <td>9</td>\n",
              "      <td>y</td>\n",
              "    </tr>\n",
              "    <tr>\n",
              "      <th>7186</th>\n",
              "      <td>e9m9</td>\n",
              "      <td>1.766447</td>\n",
              "      <td>NaN</td>\n",
              "      <td>0</td>\n",
              "      <td>24/5/2018</td>\n",
              "      <td>16:26</td>\n",
              "      <td>9</td>\n",
              "      <td>y</td>\n",
              "    </tr>\n",
              "    <tr>\n",
              "      <th>7187</th>\n",
              "      <td>e9m9</td>\n",
              "      <td>0.497900</td>\n",
              "      <td>1.169597</td>\n",
              "      <td>0</td>\n",
              "      <td>23/5/2018</td>\n",
              "      <td>12:30</td>\n",
              "      <td>9</td>\n",
              "      <td>y</td>\n",
              "    </tr>\n",
              "    <tr>\n",
              "      <th>7188</th>\n",
              "      <td>e9m9</td>\n",
              "      <td>3.990179</td>\n",
              "      <td>1.146944</td>\n",
              "      <td>0</td>\n",
              "      <td>23/5/2018</td>\n",
              "      <td>13:44</td>\n",
              "      <td>9</td>\n",
              "      <td>y</td>\n",
              "    </tr>\n",
              "  </tbody>\n",
              "</table>\n",
              "<p>7189 rows × 8 columns</p>\n",
              "</div>\n",
              "      <button class=\"colab-df-convert\" onclick=\"convertToInteractive('df-eccae950-70ea-4cbe-9726-21918fbf4406')\"\n",
              "              title=\"Convert this dataframe to an interactive table.\"\n",
              "              style=\"display:none;\">\n",
              "        \n",
              "  <svg xmlns=\"http://www.w3.org/2000/svg\" height=\"24px\"viewBox=\"0 0 24 24\"\n",
              "       width=\"24px\">\n",
              "    <path d=\"M0 0h24v24H0V0z\" fill=\"none\"/>\n",
              "    <path d=\"M18.56 5.44l.94 2.06.94-2.06 2.06-.94-2.06-.94-.94-2.06-.94 2.06-2.06.94zm-11 1L8.5 8.5l.94-2.06 2.06-.94-2.06-.94L8.5 2.5l-.94 2.06-2.06.94zm10 10l.94 2.06.94-2.06 2.06-.94-2.06-.94-.94-2.06-.94 2.06-2.06.94z\"/><path d=\"M17.41 7.96l-1.37-1.37c-.4-.4-.92-.59-1.43-.59-.52 0-1.04.2-1.43.59L10.3 9.45l-7.72 7.72c-.78.78-.78 2.05 0 2.83L4 21.41c.39.39.9.59 1.41.59.51 0 1.02-.2 1.41-.59l7.78-7.78 2.81-2.81c.8-.78.8-2.07 0-2.86zM5.41 20L4 18.59l7.72-7.72 1.47 1.35L5.41 20z\"/>\n",
              "  </svg>\n",
              "      </button>\n",
              "      \n",
              "  <style>\n",
              "    .colab-df-container {\n",
              "      display:flex;\n",
              "      flex-wrap:wrap;\n",
              "      gap: 12px;\n",
              "    }\n",
              "\n",
              "    .colab-df-convert {\n",
              "      background-color: #E8F0FE;\n",
              "      border: none;\n",
              "      border-radius: 50%;\n",
              "      cursor: pointer;\n",
              "      display: none;\n",
              "      fill: #1967D2;\n",
              "      height: 32px;\n",
              "      padding: 0 0 0 0;\n",
              "      width: 32px;\n",
              "    }\n",
              "\n",
              "    .colab-df-convert:hover {\n",
              "      background-color: #E2EBFA;\n",
              "      box-shadow: 0px 1px 2px rgba(60, 64, 67, 0.3), 0px 1px 3px 1px rgba(60, 64, 67, 0.15);\n",
              "      fill: #174EA6;\n",
              "    }\n",
              "\n",
              "    [theme=dark] .colab-df-convert {\n",
              "      background-color: #3B4455;\n",
              "      fill: #D2E3FC;\n",
              "    }\n",
              "\n",
              "    [theme=dark] .colab-df-convert:hover {\n",
              "      background-color: #434B5C;\n",
              "      box-shadow: 0px 1px 3px 1px rgba(0, 0, 0, 0.15);\n",
              "      filter: drop-shadow(0px 1px 2px rgba(0, 0, 0, 0.3));\n",
              "      fill: #FFFFFF;\n",
              "    }\n",
              "  </style>\n",
              "\n",
              "      <script>\n",
              "        const buttonEl =\n",
              "          document.querySelector('#df-eccae950-70ea-4cbe-9726-21918fbf4406 button.colab-df-convert');\n",
              "        buttonEl.style.display =\n",
              "          google.colab.kernel.accessAllowed ? 'block' : 'none';\n",
              "\n",
              "        async function convertToInteractive(key) {\n",
              "          const element = document.querySelector('#df-eccae950-70ea-4cbe-9726-21918fbf4406');\n",
              "          const dataTable =\n",
              "            await google.colab.kernel.invokeFunction('convertToInteractive',\n",
              "                                                     [key], {});\n",
              "          if (!dataTable) return;\n",
              "\n",
              "          const docLinkHtml = 'Like what you see? Visit the ' +\n",
              "            '<a target=\"_blank\" href=https://colab.research.google.com/notebooks/data_table.ipynb>data table notebook</a>'\n",
              "            + ' to learn more about interactive tables.';\n",
              "          element.innerHTML = '';\n",
              "          dataTable['output_type'] = 'display_data';\n",
              "          await google.colab.output.renderOutput(dataTable, element);\n",
              "          const docLink = document.createElement('div');\n",
              "          docLink.innerHTML = docLinkHtml;\n",
              "          element.appendChild(docLink);\n",
              "        }\n",
              "      </script>\n",
              "    </div>\n",
              "  </div>\n",
              "  "
            ]
          },
          "metadata": {},
          "execution_count": 824
        }
      ]
    },
    {
      "cell_type": "code",
      "source": [
        "# Date is object\n",
        "time0 = pd.Timestamp('2020-08-01 00:00:00')\n",
        "data['Date_num'] = (pd.to_datetime(data['Date']) - time0).values.astype(float)\n",
        "data.head()"
      ],
      "metadata": {
        "colab": {
          "base_uri": "https://localhost:8080/",
          "height": 206
        },
        "id": "l8Hor6FAmKXG",
        "outputId": "6359b2e9-17a3-4171-976b-ce9a70518550"
      },
      "execution_count": 825,
      "outputs": [
        {
          "output_type": "execute_result",
          "data": {
            "text/plain": [
              "   ID_e         E         N  Sex       Date   Hour  Cell Label      Date_num\n",
              "0  e1f1  5.583066  1.175189    1  05/6/2018  12:27     1     o -7.067520e+16\n",
              "1  e1f1  5.325020  0.962680    1  21/6/2018  10:20     1     o -6.670080e+16\n",
              "2  e1f1  3.412439  0.947501    1  21/6/2018  14:25     1     o -6.670080e+16\n",
              "3  e1f1  3.761561  2.010046    1  21/6/2018  12:30     1     o -6.670080e+16\n",
              "4  e1f1       NaN  1.144831    1  15/6/2018  12:06     1     o -6.721920e+16"
            ],
            "text/html": [
              "\n",
              "  <div id=\"df-d9403d7f-c88f-4e92-9993-302dc4d03239\">\n",
              "    <div class=\"colab-df-container\">\n",
              "      <div>\n",
              "<style scoped>\n",
              "    .dataframe tbody tr th:only-of-type {\n",
              "        vertical-align: middle;\n",
              "    }\n",
              "\n",
              "    .dataframe tbody tr th {\n",
              "        vertical-align: top;\n",
              "    }\n",
              "\n",
              "    .dataframe thead th {\n",
              "        text-align: right;\n",
              "    }\n",
              "</style>\n",
              "<table border=\"1\" class=\"dataframe\">\n",
              "  <thead>\n",
              "    <tr style=\"text-align: right;\">\n",
              "      <th></th>\n",
              "      <th>ID_e</th>\n",
              "      <th>E</th>\n",
              "      <th>N</th>\n",
              "      <th>Sex</th>\n",
              "      <th>Date</th>\n",
              "      <th>Hour</th>\n",
              "      <th>Cell</th>\n",
              "      <th>Label</th>\n",
              "      <th>Date_num</th>\n",
              "    </tr>\n",
              "  </thead>\n",
              "  <tbody>\n",
              "    <tr>\n",
              "      <th>0</th>\n",
              "      <td>e1f1</td>\n",
              "      <td>5.583066</td>\n",
              "      <td>1.175189</td>\n",
              "      <td>1</td>\n",
              "      <td>05/6/2018</td>\n",
              "      <td>12:27</td>\n",
              "      <td>1</td>\n",
              "      <td>o</td>\n",
              "      <td>-7.067520e+16</td>\n",
              "    </tr>\n",
              "    <tr>\n",
              "      <th>1</th>\n",
              "      <td>e1f1</td>\n",
              "      <td>5.325020</td>\n",
              "      <td>0.962680</td>\n",
              "      <td>1</td>\n",
              "      <td>21/6/2018</td>\n",
              "      <td>10:20</td>\n",
              "      <td>1</td>\n",
              "      <td>o</td>\n",
              "      <td>-6.670080e+16</td>\n",
              "    </tr>\n",
              "    <tr>\n",
              "      <th>2</th>\n",
              "      <td>e1f1</td>\n",
              "      <td>3.412439</td>\n",
              "      <td>0.947501</td>\n",
              "      <td>1</td>\n",
              "      <td>21/6/2018</td>\n",
              "      <td>14:25</td>\n",
              "      <td>1</td>\n",
              "      <td>o</td>\n",
              "      <td>-6.670080e+16</td>\n",
              "    </tr>\n",
              "    <tr>\n",
              "      <th>3</th>\n",
              "      <td>e1f1</td>\n",
              "      <td>3.761561</td>\n",
              "      <td>2.010046</td>\n",
              "      <td>1</td>\n",
              "      <td>21/6/2018</td>\n",
              "      <td>12:30</td>\n",
              "      <td>1</td>\n",
              "      <td>o</td>\n",
              "      <td>-6.670080e+16</td>\n",
              "    </tr>\n",
              "    <tr>\n",
              "      <th>4</th>\n",
              "      <td>e1f1</td>\n",
              "      <td>NaN</td>\n",
              "      <td>1.144831</td>\n",
              "      <td>1</td>\n",
              "      <td>15/6/2018</td>\n",
              "      <td>12:06</td>\n",
              "      <td>1</td>\n",
              "      <td>o</td>\n",
              "      <td>-6.721920e+16</td>\n",
              "    </tr>\n",
              "  </tbody>\n",
              "</table>\n",
              "</div>\n",
              "      <button class=\"colab-df-convert\" onclick=\"convertToInteractive('df-d9403d7f-c88f-4e92-9993-302dc4d03239')\"\n",
              "              title=\"Convert this dataframe to an interactive table.\"\n",
              "              style=\"display:none;\">\n",
              "        \n",
              "  <svg xmlns=\"http://www.w3.org/2000/svg\" height=\"24px\"viewBox=\"0 0 24 24\"\n",
              "       width=\"24px\">\n",
              "    <path d=\"M0 0h24v24H0V0z\" fill=\"none\"/>\n",
              "    <path d=\"M18.56 5.44l.94 2.06.94-2.06 2.06-.94-2.06-.94-.94-2.06-.94 2.06-2.06.94zm-11 1L8.5 8.5l.94-2.06 2.06-.94-2.06-.94L8.5 2.5l-.94 2.06-2.06.94zm10 10l.94 2.06.94-2.06 2.06-.94-2.06-.94-.94-2.06-.94 2.06-2.06.94z\"/><path d=\"M17.41 7.96l-1.37-1.37c-.4-.4-.92-.59-1.43-.59-.52 0-1.04.2-1.43.59L10.3 9.45l-7.72 7.72c-.78.78-.78 2.05 0 2.83L4 21.41c.39.39.9.59 1.41.59.51 0 1.02-.2 1.41-.59l7.78-7.78 2.81-2.81c.8-.78.8-2.07 0-2.86zM5.41 20L4 18.59l7.72-7.72 1.47 1.35L5.41 20z\"/>\n",
              "  </svg>\n",
              "      </button>\n",
              "      \n",
              "  <style>\n",
              "    .colab-df-container {\n",
              "      display:flex;\n",
              "      flex-wrap:wrap;\n",
              "      gap: 12px;\n",
              "    }\n",
              "\n",
              "    .colab-df-convert {\n",
              "      background-color: #E8F0FE;\n",
              "      border: none;\n",
              "      border-radius: 50%;\n",
              "      cursor: pointer;\n",
              "      display: none;\n",
              "      fill: #1967D2;\n",
              "      height: 32px;\n",
              "      padding: 0 0 0 0;\n",
              "      width: 32px;\n",
              "    }\n",
              "\n",
              "    .colab-df-convert:hover {\n",
              "      background-color: #E2EBFA;\n",
              "      box-shadow: 0px 1px 2px rgba(60, 64, 67, 0.3), 0px 1px 3px 1px rgba(60, 64, 67, 0.15);\n",
              "      fill: #174EA6;\n",
              "    }\n",
              "\n",
              "    [theme=dark] .colab-df-convert {\n",
              "      background-color: #3B4455;\n",
              "      fill: #D2E3FC;\n",
              "    }\n",
              "\n",
              "    [theme=dark] .colab-df-convert:hover {\n",
              "      background-color: #434B5C;\n",
              "      box-shadow: 0px 1px 3px 1px rgba(0, 0, 0, 0.15);\n",
              "      filter: drop-shadow(0px 1px 2px rgba(0, 0, 0, 0.3));\n",
              "      fill: #FFFFFF;\n",
              "    }\n",
              "  </style>\n",
              "\n",
              "      <script>\n",
              "        const buttonEl =\n",
              "          document.querySelector('#df-d9403d7f-c88f-4e92-9993-302dc4d03239 button.colab-df-convert');\n",
              "        buttonEl.style.display =\n",
              "          google.colab.kernel.accessAllowed ? 'block' : 'none';\n",
              "\n",
              "        async function convertToInteractive(key) {\n",
              "          const element = document.querySelector('#df-d9403d7f-c88f-4e92-9993-302dc4d03239');\n",
              "          const dataTable =\n",
              "            await google.colab.kernel.invokeFunction('convertToInteractive',\n",
              "                                                     [key], {});\n",
              "          if (!dataTable) return;\n",
              "\n",
              "          const docLinkHtml = 'Like what you see? Visit the ' +\n",
              "            '<a target=\"_blank\" href=https://colab.research.google.com/notebooks/data_table.ipynb>data table notebook</a>'\n",
              "            + ' to learn more about interactive tables.';\n",
              "          element.innerHTML = '';\n",
              "          dataTable['output_type'] = 'display_data';\n",
              "          await google.colab.output.renderOutput(dataTable, element);\n",
              "          const docLink = document.createElement('div');\n",
              "          docLink.innerHTML = docLinkHtml;\n",
              "          element.appendChild(docLink);\n",
              "        }\n",
              "      </script>\n",
              "    </div>\n",
              "  </div>\n",
              "  "
            ]
          },
          "metadata": {},
          "execution_count": 825
        }
      ]
    },
    {
      "cell_type": "code",
      "source": [
        "# Label is object\n",
        "# Label represents the colour of the lizards' abdomen (yellow, white or orange) \n",
        "# We could use a one-hot encoder for this, as the label seems to be a categorical value with no ordinal relationship. However, most classifiers need a single output and treat multiclass problems as one vs. all approach, so using a one-hot encoder is not strictly required. A notable exception to this are artificial neural networks (so if we want to use ANN we would need to change the following lines to use a one-hot encoder).\n",
        "\n",
        "print(data['Label'].unique())\n",
        "\n",
        "data['Label'] = pd.factorize(data.Label)[0]\n",
        "# o = 0, w = 1, y = 2\n",
        "\n",
        "data.head()"
      ],
      "metadata": {
        "colab": {
          "base_uri": "https://localhost:8080/",
          "height": 224
        },
        "id": "QBq1MLRKowla",
        "outputId": "198a1aec-0c9e-4690-8747-6321dea91b40"
      },
      "execution_count": 826,
      "outputs": [
        {
          "output_type": "stream",
          "name": "stdout",
          "text": [
            "['o' 'w' 'y']\n"
          ]
        },
        {
          "output_type": "execute_result",
          "data": {
            "text/plain": [
              "   ID_e         E         N  Sex       Date   Hour  Cell  Label      Date_num\n",
              "0  e1f1  5.583066  1.175189    1  05/6/2018  12:27     1      0 -7.067520e+16\n",
              "1  e1f1  5.325020  0.962680    1  21/6/2018  10:20     1      0 -6.670080e+16\n",
              "2  e1f1  3.412439  0.947501    1  21/6/2018  14:25     1      0 -6.670080e+16\n",
              "3  e1f1  3.761561  2.010046    1  21/6/2018  12:30     1      0 -6.670080e+16\n",
              "4  e1f1       NaN  1.144831    1  15/6/2018  12:06     1      0 -6.721920e+16"
            ],
            "text/html": [
              "\n",
              "  <div id=\"df-dc0da7e7-b9ee-494c-86dc-13c985baee70\">\n",
              "    <div class=\"colab-df-container\">\n",
              "      <div>\n",
              "<style scoped>\n",
              "    .dataframe tbody tr th:only-of-type {\n",
              "        vertical-align: middle;\n",
              "    }\n",
              "\n",
              "    .dataframe tbody tr th {\n",
              "        vertical-align: top;\n",
              "    }\n",
              "\n",
              "    .dataframe thead th {\n",
              "        text-align: right;\n",
              "    }\n",
              "</style>\n",
              "<table border=\"1\" class=\"dataframe\">\n",
              "  <thead>\n",
              "    <tr style=\"text-align: right;\">\n",
              "      <th></th>\n",
              "      <th>ID_e</th>\n",
              "      <th>E</th>\n",
              "      <th>N</th>\n",
              "      <th>Sex</th>\n",
              "      <th>Date</th>\n",
              "      <th>Hour</th>\n",
              "      <th>Cell</th>\n",
              "      <th>Label</th>\n",
              "      <th>Date_num</th>\n",
              "    </tr>\n",
              "  </thead>\n",
              "  <tbody>\n",
              "    <tr>\n",
              "      <th>0</th>\n",
              "      <td>e1f1</td>\n",
              "      <td>5.583066</td>\n",
              "      <td>1.175189</td>\n",
              "      <td>1</td>\n",
              "      <td>05/6/2018</td>\n",
              "      <td>12:27</td>\n",
              "      <td>1</td>\n",
              "      <td>0</td>\n",
              "      <td>-7.067520e+16</td>\n",
              "    </tr>\n",
              "    <tr>\n",
              "      <th>1</th>\n",
              "      <td>e1f1</td>\n",
              "      <td>5.325020</td>\n",
              "      <td>0.962680</td>\n",
              "      <td>1</td>\n",
              "      <td>21/6/2018</td>\n",
              "      <td>10:20</td>\n",
              "      <td>1</td>\n",
              "      <td>0</td>\n",
              "      <td>-6.670080e+16</td>\n",
              "    </tr>\n",
              "    <tr>\n",
              "      <th>2</th>\n",
              "      <td>e1f1</td>\n",
              "      <td>3.412439</td>\n",
              "      <td>0.947501</td>\n",
              "      <td>1</td>\n",
              "      <td>21/6/2018</td>\n",
              "      <td>14:25</td>\n",
              "      <td>1</td>\n",
              "      <td>0</td>\n",
              "      <td>-6.670080e+16</td>\n",
              "    </tr>\n",
              "    <tr>\n",
              "      <th>3</th>\n",
              "      <td>e1f1</td>\n",
              "      <td>3.761561</td>\n",
              "      <td>2.010046</td>\n",
              "      <td>1</td>\n",
              "      <td>21/6/2018</td>\n",
              "      <td>12:30</td>\n",
              "      <td>1</td>\n",
              "      <td>0</td>\n",
              "      <td>-6.670080e+16</td>\n",
              "    </tr>\n",
              "    <tr>\n",
              "      <th>4</th>\n",
              "      <td>e1f1</td>\n",
              "      <td>NaN</td>\n",
              "      <td>1.144831</td>\n",
              "      <td>1</td>\n",
              "      <td>15/6/2018</td>\n",
              "      <td>12:06</td>\n",
              "      <td>1</td>\n",
              "      <td>0</td>\n",
              "      <td>-6.721920e+16</td>\n",
              "    </tr>\n",
              "  </tbody>\n",
              "</table>\n",
              "</div>\n",
              "      <button class=\"colab-df-convert\" onclick=\"convertToInteractive('df-dc0da7e7-b9ee-494c-86dc-13c985baee70')\"\n",
              "              title=\"Convert this dataframe to an interactive table.\"\n",
              "              style=\"display:none;\">\n",
              "        \n",
              "  <svg xmlns=\"http://www.w3.org/2000/svg\" height=\"24px\"viewBox=\"0 0 24 24\"\n",
              "       width=\"24px\">\n",
              "    <path d=\"M0 0h24v24H0V0z\" fill=\"none\"/>\n",
              "    <path d=\"M18.56 5.44l.94 2.06.94-2.06 2.06-.94-2.06-.94-.94-2.06-.94 2.06-2.06.94zm-11 1L8.5 8.5l.94-2.06 2.06-.94-2.06-.94L8.5 2.5l-.94 2.06-2.06.94zm10 10l.94 2.06.94-2.06 2.06-.94-2.06-.94-.94-2.06-.94 2.06-2.06.94z\"/><path d=\"M17.41 7.96l-1.37-1.37c-.4-.4-.92-.59-1.43-.59-.52 0-1.04.2-1.43.59L10.3 9.45l-7.72 7.72c-.78.78-.78 2.05 0 2.83L4 21.41c.39.39.9.59 1.41.59.51 0 1.02-.2 1.41-.59l7.78-7.78 2.81-2.81c.8-.78.8-2.07 0-2.86zM5.41 20L4 18.59l7.72-7.72 1.47 1.35L5.41 20z\"/>\n",
              "  </svg>\n",
              "      </button>\n",
              "      \n",
              "  <style>\n",
              "    .colab-df-container {\n",
              "      display:flex;\n",
              "      flex-wrap:wrap;\n",
              "      gap: 12px;\n",
              "    }\n",
              "\n",
              "    .colab-df-convert {\n",
              "      background-color: #E8F0FE;\n",
              "      border: none;\n",
              "      border-radius: 50%;\n",
              "      cursor: pointer;\n",
              "      display: none;\n",
              "      fill: #1967D2;\n",
              "      height: 32px;\n",
              "      padding: 0 0 0 0;\n",
              "      width: 32px;\n",
              "    }\n",
              "\n",
              "    .colab-df-convert:hover {\n",
              "      background-color: #E2EBFA;\n",
              "      box-shadow: 0px 1px 2px rgba(60, 64, 67, 0.3), 0px 1px 3px 1px rgba(60, 64, 67, 0.15);\n",
              "      fill: #174EA6;\n",
              "    }\n",
              "\n",
              "    [theme=dark] .colab-df-convert {\n",
              "      background-color: #3B4455;\n",
              "      fill: #D2E3FC;\n",
              "    }\n",
              "\n",
              "    [theme=dark] .colab-df-convert:hover {\n",
              "      background-color: #434B5C;\n",
              "      box-shadow: 0px 1px 3px 1px rgba(0, 0, 0, 0.15);\n",
              "      filter: drop-shadow(0px 1px 2px rgba(0, 0, 0, 0.3));\n",
              "      fill: #FFFFFF;\n",
              "    }\n",
              "  </style>\n",
              "\n",
              "      <script>\n",
              "        const buttonEl =\n",
              "          document.querySelector('#df-dc0da7e7-b9ee-494c-86dc-13c985baee70 button.colab-df-convert');\n",
              "        buttonEl.style.display =\n",
              "          google.colab.kernel.accessAllowed ? 'block' : 'none';\n",
              "\n",
              "        async function convertToInteractive(key) {\n",
              "          const element = document.querySelector('#df-dc0da7e7-b9ee-494c-86dc-13c985baee70');\n",
              "          const dataTable =\n",
              "            await google.colab.kernel.invokeFunction('convertToInteractive',\n",
              "                                                     [key], {});\n",
              "          if (!dataTable) return;\n",
              "\n",
              "          const docLinkHtml = 'Like what you see? Visit the ' +\n",
              "            '<a target=\"_blank\" href=https://colab.research.google.com/notebooks/data_table.ipynb>data table notebook</a>'\n",
              "            + ' to learn more about interactive tables.';\n",
              "          element.innerHTML = '';\n",
              "          dataTable['output_type'] = 'display_data';\n",
              "          await google.colab.output.renderOutput(dataTable, element);\n",
              "          const docLink = document.createElement('div');\n",
              "          docLink.innerHTML = docLinkHtml;\n",
              "          element.appendChild(docLink);\n",
              "        }\n",
              "      </script>\n",
              "    </div>\n",
              "  </div>\n",
              "  "
            ]
          },
          "metadata": {},
          "execution_count": 826
        }
      ]
    },
    {
      "cell_type": "markdown",
      "metadata": {
        "id": "ys7TalrBErvZ"
      },
      "source": [
        "### Extra 1"
      ]
    },
    {
      "cell_type": "markdown",
      "metadata": {
        "id": "op1lu7FbErvZ"
      },
      "source": [
        "For the lizards dataset, the columns 'Date' and 'Hour' could be merged, into a single value (even directly upon reading the CSV file). Explore how to do it either in Pandas or Numpy."
      ]
    },
    {
      "cell_type": "code",
      "source": [
        "data.dtypes"
      ],
      "metadata": {
        "colab": {
          "base_uri": "https://localhost:8080/"
        },
        "id": "VnzkxxSUyUUp",
        "outputId": "75eb890f-b93c-4015-88a6-a0bdc39a3868"
      },
      "execution_count": 827,
      "outputs": [
        {
          "output_type": "execute_result",
          "data": {
            "text/plain": [
              "ID_e         object\n",
              "E           float64\n",
              "N           float64\n",
              "Sex           int64\n",
              "Date         object\n",
              "Hour         object\n",
              "Cell          int64\n",
              "Label         int64\n",
              "Date_num    float64\n",
              "dtype: object"
            ]
          },
          "metadata": {},
          "execution_count": 827
        }
      ]
    },
    {
      "cell_type": "code",
      "source": [
        "data['Date']\n",
        "\n",
        "\n",
        "data['Date'] = pd.to_datetime(data['Date'] + ' ' + data['Hour']) # combine Date + Hour and declare them datetime object\n",
        "data = data.drop('Hour', axis=1) # remove Hour column\n",
        "data = data.drop('Date_num', axis=1) # remove Data_num column created above\n",
        "\n",
        "# transform date information into numeric value\n",
        "time0 = pd.Timestamp('2018-01-01 00:00:00')\n",
        "data['Date'] = (data['Date'] - time0) / pd.Timedelta(1, 'day')\n",
        "\n",
        "data.head()"
      ],
      "metadata": {
        "colab": {
          "base_uri": "https://localhost:8080/",
          "height": 206
        },
        "id": "8saoJ8G7sHIW",
        "outputId": "0aaf19e7-9cd9-459f-ff9d-4ecc40d1c3d8"
      },
      "execution_count": 828,
      "outputs": [
        {
          "output_type": "execute_result",
          "data": {
            "text/plain": [
              "   ID_e         E         N  Sex        Date  Cell  Label\n",
              "0  e1f1  5.583066  1.175189    1  125.518750     1      0\n",
              "1  e1f1  5.325020  0.962680    1  171.430556     1      0\n",
              "2  e1f1  3.412439  0.947501    1  171.600694     1      0\n",
              "3  e1f1  3.761561  2.010046    1  171.520833     1      0\n",
              "4  e1f1       NaN  1.144831    1  165.504167     1      0"
            ],
            "text/html": [
              "\n",
              "  <div id=\"df-e15c6972-d566-47df-b2b7-8f23e283f19e\">\n",
              "    <div class=\"colab-df-container\">\n",
              "      <div>\n",
              "<style scoped>\n",
              "    .dataframe tbody tr th:only-of-type {\n",
              "        vertical-align: middle;\n",
              "    }\n",
              "\n",
              "    .dataframe tbody tr th {\n",
              "        vertical-align: top;\n",
              "    }\n",
              "\n",
              "    .dataframe thead th {\n",
              "        text-align: right;\n",
              "    }\n",
              "</style>\n",
              "<table border=\"1\" class=\"dataframe\">\n",
              "  <thead>\n",
              "    <tr style=\"text-align: right;\">\n",
              "      <th></th>\n",
              "      <th>ID_e</th>\n",
              "      <th>E</th>\n",
              "      <th>N</th>\n",
              "      <th>Sex</th>\n",
              "      <th>Date</th>\n",
              "      <th>Cell</th>\n",
              "      <th>Label</th>\n",
              "    </tr>\n",
              "  </thead>\n",
              "  <tbody>\n",
              "    <tr>\n",
              "      <th>0</th>\n",
              "      <td>e1f1</td>\n",
              "      <td>5.583066</td>\n",
              "      <td>1.175189</td>\n",
              "      <td>1</td>\n",
              "      <td>125.518750</td>\n",
              "      <td>1</td>\n",
              "      <td>0</td>\n",
              "    </tr>\n",
              "    <tr>\n",
              "      <th>1</th>\n",
              "      <td>e1f1</td>\n",
              "      <td>5.325020</td>\n",
              "      <td>0.962680</td>\n",
              "      <td>1</td>\n",
              "      <td>171.430556</td>\n",
              "      <td>1</td>\n",
              "      <td>0</td>\n",
              "    </tr>\n",
              "    <tr>\n",
              "      <th>2</th>\n",
              "      <td>e1f1</td>\n",
              "      <td>3.412439</td>\n",
              "      <td>0.947501</td>\n",
              "      <td>1</td>\n",
              "      <td>171.600694</td>\n",
              "      <td>1</td>\n",
              "      <td>0</td>\n",
              "    </tr>\n",
              "    <tr>\n",
              "      <th>3</th>\n",
              "      <td>e1f1</td>\n",
              "      <td>3.761561</td>\n",
              "      <td>2.010046</td>\n",
              "      <td>1</td>\n",
              "      <td>171.520833</td>\n",
              "      <td>1</td>\n",
              "      <td>0</td>\n",
              "    </tr>\n",
              "    <tr>\n",
              "      <th>4</th>\n",
              "      <td>e1f1</td>\n",
              "      <td>NaN</td>\n",
              "      <td>1.144831</td>\n",
              "      <td>1</td>\n",
              "      <td>165.504167</td>\n",
              "      <td>1</td>\n",
              "      <td>0</td>\n",
              "    </tr>\n",
              "  </tbody>\n",
              "</table>\n",
              "</div>\n",
              "      <button class=\"colab-df-convert\" onclick=\"convertToInteractive('df-e15c6972-d566-47df-b2b7-8f23e283f19e')\"\n",
              "              title=\"Convert this dataframe to an interactive table.\"\n",
              "              style=\"display:none;\">\n",
              "        \n",
              "  <svg xmlns=\"http://www.w3.org/2000/svg\" height=\"24px\"viewBox=\"0 0 24 24\"\n",
              "       width=\"24px\">\n",
              "    <path d=\"M0 0h24v24H0V0z\" fill=\"none\"/>\n",
              "    <path d=\"M18.56 5.44l.94 2.06.94-2.06 2.06-.94-2.06-.94-.94-2.06-.94 2.06-2.06.94zm-11 1L8.5 8.5l.94-2.06 2.06-.94-2.06-.94L8.5 2.5l-.94 2.06-2.06.94zm10 10l.94 2.06.94-2.06 2.06-.94-2.06-.94-.94-2.06-.94 2.06-2.06.94z\"/><path d=\"M17.41 7.96l-1.37-1.37c-.4-.4-.92-.59-1.43-.59-.52 0-1.04.2-1.43.59L10.3 9.45l-7.72 7.72c-.78.78-.78 2.05 0 2.83L4 21.41c.39.39.9.59 1.41.59.51 0 1.02-.2 1.41-.59l7.78-7.78 2.81-2.81c.8-.78.8-2.07 0-2.86zM5.41 20L4 18.59l7.72-7.72 1.47 1.35L5.41 20z\"/>\n",
              "  </svg>\n",
              "      </button>\n",
              "      \n",
              "  <style>\n",
              "    .colab-df-container {\n",
              "      display:flex;\n",
              "      flex-wrap:wrap;\n",
              "      gap: 12px;\n",
              "    }\n",
              "\n",
              "    .colab-df-convert {\n",
              "      background-color: #E8F0FE;\n",
              "      border: none;\n",
              "      border-radius: 50%;\n",
              "      cursor: pointer;\n",
              "      display: none;\n",
              "      fill: #1967D2;\n",
              "      height: 32px;\n",
              "      padding: 0 0 0 0;\n",
              "      width: 32px;\n",
              "    }\n",
              "\n",
              "    .colab-df-convert:hover {\n",
              "      background-color: #E2EBFA;\n",
              "      box-shadow: 0px 1px 2px rgba(60, 64, 67, 0.3), 0px 1px 3px 1px rgba(60, 64, 67, 0.15);\n",
              "      fill: #174EA6;\n",
              "    }\n",
              "\n",
              "    [theme=dark] .colab-df-convert {\n",
              "      background-color: #3B4455;\n",
              "      fill: #D2E3FC;\n",
              "    }\n",
              "\n",
              "    [theme=dark] .colab-df-convert:hover {\n",
              "      background-color: #434B5C;\n",
              "      box-shadow: 0px 1px 3px 1px rgba(0, 0, 0, 0.15);\n",
              "      filter: drop-shadow(0px 1px 2px rgba(0, 0, 0, 0.3));\n",
              "      fill: #FFFFFF;\n",
              "    }\n",
              "  </style>\n",
              "\n",
              "      <script>\n",
              "        const buttonEl =\n",
              "          document.querySelector('#df-e15c6972-d566-47df-b2b7-8f23e283f19e button.colab-df-convert');\n",
              "        buttonEl.style.display =\n",
              "          google.colab.kernel.accessAllowed ? 'block' : 'none';\n",
              "\n",
              "        async function convertToInteractive(key) {\n",
              "          const element = document.querySelector('#df-e15c6972-d566-47df-b2b7-8f23e283f19e');\n",
              "          const dataTable =\n",
              "            await google.colab.kernel.invokeFunction('convertToInteractive',\n",
              "                                                     [key], {});\n",
              "          if (!dataTable) return;\n",
              "\n",
              "          const docLinkHtml = 'Like what you see? Visit the ' +\n",
              "            '<a target=\"_blank\" href=https://colab.research.google.com/notebooks/data_table.ipynb>data table notebook</a>'\n",
              "            + ' to learn more about interactive tables.';\n",
              "          element.innerHTML = '';\n",
              "          dataTable['output_type'] = 'display_data';\n",
              "          await google.colab.output.renderOutput(dataTable, element);\n",
              "          const docLink = document.createElement('div');\n",
              "          docLink.innerHTML = docLinkHtml;\n",
              "          element.appendChild(docLink);\n",
              "        }\n",
              "      </script>\n",
              "    </div>\n",
              "  </div>\n",
              "  "
            ]
          },
          "metadata": {},
          "execution_count": 828
        }
      ]
    },
    {
      "cell_type": "markdown",
      "metadata": {
        "id": "kGzb-NOaErvZ"
      },
      "source": [
        "### Extra 2"
      ]
    },
    {
      "cell_type": "markdown",
      "metadata": {
        "id": "6mIzguOxErvZ"
      },
      "source": [
        "This file indicates the position (East, North) where some lizards were seen. Each lizard has an ID (ID_e) and has been spotted several times. To infeer the position for those samples where there is no available data, instead of using the mean (or any other imputation method) based on the whole training set, try to calculate the mean (or other statistical value) for that specific lizard based on the training data. Note that, depending on how you divide the data, there could be unknown data in the test set for a lizard that was not included in the training data. Think of a possible way to deal with this issue."
      ]
    },
    {
      "cell_type": "markdown",
      "source": [
        "If we look at the data, we can see that the ID is just a concatenation of the cell, the sex and the lizard number. Because of this, there is a perfect mapping between the ID and the label. However, instead of removing it right away, we are going to use it to fill the missing values in E and N. We will first transform the ID into a numeric value using the method factorize."
      ],
      "metadata": {
        "id": "mtxJGemOqG80"
      }
    },
    {
      "cell_type": "code",
      "source": [
        "data['ID_e'] = pd.factorize(data.ID_e)[0]\n",
        "data"
      ],
      "metadata": {
        "colab": {
          "base_uri": "https://localhost:8080/",
          "height": 424
        },
        "id": "pVjO42v5qGOY",
        "outputId": "5eea677f-455b-48c4-d256-77381746ebac"
      },
      "execution_count": 829,
      "outputs": [
        {
          "output_type": "execute_result",
          "data": {
            "text/plain": [
              "      ID_e         E         N  Sex        Date  Cell  Label\n",
              "0        0  5.583066  1.175189    1  125.518750     1      0\n",
              "1        0  5.325020  0.962680    1  171.430556     1      0\n",
              "2        0  3.412439  0.947501    1  171.600694     1      0\n",
              "3        0  3.761561  2.010046    1  171.520833     1      0\n",
              "4        0       NaN  1.144831    1  165.504167     1      0\n",
              "...    ...       ...       ...  ...         ...   ...    ...\n",
              "7184   179  1.103858       NaN    0  144.652778     9      2\n",
              "7185   179  3.699470       NaN    0  144.722917     9      2\n",
              "7186   179  1.766447       NaN    0  143.684722     9      2\n",
              "7187   179  0.497900  1.169597    0  142.520833     9      2\n",
              "7188   179  3.990179  1.146944    0  142.572222     9      2\n",
              "\n",
              "[7189 rows x 7 columns]"
            ],
            "text/html": [
              "\n",
              "  <div id=\"df-098c45cb-9271-4063-ab2e-9a550d093a90\">\n",
              "    <div class=\"colab-df-container\">\n",
              "      <div>\n",
              "<style scoped>\n",
              "    .dataframe tbody tr th:only-of-type {\n",
              "        vertical-align: middle;\n",
              "    }\n",
              "\n",
              "    .dataframe tbody tr th {\n",
              "        vertical-align: top;\n",
              "    }\n",
              "\n",
              "    .dataframe thead th {\n",
              "        text-align: right;\n",
              "    }\n",
              "</style>\n",
              "<table border=\"1\" class=\"dataframe\">\n",
              "  <thead>\n",
              "    <tr style=\"text-align: right;\">\n",
              "      <th></th>\n",
              "      <th>ID_e</th>\n",
              "      <th>E</th>\n",
              "      <th>N</th>\n",
              "      <th>Sex</th>\n",
              "      <th>Date</th>\n",
              "      <th>Cell</th>\n",
              "      <th>Label</th>\n",
              "    </tr>\n",
              "  </thead>\n",
              "  <tbody>\n",
              "    <tr>\n",
              "      <th>0</th>\n",
              "      <td>0</td>\n",
              "      <td>5.583066</td>\n",
              "      <td>1.175189</td>\n",
              "      <td>1</td>\n",
              "      <td>125.518750</td>\n",
              "      <td>1</td>\n",
              "      <td>0</td>\n",
              "    </tr>\n",
              "    <tr>\n",
              "      <th>1</th>\n",
              "      <td>0</td>\n",
              "      <td>5.325020</td>\n",
              "      <td>0.962680</td>\n",
              "      <td>1</td>\n",
              "      <td>171.430556</td>\n",
              "      <td>1</td>\n",
              "      <td>0</td>\n",
              "    </tr>\n",
              "    <tr>\n",
              "      <th>2</th>\n",
              "      <td>0</td>\n",
              "      <td>3.412439</td>\n",
              "      <td>0.947501</td>\n",
              "      <td>1</td>\n",
              "      <td>171.600694</td>\n",
              "      <td>1</td>\n",
              "      <td>0</td>\n",
              "    </tr>\n",
              "    <tr>\n",
              "      <th>3</th>\n",
              "      <td>0</td>\n",
              "      <td>3.761561</td>\n",
              "      <td>2.010046</td>\n",
              "      <td>1</td>\n",
              "      <td>171.520833</td>\n",
              "      <td>1</td>\n",
              "      <td>0</td>\n",
              "    </tr>\n",
              "    <tr>\n",
              "      <th>4</th>\n",
              "      <td>0</td>\n",
              "      <td>NaN</td>\n",
              "      <td>1.144831</td>\n",
              "      <td>1</td>\n",
              "      <td>165.504167</td>\n",
              "      <td>1</td>\n",
              "      <td>0</td>\n",
              "    </tr>\n",
              "    <tr>\n",
              "      <th>...</th>\n",
              "      <td>...</td>\n",
              "      <td>...</td>\n",
              "      <td>...</td>\n",
              "      <td>...</td>\n",
              "      <td>...</td>\n",
              "      <td>...</td>\n",
              "      <td>...</td>\n",
              "    </tr>\n",
              "    <tr>\n",
              "      <th>7184</th>\n",
              "      <td>179</td>\n",
              "      <td>1.103858</td>\n",
              "      <td>NaN</td>\n",
              "      <td>0</td>\n",
              "      <td>144.652778</td>\n",
              "      <td>9</td>\n",
              "      <td>2</td>\n",
              "    </tr>\n",
              "    <tr>\n",
              "      <th>7185</th>\n",
              "      <td>179</td>\n",
              "      <td>3.699470</td>\n",
              "      <td>NaN</td>\n",
              "      <td>0</td>\n",
              "      <td>144.722917</td>\n",
              "      <td>9</td>\n",
              "      <td>2</td>\n",
              "    </tr>\n",
              "    <tr>\n",
              "      <th>7186</th>\n",
              "      <td>179</td>\n",
              "      <td>1.766447</td>\n",
              "      <td>NaN</td>\n",
              "      <td>0</td>\n",
              "      <td>143.684722</td>\n",
              "      <td>9</td>\n",
              "      <td>2</td>\n",
              "    </tr>\n",
              "    <tr>\n",
              "      <th>7187</th>\n",
              "      <td>179</td>\n",
              "      <td>0.497900</td>\n",
              "      <td>1.169597</td>\n",
              "      <td>0</td>\n",
              "      <td>142.520833</td>\n",
              "      <td>9</td>\n",
              "      <td>2</td>\n",
              "    </tr>\n",
              "    <tr>\n",
              "      <th>7188</th>\n",
              "      <td>179</td>\n",
              "      <td>3.990179</td>\n",
              "      <td>1.146944</td>\n",
              "      <td>0</td>\n",
              "      <td>142.572222</td>\n",
              "      <td>9</td>\n",
              "      <td>2</td>\n",
              "    </tr>\n",
              "  </tbody>\n",
              "</table>\n",
              "<p>7189 rows × 7 columns</p>\n",
              "</div>\n",
              "      <button class=\"colab-df-convert\" onclick=\"convertToInteractive('df-098c45cb-9271-4063-ab2e-9a550d093a90')\"\n",
              "              title=\"Convert this dataframe to an interactive table.\"\n",
              "              style=\"display:none;\">\n",
              "        \n",
              "  <svg xmlns=\"http://www.w3.org/2000/svg\" height=\"24px\"viewBox=\"0 0 24 24\"\n",
              "       width=\"24px\">\n",
              "    <path d=\"M0 0h24v24H0V0z\" fill=\"none\"/>\n",
              "    <path d=\"M18.56 5.44l.94 2.06.94-2.06 2.06-.94-2.06-.94-.94-2.06-.94 2.06-2.06.94zm-11 1L8.5 8.5l.94-2.06 2.06-.94-2.06-.94L8.5 2.5l-.94 2.06-2.06.94zm10 10l.94 2.06.94-2.06 2.06-.94-2.06-.94-.94-2.06-.94 2.06-2.06.94z\"/><path d=\"M17.41 7.96l-1.37-1.37c-.4-.4-.92-.59-1.43-.59-.52 0-1.04.2-1.43.59L10.3 9.45l-7.72 7.72c-.78.78-.78 2.05 0 2.83L4 21.41c.39.39.9.59 1.41.59.51 0 1.02-.2 1.41-.59l7.78-7.78 2.81-2.81c.8-.78.8-2.07 0-2.86zM5.41 20L4 18.59l7.72-7.72 1.47 1.35L5.41 20z\"/>\n",
              "  </svg>\n",
              "      </button>\n",
              "      \n",
              "  <style>\n",
              "    .colab-df-container {\n",
              "      display:flex;\n",
              "      flex-wrap:wrap;\n",
              "      gap: 12px;\n",
              "    }\n",
              "\n",
              "    .colab-df-convert {\n",
              "      background-color: #E8F0FE;\n",
              "      border: none;\n",
              "      border-radius: 50%;\n",
              "      cursor: pointer;\n",
              "      display: none;\n",
              "      fill: #1967D2;\n",
              "      height: 32px;\n",
              "      padding: 0 0 0 0;\n",
              "      width: 32px;\n",
              "    }\n",
              "\n",
              "    .colab-df-convert:hover {\n",
              "      background-color: #E2EBFA;\n",
              "      box-shadow: 0px 1px 2px rgba(60, 64, 67, 0.3), 0px 1px 3px 1px rgba(60, 64, 67, 0.15);\n",
              "      fill: #174EA6;\n",
              "    }\n",
              "\n",
              "    [theme=dark] .colab-df-convert {\n",
              "      background-color: #3B4455;\n",
              "      fill: #D2E3FC;\n",
              "    }\n",
              "\n",
              "    [theme=dark] .colab-df-convert:hover {\n",
              "      background-color: #434B5C;\n",
              "      box-shadow: 0px 1px 3px 1px rgba(0, 0, 0, 0.15);\n",
              "      filter: drop-shadow(0px 1px 2px rgba(0, 0, 0, 0.3));\n",
              "      fill: #FFFFFF;\n",
              "    }\n",
              "  </style>\n",
              "\n",
              "      <script>\n",
              "        const buttonEl =\n",
              "          document.querySelector('#df-098c45cb-9271-4063-ab2e-9a550d093a90 button.colab-df-convert');\n",
              "        buttonEl.style.display =\n",
              "          google.colab.kernel.accessAllowed ? 'block' : 'none';\n",
              "\n",
              "        async function convertToInteractive(key) {\n",
              "          const element = document.querySelector('#df-098c45cb-9271-4063-ab2e-9a550d093a90');\n",
              "          const dataTable =\n",
              "            await google.colab.kernel.invokeFunction('convertToInteractive',\n",
              "                                                     [key], {});\n",
              "          if (!dataTable) return;\n",
              "\n",
              "          const docLinkHtml = 'Like what you see? Visit the ' +\n",
              "            '<a target=\"_blank\" href=https://colab.research.google.com/notebooks/data_table.ipynb>data table notebook</a>'\n",
              "            + ' to learn more about interactive tables.';\n",
              "          element.innerHTML = '';\n",
              "          dataTable['output_type'] = 'display_data';\n",
              "          await google.colab.output.renderOutput(dataTable, element);\n",
              "          const docLink = document.createElement('div');\n",
              "          docLink.innerHTML = docLinkHtml;\n",
              "          element.appendChild(docLink);\n",
              "        }\n",
              "      </script>\n",
              "    </div>\n",
              "  </div>\n",
              "  "
            ]
          },
          "metadata": {},
          "execution_count": 829
        }
      ]
    },
    {
      "cell_type": "code",
      "source": [
        "import numpy as np\n",
        "x = data.loc[:, data.columns != 'Label'].to_numpy() # ID_e, E, N, Sex, Date, Cell\n",
        "y = data.loc[:, 'Label'].to_numpy() # Label\n",
        "print(x.shape, y.shape)"
      ],
      "metadata": {
        "colab": {
          "base_uri": "https://localhost:8080/"
        },
        "id": "BMAf0TIDxPrC",
        "outputId": "d4deb315-98e0-4c22-f9bc-25135b71ada3"
      },
      "execution_count": 830,
      "outputs": [
        {
          "output_type": "stream",
          "name": "stdout",
          "text": [
            "(7189, 6) (7189,)\n"
          ]
        }
      ]
    },
    {
      "cell_type": "code",
      "source": [
        "# x: ID_e, E, N, Sex, Date, Cell\n",
        "np.sum(np.isnan(x), 0)\n",
        "\n",
        "# missing values in E & N column"
      ],
      "metadata": {
        "colab": {
          "base_uri": "https://localhost:8080/"
        },
        "id": "LvZJXSiExIIu",
        "outputId": "596613cb-519d-45f7-da73-491b815ce904"
      },
      "execution_count": 831,
      "outputs": [
        {
          "output_type": "execute_result",
          "data": {
            "text/plain": [
              "array([  0, 387, 390,   0,   0,   0])"
            ]
          },
          "metadata": {},
          "execution_count": 831
        }
      ]
    },
    {
      "cell_type": "code",
      "source": [
        "# compute mean in E per lizard\n",
        "data.groupby(['ID_e']).mean()['E']"
      ],
      "metadata": {
        "colab": {
          "base_uri": "https://localhost:8080/"
        },
        "id": "EL0-T9ys37wg",
        "outputId": "1dc9d672-6e54-4d3a-c63c-7725e173fd5b"
      },
      "execution_count": 832,
      "outputs": [
        {
          "output_type": "execute_result",
          "data": {
            "text/plain": [
              "ID_e\n",
              "0      3.739851\n",
              "1      4.370382\n",
              "2      2.008362\n",
              "3      3.127369\n",
              "4      2.063324\n",
              "         ...   \n",
              "175    3.893452\n",
              "176    2.047380\n",
              "177    3.482922\n",
              "178    3.596687\n",
              "179    2.711627\n",
              "Name: E, Length: 180, dtype: float64"
            ]
          },
          "metadata": {},
          "execution_count": 832
        }
      ]
    },
    {
      "cell_type": "code",
      "source": [
        "# compute mean in N per lizard\n",
        "data.groupby(['ID_e']).mean()['N']"
      ],
      "metadata": {
        "colab": {
          "base_uri": "https://localhost:8080/"
        },
        "outputId": "968d37fe-410b-41a2-8d50-3b018efb28ee",
        "id": "yABU5hf94e2k"
      },
      "execution_count": 833,
      "outputs": [
        {
          "output_type": "execute_result",
          "data": {
            "text/plain": [
              "ID_e\n",
              "0      1.268270\n",
              "1      1.894790\n",
              "2      3.277145\n",
              "3      2.458544\n",
              "4      4.134612\n",
              "         ...   \n",
              "175    4.439841\n",
              "176    1.600118\n",
              "177    3.932823\n",
              "178    3.675920\n",
              "179    4.284663\n",
              "Name: N, Length: 180, dtype: float64"
            ]
          },
          "metadata": {},
          "execution_count": 833
        }
      ]
    },
    {
      "cell_type": "code",
      "source": [
        "k_fold = KFold(n_splits=5, shuffle = True)\n",
        "\n",
        "for train_indices, test_indices in k_fold.split(x):\n",
        "    print('Train: %s | test: %s' % (train_indices, test_indices))\n",
        "\n",
        "    # select indices to create data_test and data_train\n",
        "    data_train = data.iloc[train_indices]\n",
        "    data_test = data.iloc[test_indices]\n",
        "\n",
        "    # fill NA/NaN values using the specified method: https://stackoverflow.com/questions/19966018/pandas-filling-missing-values-by-mean-in-each-group\n",
        "    # fill in E with group mean per lizard in data_train\n",
        "    data_train['E'] = data_train['E'].fillna(data_train.groupby('ID_e')['E'].transform('mean'))\n",
        "    # fill in N with group mean per lizard in data_train\n",
        "    data_train['N'] = data_train['N'].fillna(data_train.groupby('ID_e')['N'].transform('mean'))\n",
        "    # fill in E with group mean per lizard in data_test\n",
        "    data_test['E'] = data_test['E'].fillna(data_test.groupby('ID_e')['E'].transform('mean'))\n",
        "    # fill in N with group mean per lizard in data_test\n",
        "    data_test['N'] = data_test['N'].fillna(data_test.groupby('ID_e')['N'].transform('mean'))"
      ],
      "metadata": {
        "colab": {
          "base_uri": "https://localhost:8080/"
        },
        "id": "-PaqRtTK6MIl",
        "outputId": "41471805-366a-48e2-f4c6-7378effd1326"
      },
      "execution_count": 844,
      "outputs": [
        {
          "output_type": "stream",
          "name": "stdout",
          "text": [
            "Train: [   0    1    2 ... 7186 7187 7188] | test: [   3    7   18 ... 7169 7174 7181]\n",
            "Train: [   1    2    3 ... 7186 7187 7188] | test: [   0    8    9 ... 7180 7183 7184]\n",
            "Train: [   0    1    2 ... 7186 7187 7188] | test: [   5    6   10 ... 7164 7173 7185]\n",
            "Train: [   0    2    3 ... 7184 7185 7186] | test: [   1    4   15 ... 7178 7187 7188]\n",
            "Train: [   0    1    3 ... 7185 7187 7188] | test: [   2   11   12 ... 7177 7182 7186]\n"
          ]
        },
        {
          "output_type": "stream",
          "name": "stderr",
          "text": [
            "/usr/local/lib/python3.7/dist-packages/ipykernel_launcher.py:12: SettingWithCopyWarning: \n",
            "A value is trying to be set on a copy of a slice from a DataFrame.\n",
            "Try using .loc[row_indexer,col_indexer] = value instead\n",
            "\n",
            "See the caveats in the documentation: https://pandas.pydata.org/pandas-docs/stable/user_guide/indexing.html#returning-a-view-versus-a-copy\n",
            "  if sys.path[0] == '':\n",
            "/usr/local/lib/python3.7/dist-packages/ipykernel_launcher.py:14: SettingWithCopyWarning: \n",
            "A value is trying to be set on a copy of a slice from a DataFrame.\n",
            "Try using .loc[row_indexer,col_indexer] = value instead\n",
            "\n",
            "See the caveats in the documentation: https://pandas.pydata.org/pandas-docs/stable/user_guide/indexing.html#returning-a-view-versus-a-copy\n",
            "  \n",
            "/usr/local/lib/python3.7/dist-packages/ipykernel_launcher.py:16: SettingWithCopyWarning: \n",
            "A value is trying to be set on a copy of a slice from a DataFrame.\n",
            "Try using .loc[row_indexer,col_indexer] = value instead\n",
            "\n",
            "See the caveats in the documentation: https://pandas.pydata.org/pandas-docs/stable/user_guide/indexing.html#returning-a-view-versus-a-copy\n",
            "  app.launch_new_instance()\n",
            "/usr/local/lib/python3.7/dist-packages/ipykernel_launcher.py:18: SettingWithCopyWarning: \n",
            "A value is trying to be set on a copy of a slice from a DataFrame.\n",
            "Try using .loc[row_indexer,col_indexer] = value instead\n",
            "\n",
            "See the caveats in the documentation: https://pandas.pydata.org/pandas-docs/stable/user_guide/indexing.html#returning-a-view-versus-a-copy\n"
          ]
        }
      ]
    },
    {
      "cell_type": "code",
      "source": [
        "len(data_test) + len(data_train) == len(data)"
      ],
      "metadata": {
        "colab": {
          "base_uri": "https://localhost:8080/"
        },
        "id": "iIdwIUuXA-p5",
        "outputId": "ab7c38de-55dd-4363-c3fe-36e1615afe6e"
      },
      "execution_count": 845,
      "outputs": [
        {
          "output_type": "execute_result",
          "data": {
            "text/plain": [
              "True"
            ]
          },
          "metadata": {},
          "execution_count": 845
        }
      ]
    },
    {
      "cell_type": "code",
      "source": [
        "data_train"
      ],
      "metadata": {
        "colab": {
          "base_uri": "https://localhost:8080/",
          "height": 424
        },
        "id": "q2_0WrXLB1Dz",
        "outputId": "dc9d6eca-7684-4874-acb3-dbee5dbf70a9"
      },
      "execution_count": 846,
      "outputs": [
        {
          "output_type": "execute_result",
          "data": {
            "text/plain": [
              "      ID_e         E         N  Sex        Date  Cell  Label\n",
              "0        0  5.583066  1.175189    1  125.518750     1      0\n",
              "1        0  5.325020  0.962680    1  171.430556     1      0\n",
              "3        0  3.761561  2.010046    1  171.520833     1      0\n",
              "4        0  3.739851  1.144831    1  165.504167     1      0\n",
              "5        0  1.302529  1.235906    1  166.770833     1      0\n",
              "...    ...       ...       ...  ...         ...   ...    ...\n",
              "7183   179  3.867477  4.284663    0  144.526389     9      2\n",
              "7184   179  1.103858  4.284663    0  144.652778     9      2\n",
              "7185   179  3.699470  4.284663    0  144.722917     9      2\n",
              "7187   179  0.497900  1.169597    0  142.520833     9      2\n",
              "7188   179  3.990179  1.146944    0  142.572222     9      2\n",
              "\n",
              "[5752 rows x 7 columns]"
            ],
            "text/html": [
              "\n",
              "  <div id=\"df-9ef86b3e-8317-45fc-965a-58b056fe1101\">\n",
              "    <div class=\"colab-df-container\">\n",
              "      <div>\n",
              "<style scoped>\n",
              "    .dataframe tbody tr th:only-of-type {\n",
              "        vertical-align: middle;\n",
              "    }\n",
              "\n",
              "    .dataframe tbody tr th {\n",
              "        vertical-align: top;\n",
              "    }\n",
              "\n",
              "    .dataframe thead th {\n",
              "        text-align: right;\n",
              "    }\n",
              "</style>\n",
              "<table border=\"1\" class=\"dataframe\">\n",
              "  <thead>\n",
              "    <tr style=\"text-align: right;\">\n",
              "      <th></th>\n",
              "      <th>ID_e</th>\n",
              "      <th>E</th>\n",
              "      <th>N</th>\n",
              "      <th>Sex</th>\n",
              "      <th>Date</th>\n",
              "      <th>Cell</th>\n",
              "      <th>Label</th>\n",
              "    </tr>\n",
              "  </thead>\n",
              "  <tbody>\n",
              "    <tr>\n",
              "      <th>0</th>\n",
              "      <td>0</td>\n",
              "      <td>5.583066</td>\n",
              "      <td>1.175189</td>\n",
              "      <td>1</td>\n",
              "      <td>125.518750</td>\n",
              "      <td>1</td>\n",
              "      <td>0</td>\n",
              "    </tr>\n",
              "    <tr>\n",
              "      <th>1</th>\n",
              "      <td>0</td>\n",
              "      <td>5.325020</td>\n",
              "      <td>0.962680</td>\n",
              "      <td>1</td>\n",
              "      <td>171.430556</td>\n",
              "      <td>1</td>\n",
              "      <td>0</td>\n",
              "    </tr>\n",
              "    <tr>\n",
              "      <th>3</th>\n",
              "      <td>0</td>\n",
              "      <td>3.761561</td>\n",
              "      <td>2.010046</td>\n",
              "      <td>1</td>\n",
              "      <td>171.520833</td>\n",
              "      <td>1</td>\n",
              "      <td>0</td>\n",
              "    </tr>\n",
              "    <tr>\n",
              "      <th>4</th>\n",
              "      <td>0</td>\n",
              "      <td>3.739851</td>\n",
              "      <td>1.144831</td>\n",
              "      <td>1</td>\n",
              "      <td>165.504167</td>\n",
              "      <td>1</td>\n",
              "      <td>0</td>\n",
              "    </tr>\n",
              "    <tr>\n",
              "      <th>5</th>\n",
              "      <td>0</td>\n",
              "      <td>1.302529</td>\n",
              "      <td>1.235906</td>\n",
              "      <td>1</td>\n",
              "      <td>166.770833</td>\n",
              "      <td>1</td>\n",
              "      <td>0</td>\n",
              "    </tr>\n",
              "    <tr>\n",
              "      <th>...</th>\n",
              "      <td>...</td>\n",
              "      <td>...</td>\n",
              "      <td>...</td>\n",
              "      <td>...</td>\n",
              "      <td>...</td>\n",
              "      <td>...</td>\n",
              "      <td>...</td>\n",
              "    </tr>\n",
              "    <tr>\n",
              "      <th>7183</th>\n",
              "      <td>179</td>\n",
              "      <td>3.867477</td>\n",
              "      <td>4.284663</td>\n",
              "      <td>0</td>\n",
              "      <td>144.526389</td>\n",
              "      <td>9</td>\n",
              "      <td>2</td>\n",
              "    </tr>\n",
              "    <tr>\n",
              "      <th>7184</th>\n",
              "      <td>179</td>\n",
              "      <td>1.103858</td>\n",
              "      <td>4.284663</td>\n",
              "      <td>0</td>\n",
              "      <td>144.652778</td>\n",
              "      <td>9</td>\n",
              "      <td>2</td>\n",
              "    </tr>\n",
              "    <tr>\n",
              "      <th>7185</th>\n",
              "      <td>179</td>\n",
              "      <td>3.699470</td>\n",
              "      <td>4.284663</td>\n",
              "      <td>0</td>\n",
              "      <td>144.722917</td>\n",
              "      <td>9</td>\n",
              "      <td>2</td>\n",
              "    </tr>\n",
              "    <tr>\n",
              "      <th>7187</th>\n",
              "      <td>179</td>\n",
              "      <td>0.497900</td>\n",
              "      <td>1.169597</td>\n",
              "      <td>0</td>\n",
              "      <td>142.520833</td>\n",
              "      <td>9</td>\n",
              "      <td>2</td>\n",
              "    </tr>\n",
              "    <tr>\n",
              "      <th>7188</th>\n",
              "      <td>179</td>\n",
              "      <td>3.990179</td>\n",
              "      <td>1.146944</td>\n",
              "      <td>0</td>\n",
              "      <td>142.572222</td>\n",
              "      <td>9</td>\n",
              "      <td>2</td>\n",
              "    </tr>\n",
              "  </tbody>\n",
              "</table>\n",
              "<p>5752 rows × 7 columns</p>\n",
              "</div>\n",
              "      <button class=\"colab-df-convert\" onclick=\"convertToInteractive('df-9ef86b3e-8317-45fc-965a-58b056fe1101')\"\n",
              "              title=\"Convert this dataframe to an interactive table.\"\n",
              "              style=\"display:none;\">\n",
              "        \n",
              "  <svg xmlns=\"http://www.w3.org/2000/svg\" height=\"24px\"viewBox=\"0 0 24 24\"\n",
              "       width=\"24px\">\n",
              "    <path d=\"M0 0h24v24H0V0z\" fill=\"none\"/>\n",
              "    <path d=\"M18.56 5.44l.94 2.06.94-2.06 2.06-.94-2.06-.94-.94-2.06-.94 2.06-2.06.94zm-11 1L8.5 8.5l.94-2.06 2.06-.94-2.06-.94L8.5 2.5l-.94 2.06-2.06.94zm10 10l.94 2.06.94-2.06 2.06-.94-2.06-.94-.94-2.06-.94 2.06-2.06.94z\"/><path d=\"M17.41 7.96l-1.37-1.37c-.4-.4-.92-.59-1.43-.59-.52 0-1.04.2-1.43.59L10.3 9.45l-7.72 7.72c-.78.78-.78 2.05 0 2.83L4 21.41c.39.39.9.59 1.41.59.51 0 1.02-.2 1.41-.59l7.78-7.78 2.81-2.81c.8-.78.8-2.07 0-2.86zM5.41 20L4 18.59l7.72-7.72 1.47 1.35L5.41 20z\"/>\n",
              "  </svg>\n",
              "      </button>\n",
              "      \n",
              "  <style>\n",
              "    .colab-df-container {\n",
              "      display:flex;\n",
              "      flex-wrap:wrap;\n",
              "      gap: 12px;\n",
              "    }\n",
              "\n",
              "    .colab-df-convert {\n",
              "      background-color: #E8F0FE;\n",
              "      border: none;\n",
              "      border-radius: 50%;\n",
              "      cursor: pointer;\n",
              "      display: none;\n",
              "      fill: #1967D2;\n",
              "      height: 32px;\n",
              "      padding: 0 0 0 0;\n",
              "      width: 32px;\n",
              "    }\n",
              "\n",
              "    .colab-df-convert:hover {\n",
              "      background-color: #E2EBFA;\n",
              "      box-shadow: 0px 1px 2px rgba(60, 64, 67, 0.3), 0px 1px 3px 1px rgba(60, 64, 67, 0.15);\n",
              "      fill: #174EA6;\n",
              "    }\n",
              "\n",
              "    [theme=dark] .colab-df-convert {\n",
              "      background-color: #3B4455;\n",
              "      fill: #D2E3FC;\n",
              "    }\n",
              "\n",
              "    [theme=dark] .colab-df-convert:hover {\n",
              "      background-color: #434B5C;\n",
              "      box-shadow: 0px 1px 3px 1px rgba(0, 0, 0, 0.15);\n",
              "      filter: drop-shadow(0px 1px 2px rgba(0, 0, 0, 0.3));\n",
              "      fill: #FFFFFF;\n",
              "    }\n",
              "  </style>\n",
              "\n",
              "      <script>\n",
              "        const buttonEl =\n",
              "          document.querySelector('#df-9ef86b3e-8317-45fc-965a-58b056fe1101 button.colab-df-convert');\n",
              "        buttonEl.style.display =\n",
              "          google.colab.kernel.accessAllowed ? 'block' : 'none';\n",
              "\n",
              "        async function convertToInteractive(key) {\n",
              "          const element = document.querySelector('#df-9ef86b3e-8317-45fc-965a-58b056fe1101');\n",
              "          const dataTable =\n",
              "            await google.colab.kernel.invokeFunction('convertToInteractive',\n",
              "                                                     [key], {});\n",
              "          if (!dataTable) return;\n",
              "\n",
              "          const docLinkHtml = 'Like what you see? Visit the ' +\n",
              "            '<a target=\"_blank\" href=https://colab.research.google.com/notebooks/data_table.ipynb>data table notebook</a>'\n",
              "            + ' to learn more about interactive tables.';\n",
              "          element.innerHTML = '';\n",
              "          dataTable['output_type'] = 'display_data';\n",
              "          await google.colab.output.renderOutput(dataTable, element);\n",
              "          const docLink = document.createElement('div');\n",
              "          docLink.innerHTML = docLinkHtml;\n",
              "          element.appendChild(docLink);\n",
              "        }\n",
              "      </script>\n",
              "    </div>\n",
              "  </div>\n",
              "  "
            ]
          },
          "metadata": {},
          "execution_count": 846
        }
      ]
    },
    {
      "cell_type": "code",
      "source": [
        "x_train = data_train.loc[:, data.columns != 'Label'].to_numpy() # ID_e, E, N, Sex, Date, Cell\n",
        "np.sum(np.isnan(x_train), 0) # no more NaNs"
      ],
      "metadata": {
        "colab": {
          "base_uri": "https://localhost:8080/"
        },
        "id": "JWpcVcPY6hMY",
        "outputId": "8c60d0cb-2a14-47f0-dbc5-b08190c2cc80"
      },
      "execution_count": 847,
      "outputs": [
        {
          "output_type": "execute_result",
          "data": {
            "text/plain": [
              "array([0, 0, 0, 0, 0, 0])"
            ]
          },
          "metadata": {},
          "execution_count": 847
        }
      ]
    },
    {
      "cell_type": "code",
      "source": [
        "x_test = data_train.loc[:, data.columns != 'Label'].to_numpy() # ID_e, E, N, Sex, Date, Cell\n",
        "np.sum(np.isnan(x_test), 0) # no more NaNs"
      ],
      "metadata": {
        "colab": {
          "base_uri": "https://localhost:8080/"
        },
        "id": "k10aCkuJB_c_",
        "outputId": "d8d05e1f-de7c-4276-d451-98f5c5f263e3"
      },
      "execution_count": 848,
      "outputs": [
        {
          "output_type": "execute_result",
          "data": {
            "text/plain": [
              "array([0, 0, 0, 0, 0, 0])"
            ]
          },
          "metadata": {},
          "execution_count": 848
        }
      ]
    },
    {
      "cell_type": "markdown",
      "metadata": {
        "id": "EmPtyXHaErvZ"
      },
      "source": [
        "## Further reading on Pandas\n",
        "\n",
        "Pandas is a key python library for datascience.  There's a good youtube tutorial on it here https://www.youtube.com/watch?v=dPwLlJkSHLo "
      ]
    }
  ],
  "metadata": {
    "kernelspec": {
      "display_name": "Python 3 (ipykernel)",
      "language": "python",
      "name": "python3"
    },
    "language_info": {
      "codemirror_mode": {
        "name": "ipython",
        "version": 3
      },
      "file_extension": ".py",
      "mimetype": "text/x-python",
      "name": "python",
      "nbconvert_exporter": "python",
      "pygments_lexer": "ipython3",
      "version": "3.10.4"
    },
    "colab": {
      "name": "1_Pandas_and_preprocessing_in_scikit-learn.ipynb",
      "provenance": [],
      "collapsed_sections": [],
      "include_colab_link": true
    }
  },
  "nbformat": 4,
  "nbformat_minor": 0
}