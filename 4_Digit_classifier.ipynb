{
  "cells": [
    {
      "cell_type": "markdown",
      "metadata": {
        "id": "view-in-github",
        "colab_type": "text"
      },
      "source": [
        "<a href=\"https://colab.research.google.com/github/stefaniemeliss/IADS_SC_2022_ML_Intro/blob/main/4_Digit_classifier.ipynb\" target=\"_parent\"><img src=\"https://colab.research.google.com/assets/colab-badge.svg\" alt=\"Open In Colab\"/></a>"
      ]
    },
    {
      "cell_type": "markdown",
      "metadata": {
        "id": "Ae1TCOU3Cjei"
      },
      "source": [
        "# Digit Classification with sklearn"
      ]
    },
    {
      "cell_type": "markdown",
      "metadata": {
        "id": "VIK4RZmfCjem"
      },
      "source": [
        "By: Jacobo Fernandez-Vargas and Luca Citi\n",
        "\n",
        "Based on the [scikit-learn documentation](http://scikit-learn.org/stable/tutorial/basic/tutorial.html)"
      ]
    },
    {
      "cell_type": "markdown",
      "metadata": {
        "id": "StCDxoj7Cjem"
      },
      "source": [
        "## Loading the 'digits' dataset"
      ]
    },
    {
      "cell_type": "markdown",
      "metadata": {
        "id": "W6MAIwbECjen"
      },
      "source": [
        "Scikit-learn comes with a few standard datasets, for instance the *Iris* and *digits* datasets for classification and the *Boston house prices* dataset for regression."
      ]
    },
    {
      "cell_type": "code",
      "execution_count": null,
      "metadata": {
        "id": "4119dgYNCjen"
      },
      "outputs": [],
      "source": [
        "from sklearn import datasets\n",
        "\n",
        "digits = datasets.load_digits()"
      ]
    },
    {
      "cell_type": "markdown",
      "metadata": {
        "id": "wRGEck1TCjeo"
      },
      "source": [
        "A dataset is a dictionary-like object that holds all the data and some metadata about the data. The data is stored in the `.data` member, which is usually a `n_samples` by `n_features` array. In the case of supervised problem, one or more response variables are stored in the `.target` member."
      ]
    },
    {
      "cell_type": "markdown",
      "metadata": {
        "id": "Yso7VFE2Cjep"
      },
      "source": [
        "For instance, in the case of the digits dataset, `digits.data` gives access to the features that can be used to classify the digits samples:"
      ]
    },
    {
      "cell_type": "code",
      "execution_count": null,
      "metadata": {
        "id": "8VZHRykkCjeq",
        "outputId": "fd277964-0b88-4a12-81cb-e09dcd08c0af",
        "colab": {
          "base_uri": "https://localhost:8080/"
        }
      },
      "outputs": [
        {
          "output_type": "stream",
          "name": "stdout",
          "text": [
            "(1797, 64)\n",
            "[[ 0.  0.  5. ...  0.  0.  0.]\n",
            " [ 0.  0.  0. ... 10.  0.  0.]\n",
            " [ 0.  0.  0. ... 16.  9.  0.]\n",
            " ...\n",
            " [ 0.  0.  1. ...  6.  0.  0.]\n",
            " [ 0.  0.  2. ... 12.  0.  0.]\n",
            " [ 0.  0. 10. ... 12.  1.  0.]]\n"
          ]
        }
      ],
      "source": [
        "print(digits.data.shape)\n",
        "print(digits.data)"
      ]
    },
    {
      "cell_type": "markdown",
      "metadata": {
        "id": "RZgXeJ0yCjer"
      },
      "source": [
        "and `digits.target` gives the ground truth for the digit dataset, that is the number corresponding to each digit image that we are trying to learn:"
      ]
    },
    {
      "cell_type": "code",
      "execution_count": null,
      "metadata": {
        "id": "lmic_3GpCjer",
        "outputId": "36ee98d1-deda-4410-d9be-cf52fc1d240a",
        "colab": {
          "base_uri": "https://localhost:8080/"
        }
      },
      "outputs": [
        {
          "output_type": "stream",
          "name": "stdout",
          "text": [
            "(1797,)\n",
            "[0 1 2 ... 8 9 8]\n"
          ]
        }
      ],
      "source": [
        "print(digits.target.shape)\n",
        "print(digits.target)"
      ]
    },
    {
      "cell_type": "markdown",
      "metadata": {
        "id": "fBd4UWIBCjes"
      },
      "source": [
        "We can view the individual images in this dataset.  Here we'll just display the first 4."
      ]
    },
    {
      "cell_type": "code",
      "execution_count": null,
      "metadata": {
        "id": "uSMx8TcsCjes",
        "colab": {
          "base_uri": "https://localhost:8080/",
          "height": 1000
        },
        "outputId": "921ef449-c44d-43dc-f87e-933eb2e369ba"
      },
      "outputs": [
        {
          "output_type": "display_data",
          "data": {
            "text/plain": [
              "<Figure size 288x288 with 1 Axes>"
            ],
            "image/png": "[encoded data removed]"
          },
          "metadata": {
            "needs_background": "light"
          }
        },
        {
          "output_type": "display_data",
          "data": {
            "text/plain": [
              "<Figure size 288x288 with 1 Axes>"
            ],
            "image/png": "[encoded data removed]"
          },
          "metadata": {
            "needs_background": "light"
          }
        },
        {
          "output_type": "display_data",
          "data": {
            "text/plain": [
              "<Figure size 288x288 with 1 Axes>"
            ],
            "image/png": "[encoded data removed]"
          },
          "metadata": {
            "needs_background": "light"
          }
        },
        {
          "output_type": "display_data",
          "data": {
            "text/plain": [
              "<Figure size 288x288 with 1 Axes>"
            ],
            "image/png": "[encoded data removed]"
          },
          "metadata": {
            "needs_background": "light"
          }
        }
      ],
      "source": [
        "import numpy as np\n",
        "from matplotlib import pyplot as plt\n",
        "\n",
        "# display the first 4 images in the dataset\n",
        "for i in range(4):\n",
        "    plt.matshow(digits.images[i], cmap='binary')"
      ]
    },
    {
      "cell_type": "markdown",
      "metadata": {
        "id": "m4OERejVCjet"
      },
      "source": [
        "## Learning and predicting\n",
        "In the case of the digits dataset, the task is to predict, given an image, which digit it represents. We are given samples of each of the 10 possible classes (the digits 0 through 9). These can be used to fit an estimator to predict the class an unseen example belongs to.\n",
        "\n",
        "In scikit-learn, an estimator for classification is a Python object that implements the methods `fit(X, y)` and `predict(T)`. If you remember in the last lab we saw that the preprocessing classes had the methods `fit(X, y)` and `transform(T)`. We will see the differences later.\n",
        "\n",
        "An example of an estimator is the class `sklearn.svm.SVC` that implements support vector classification. The constructor of an estimator takes as arguments the parameters of the model, but for the time being, we will consider the estimator as a black box:"
      ]
    },
    {
      "cell_type": "code",
      "execution_count": null,
      "metadata": {
        "id": "Xi_vT22jCjeu"
      },
      "outputs": [],
      "source": [
        "from sklearn import svm\n",
        "\n",
        "clf = svm.SVC(gamma=0.0001, C=100.)"
      ]
    },
    {
      "cell_type": "markdown",
      "metadata": {
        "id": "xNZWkl0BCjeu"
      },
      "source": [
        "We call our estimator instance `clf`, as it is a classifier. **It now must be fitted to the model, that is, it must learn from the data**. This is done by passing our training set to the `fit` method. As a training set, let us use all the images of our dataset apart from the last one. We select this training set with the `[:-1]` Python syntax, which produces a new array that contains **all but the last entry** of `digits.data`:"
      ]
    },
    {
      "cell_type": "code",
      "execution_count": null,
      "metadata": {
        "id": "JsDhaR18Cjeu",
        "colab": {
          "base_uri": "https://localhost:8080/"
        },
        "outputId": "50cd3f5a-b608-4628-c21e-1ada143cabdc"
      },
      "outputs": [
        {
          "output_type": "execute_result",
          "data": {
            "text/plain": [
              "SVC(C=100.0, gamma=0.0001)"
            ]
          },
          "metadata": {},
          "execution_count": 6
        }
      ],
      "source": [
        "clf.fit(digits.data[:-1], digits.target[:-1])"
      ]
    },
    {
      "cell_type": "markdown",
      "metadata": {
        "id": "oUEhmyK0Cjeu"
      },
      "source": [
        "Now you can predict new values. In particular, we can ask to the classifier to recognise the digit of our last image in the digits dataset, which we have not used to train the classifier:"
      ]
    },
    {
      "cell_type": "code",
      "execution_count": null,
      "metadata": {
        "id": "aU7h04KnCjev",
        "colab": {
          "base_uri": "https://localhost:8080/"
        },
        "outputId": "6409b119-d0da-44c5-b6b5-1e9c63e37127"
      },
      "outputs": [
        {
          "output_type": "execute_result",
          "data": {
            "text/plain": [
              "array([8])"
            ]
          },
          "metadata": {},
          "execution_count": 7
        }
      ],
      "source": [
        "clf.predict(digits.data[-1:])"
      ]
    },
    {
      "cell_type": "markdown",
      "metadata": {
        "id": "Mx9LmUfJCjev"
      },
      "source": [
        "The corresponding image is the following.\n",
        "As you can see, it is a challenging task: the images are of poor resolution."
      ]
    },
    {
      "cell_type": "code",
      "execution_count": null,
      "metadata": {
        "id": "eABQz7STCjev",
        "colab": {
          "base_uri": "https://localhost:8080/",
          "height": 292
        },
        "outputId": "35c5a6df-d1ae-45a9-b84e-0d498dae0a36"
      },
      "outputs": [
        {
          "output_type": "stream",
          "name": "stdout",
          "text": [
            "Correct label 8 SVM prediction [8]\n"
          ]
        },
        {
          "output_type": "display_data",
          "data": {
            "text/plain": [
              "<Figure size 288x288 with 1 Axes>"
            ],
            "image/png": "[encoded data removed]"
          },
          "metadata": {
            "needs_background": "light"
          }
        }
      ],
      "source": [
        "%matplotlib inline\n",
        "import numpy as np\n",
        "from matplotlib import pyplot as plt\n",
        "\n",
        "plt.matshow(digits.images[-1], cmap='binary')\n",
        "print(\"Correct label\",digits.target[-1], \"SVM prediction\",clf.predict(digits.data[-1:]))"
      ]
    },
    {
      "cell_type": "markdown",
      "metadata": {
        "id": "i7ePmmiBCjew"
      },
      "source": [
        "Did your SVM classify the digit correctly?\n",
        "\n",
        "Was this example which it classified used in the training set?"
      ]
    },
    {
      "cell_type": "markdown",
      "metadata": {
        "id": "fr2EKlhzCjew"
      },
      "source": [
        "## Grid-search\n",
        "\n",
        "Almost all classifiers have parameters that need to be set.  For example, the SVM above which you used relied on \"C\" and \"gamma\" being chosen carefully to work well.  These are called \"hyper parameters\" of the ML algorithm.\n",
        "\n",
        "The meaning and roles of these kinds of pararmeters differ largely between classifiers and their appropiate selection can have huge impact on the results (but some times they may have almost no effect). This parameter fitting should happen inside a cross-validation process. Scikit-learn provides `GridSeachCV` that, given data, fit of an estimator on each combination of parameters on parameter grid and then chooses the parameters to maximize the cross validation score. To use this, we need to specify the classifier that we want to use and the values of the parameters that we want to test (through a dictionary). Interestingly, the  `GridSeachCV` constructor creates an object that can be used as a predcictor, using its `fit`, `predict`, `score`, ... methods; in other words it is a meta-predictor (i.e. a preditor built from other predictors, an SVM in thisd case) that can be used like any other predictors:"
      ]
    },
    {
      "cell_type": "code",
      "execution_count": null,
      "metadata": {
        "id": "Ocok8HBBCjew",
        "colab": {
          "base_uri": "https://localhost:8080/"
        },
        "outputId": "2f727761-390f-4294-9bae-1e0f3a5b4c20"
      },
      "outputs": [
        {
          "output_type": "execute_result",
          "data": {
            "text/plain": [
              "1.0"
            ]
          },
          "metadata": {},
          "execution_count": 9
        }
      ],
      "source": [
        "from sklearn.model_selection import GridSearchCV\n",
        "\n",
        "clf = svm.SVC(gamma=0.01, C=10.)\n",
        "Cs = np.logspace(-1, 3, 5)  # five logarithmically spaced values of C\n",
        "Gs = np.logspace(-7, -0, 5)  # five logarithmically spaced values of gamma\n",
        "clf = GridSearchCV(estimator=clf, param_grid=dict(C=Cs, gamma=Gs), n_jobs=-1)\n",
        "\n",
        "clf.fit(digits.data, digits.target)\n",
        "clf.score(digits.data, digits.target)"
      ]
    },
    {
      "cell_type": "markdown",
      "metadata": {
        "id": "xmubUVKkCjex"
      },
      "source": [
        "**IMPORTANT NOTE**\n",
        "\n",
        "The way we trained and tested (fit, score) is WRONG! You should not calculate the score with the same data used for training, as we saw in the previous lectures and lab. We did it this way for demonstration purposes of how the GridSeachCV class works. The fact that we see a score of 1.0 (100%) should make us suspicious: it's often a sign that we did something wrong (either that or the problem is trivial)."
      ]
    },
    {
      "cell_type": "markdown",
      "metadata": {
        "id": "JqXems64Cjex"
      },
      "source": [
        "We can see how the different values of C and gamma affect the performance:"
      ]
    },
    {
      "cell_type": "code",
      "execution_count": null,
      "metadata": {
        "id": "OTqYG4QmCjex",
        "colab": {
          "base_uri": "https://localhost:8080/",
          "height": 265
        },
        "outputId": "c7457542-35b7-4373-a269-14d2475d3067"
      },
      "outputs": [
        {
          "output_type": "stream",
          "name": "stdout",
          "text": [
            "Best parameters:  {'C': 100.0, 'gamma': 0.00031622776601683794}\n"
          ]
        },
        {
          "output_type": "display_data",
          "data": {
            "text/plain": [
              "<Figure size 432x288 with 2 Axes>"
            ],
            "image/png": "[encoded data removed]"
          },
          "metadata": {
            "needs_background": "light"
          }
        }
      ],
      "source": [
        "# Grid results for last fold\n",
        "scores = clf.cv_results_['mean_test_score'].reshape(len(Cs), len(Gs))\n",
        "extent = np.log10([Gs[0], Gs[-1], Cs[0], Cs[-1]])\n",
        "im = plt.imshow(scores, extent=extent, origin='lower')\n",
        "plt.colorbar(im)\n",
        "plt.contour(np.log10(Gs), np.log10(Cs), scores)\n",
        "plt.xlabel('log10(Gamma)')\n",
        "plt.ylabel('log10(C)')\n",
        "print('Best parameters: ', clf.best_params_)"
      ]
    },
    {
      "cell_type": "markdown",
      "metadata": {
        "id": "9nml8mQcCjex"
      },
      "source": [
        "## Automated cross validation\n",
        "\n",
        "In the previous lab we saw the importance of using fold validation and we saw a way of implementing it. Fortunately, sklearn provides us with tools that take care of most of the heavy lifting: `cross_val_score` and `cross_val_predict`. The former returns only the score (the error function value, for example MSE), while the latter returns all the predicted values. In general, the score is enough to validate a model and compare different options. However, having all the predicted values may be useful in some cases."
      ]
    },
    {
      "cell_type": "markdown",
      "metadata": {
        "id": "wkRd-S5vCjex"
      },
      "source": [
        "The following code may take some time as it is performing nested cross-validation. This is because the `cross_val_score` function performs cross-validation on a meta-predictor that internally performs another cross-validation loop. The result is a nested cross-validation where `cross_val_score` performs the outer loop for performance estimation and the `GridSeachCV` object takes care of the inner one for parameter tuning."
      ]
    },
    {
      "cell_type": "code",
      "execution_count": null,
      "metadata": {
        "id": "A9sOrPFcCjey",
        "colab": {
          "base_uri": "https://localhost:8080/"
        },
        "outputId": "b468e085-ffea-41d5-cab9-628f6c3181ea"
      },
      "outputs": [
        {
          "output_type": "stream",
          "name": "stdout",
          "text": [
            "[0.98055556 0.95555556 0.98050139 0.98885794 0.95821727]\n"
          ]
        }
      ],
      "source": [
        "from sklearn.model_selection import cross_val_score\n",
        "\n",
        "score = cross_val_score(clf, digits.data, digits.target, cv=5) \n",
        "print(score)"
      ]
    },
    {
      "cell_type": "markdown",
      "metadata": {
        "id": "dh6gXy0sCjey"
      },
      "source": [
        "As you can see the score from the fold validation varies fold to fold and it is not 1."
      ]
    },
    {
      "cell_type": "markdown",
      "metadata": {
        "id": "dOdLimbDCjey"
      },
      "source": [
        "# Testing different classifiers"
      ]
    },
    {
      "cell_type": "markdown",
      "metadata": {
        "id": "gAVDnD-LCjey"
      },
      "source": [
        "### Exercise 1"
      ]
    },
    {
      "cell_type": "markdown",
      "metadata": {
        "id": "sq8evz0ACjey"
      },
      "source": [
        "Try other classifiers to solve the problem and compare their results. Suggestions for classifiers: Logistic Regression, Decision Trees. You will need to look up the documentation to find which are the parameters to be fit as well as the different classes available. Once you do this, you will see how easy is to change the model and test different approaches with this set up."
      ]
    },
    {
      "cell_type": "markdown",
      "metadata": {
        "id": "JI3WtX5MCjey"
      },
      "source": [
        "# Regression and unsupervised learning"
      ]
    },
    {
      "cell_type": "markdown",
      "metadata": {
        "id": "t3KMVCd4Cjey"
      },
      "source": [
        "In this lab we have seen how to use sklearn to solve a classification problem, which is why we used support vector machines. However, everything that we have seen here can be applied to both regression and (to some extent) unsupervised learning. Depending on the problem we will need to vary the model used for the prediction but most of the concepts seen on this lab also apply to those cases."
      ]
    },
    {
      "cell_type": "markdown",
      "metadata": {
        "id": "aLSWwGiJCjez"
      },
      "source": [
        "### Exercise 2"
      ]
    },
    {
      "cell_type": "markdown",
      "metadata": {
        "id": "OfGa4nSaCjez"
      },
      "source": [
        "Load the boston dataset form sklearn `datasets.load_boston` and use what you have learned to solve a regression problem."
      ]
    }
  ],
  "metadata": {
    "kernelspec": {
      "display_name": "Python 3 (ipykernel)",
      "language": "python",
      "name": "python3"
    },
    "language_info": {
      "codemirror_mode": {
        "name": "ipython",
        "version": 3
      },
      "file_extension": ".py",
      "mimetype": "text/x-python",
      "name": "python",
      "nbconvert_exporter": "python",
      "pygments_lexer": "ipython3",
      "version": "3.10.4"
    },
    "colab": {
      "name": "4_Digit_classifier.ipynb",
      "provenance": [],
      "include_colab_link": true
    }
  },
  "nbformat": 4,
  "nbformat_minor": 0
}